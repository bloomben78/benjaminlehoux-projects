{
 "cells": [
  {
   "cell_type": "markdown",
   "id": "830b9238",
   "metadata": {
    "papermill": {
     "duration": 0.020777,
     "end_time": "2023-11-02T20:16:57.763460",
     "exception": false,
     "start_time": "2023-11-02T20:16:57.742683",
     "status": "completed"
    },
    "tags": []
   },
   "source": [
    "## We will analyze the E-Commerce dataset to answer the following questions:\n",
    "\n",
    "1. Maximum orders by quantity\n",
    "2. Top 10 revenue generating products\n",
    "3. Revenue trends by month, by day and by date\n",
    "4. Create a model and select the best model to predict sales"
   ]
  },
  {
   "cell_type": "code",
   "execution_count": null,
   "id": "20d311e4",
   "metadata": {
    "execution": {
     "iopub.execute_input": "2023-11-02T20:16:57.809173Z",
     "iopub.status.busy": "2023-11-02T20:16:57.808153Z",
     "iopub.status.idle": "2023-11-02T20:16:58.251868Z",
     "shell.execute_reply": "2023-11-02T20:16:58.250475Z"
    },
    "papermill": {
     "duration": 0.469567,
     "end_time": "2023-11-02T20:16:58.254545",
     "exception": false,
     "start_time": "2023-11-02T20:16:57.784978",
     "status": "completed"
    },
    "tags": []
   },
   "outputs": [
    {
     "name": "stdout",
     "output_type": "stream",
     "text": [
      "/kaggle/input/an-online-shop-business/Sales Transaction v.4a.csv\n"
     ]
    }
   ],
   "source": [
    "\n",
    "\n",
    "import numpy as np \n",
    "import pandas as pd \n",
    "\n",
    "\n",
    "\n",
    "import os\n",
    "for dirname, _, filenames in os.walk('/kaggle/input'):\n",
    "    for filename in filenames:\n",
    "        print(os.path.join(dirname, filename))\n"
   ]
  },
  {
   "cell_type": "code",
   "execution_count": 2,
   "id": "420dc27f",
   "metadata": {
    "execution": {
     "iopub.execute_input": "2023-11-02T20:16:58.297139Z",
     "iopub.status.busy": "2023-11-02T20:16:58.296601Z",
     "iopub.status.idle": "2023-11-02T20:16:59.954130Z",
     "shell.execute_reply": "2023-11-02T20:16:59.952835Z"
    },
    "papermill": {
     "duration": 1.682114,
     "end_time": "2023-11-02T20:16:59.956946",
     "exception": false,
     "start_time": "2023-11-02T20:16:58.274832",
     "status": "completed"
    },
    "tags": []
   },
   "outputs": [],
   "source": [
    "import pandas as pd\n",
    "import numpy as np\n",
    "from matplotlib import pyplot as plt\n",
    "import seaborn as sns\n",
    "import math\n",
    "import warnings\n",
    "warnings.filterwarnings(\"ignore\")"
   ]
  },
  {
   "cell_type": "code",
   "execution_count": 3,
   "id": "26e3ca95",
   "metadata": {
    "execution": {
     "iopub.execute_input": "2023-11-02T20:17:00.000958Z",
     "iopub.status.busy": "2023-11-02T20:16:59.999938Z",
     "iopub.status.idle": "2023-11-02T20:17:01.473013Z",
     "shell.execute_reply": "2023-11-02T20:17:01.471833Z"
    },
    "papermill": {
     "duration": 1.497898,
     "end_time": "2023-11-02T20:17:01.475871",
     "exception": false,
     "start_time": "2023-11-02T20:16:59.977973",
     "status": "completed"
    },
    "tags": []
   },
   "outputs": [],
   "source": [
    "# Specify the directory path\n",
    "dir_path = '/kaggle/input/an-online-shop-business'\n",
    "\n",
    "# List the files in the directory\n",
    "files = os.listdir(dir_path)\n",
    "\n",
    "\n",
    "csv_files = [file for file in files if file.endswith('.csv')]\n",
    "\n",
    "\n",
    "if not csv_files:\n",
    "    print(\"No CSV files found in the directory.\")\n",
    "else:\n",
    "    \n",
    "    csv_file = csv_files[0]\n",
    "    df = pd.read_csv(os.path.join(dir_path, csv_file))"
   ]
  },
  {
   "cell_type": "code",
   "execution_count": 4,
   "id": "9aa74a2d",
   "metadata": {
    "execution": {
     "iopub.execute_input": "2023-11-02T20:17:01.518999Z",
     "iopub.status.busy": "2023-11-02T20:17:01.518565Z",
     "iopub.status.idle": "2023-11-02T20:17:01.526658Z",
     "shell.execute_reply": "2023-11-02T20:17:01.525019Z"
    },
    "papermill": {
     "duration": 0.032572,
     "end_time": "2023-11-02T20:17:01.529222",
     "exception": false,
     "start_time": "2023-11-02T20:17:01.496650",
     "status": "completed"
    },
    "tags": []
   },
   "outputs": [
    {
     "data": {
      "text/plain": [
       "(536350, 8)"
      ]
     },
     "execution_count": 4,
     "metadata": {},
     "output_type": "execute_result"
    }
   ],
   "source": [
    "df.shape"
   ]
  },
  {
   "cell_type": "code",
   "execution_count": 5,
   "id": "8c6b5bae",
   "metadata": {
    "execution": {
     "iopub.execute_input": "2023-11-02T20:17:01.572907Z",
     "iopub.status.busy": "2023-11-02T20:17:01.572469Z",
     "iopub.status.idle": "2023-11-02T20:17:01.879231Z",
     "shell.execute_reply": "2023-11-02T20:17:01.877875Z"
    },
    "papermill": {
     "duration": 0.331956,
     "end_time": "2023-11-02T20:17:01.882158",
     "exception": false,
     "start_time": "2023-11-02T20:17:01.550202",
     "status": "completed"
    },
    "tags": []
   },
   "outputs": [
    {
     "name": "stdout",
     "output_type": "stream",
     "text": [
      "<class 'pandas.core.frame.DataFrame'>\n",
      "RangeIndex: 536350 entries, 0 to 536349\n",
      "Data columns (total 8 columns):\n",
      " #   Column         Non-Null Count   Dtype  \n",
      "---  ------         --------------   -----  \n",
      " 0   TransactionNo  536350 non-null  object \n",
      " 1   Date           536350 non-null  object \n",
      " 2   ProductNo      536350 non-null  object \n",
      " 3   ProductName    536350 non-null  object \n",
      " 4   Price          536350 non-null  float64\n",
      " 5   Quantity       536350 non-null  int64  \n",
      " 6   CustomerNo     536295 non-null  float64\n",
      " 7   Country        536350 non-null  object \n",
      "dtypes: float64(2), int64(1), object(5)\n",
      "memory usage: 32.7+ MB\n"
     ]
    }
   ],
   "source": [
    "df.info()"
   ]
  },
  {
   "cell_type": "markdown",
   "id": "5d928164",
   "metadata": {
    "papermill": {
     "duration": 0.020628,
     "end_time": "2023-11-02T20:17:01.923982",
     "exception": false,
     "start_time": "2023-11-02T20:17:01.903354",
     "status": "completed"
    },
    "tags": []
   },
   "source": [
    "****Checking for Null values by column****"
   ]
  },
  {
   "cell_type": "code",
   "execution_count": 6,
   "id": "08f84776",
   "metadata": {
    "execution": {
     "iopub.execute_input": "2023-11-02T20:17:01.967272Z",
     "iopub.status.busy": "2023-11-02T20:17:01.966863Z",
     "iopub.status.idle": "2023-11-02T20:17:02.252591Z",
     "shell.execute_reply": "2023-11-02T20:17:02.251415Z"
    },
    "papermill": {
     "duration": 0.310625,
     "end_time": "2023-11-02T20:17:02.255274",
     "exception": false,
     "start_time": "2023-11-02T20:17:01.944649",
     "status": "completed"
    },
    "tags": []
   },
   "outputs": [
    {
     "data": {
      "text/plain": [
       "TransactionNo     0\n",
       "Date              0\n",
       "ProductNo         0\n",
       "ProductName       0\n",
       "Price             0\n",
       "Quantity          0\n",
       "CustomerNo       55\n",
       "Country           0\n",
       "dtype: int64"
      ]
     },
     "execution_count": 6,
     "metadata": {},
     "output_type": "execute_result"
    }
   ],
   "source": [
    "df.isnull().sum()"
   ]
  },
  {
   "cell_type": "code",
   "execution_count": 7,
   "id": "47582926",
   "metadata": {
    "execution": {
     "iopub.execute_input": "2023-11-02T20:17:02.299093Z",
     "iopub.status.busy": "2023-11-02T20:17:02.298612Z",
     "iopub.status.idle": "2023-11-02T20:17:02.584090Z",
     "shell.execute_reply": "2023-11-02T20:17:02.583171Z"
    },
    "papermill": {
     "duration": 0.310071,
     "end_time": "2023-11-02T20:17:02.586421",
     "exception": false,
     "start_time": "2023-11-02T20:17:02.276350",
     "status": "completed"
    },
    "tags": []
   },
   "outputs": [
    {
     "data": {
      "text/plain": [
       "TransactionNo    23204\n",
       "Date               305\n",
       "ProductNo         3768\n",
       "ProductName       3768\n",
       "Price              530\n",
       "Quantity           510\n",
       "CustomerNo        4738\n",
       "Country             38\n",
       "dtype: int64"
      ]
     },
     "execution_count": 7,
     "metadata": {},
     "output_type": "execute_result"
    }
   ],
   "source": [
    "## Checking unique values by column\n",
    "\n",
    "df.nunique()"
   ]
  },
  {
   "cell_type": "markdown",
   "id": "54b27b5c",
   "metadata": {
    "papermill": {
     "duration": 0.020529,
     "end_time": "2023-11-02T20:17:02.628276",
     "exception": false,
     "start_time": "2023-11-02T20:17:02.607747",
     "status": "completed"
    },
    "tags": []
   },
   "source": [
    "### The transaction numbers \"23204\" seems to be less than the total rows, which means for each transaction more than one product could have been purchased. Checking for any duplicate values in the dataset"
   ]
  },
  {
   "cell_type": "code",
   "execution_count": 8,
   "id": "0f513409",
   "metadata": {
    "execution": {
     "iopub.execute_input": "2023-11-02T20:17:02.672654Z",
     "iopub.status.busy": "2023-11-02T20:17:02.672242Z",
     "iopub.status.idle": "2023-11-02T20:17:03.092916Z",
     "shell.execute_reply": "2023-11-02T20:17:03.091798Z"
    },
    "papermill": {
     "duration": 0.446576,
     "end_time": "2023-11-02T20:17:03.095687",
     "exception": false,
     "start_time": "2023-11-02T20:17:02.649111",
     "status": "completed"
    },
    "tags": []
   },
   "outputs": [
    {
     "data": {
      "text/plain": [
       "9994"
      ]
     },
     "execution_count": 8,
     "metadata": {},
     "output_type": "execute_result"
    }
   ],
   "source": [
    "df.duplicated(keep=False).sum()"
   ]
  },
  {
   "cell_type": "markdown",
   "id": "aec9e473",
   "metadata": {
    "papermill": {
     "duration": 0.084065,
     "end_time": "2023-11-02T20:17:03.201328",
     "exception": false,
     "start_time": "2023-11-02T20:17:03.117263",
     "status": "completed"
    },
    "tags": []
   },
   "source": [
    "## Data Cleaning"
   ]
  },
  {
   "cell_type": "code",
   "execution_count": 9,
   "id": "f25d6833",
   "metadata": {
    "execution": {
     "iopub.execute_input": "2023-11-02T20:17:03.245550Z",
     "iopub.status.busy": "2023-11-02T20:17:03.245144Z",
     "iopub.status.idle": "2023-11-02T20:17:03.583165Z",
     "shell.execute_reply": "2023-11-02T20:17:03.581845Z"
    },
    "papermill": {
     "duration": 0.363123,
     "end_time": "2023-11-02T20:17:03.585779",
     "exception": false,
     "start_time": "2023-11-02T20:17:03.222656",
     "status": "completed"
    },
    "tags": []
   },
   "outputs": [
    {
     "data": {
      "text/plain": [
       "(536295, 8)"
      ]
     },
     "execution_count": 9,
     "metadata": {},
     "output_type": "execute_result"
    }
   ],
   "source": [
    "# Dropping the null values\n",
    "\n",
    "df = df.dropna()\n",
    "df.shape"
   ]
  },
  {
   "cell_type": "code",
   "execution_count": 10,
   "id": "7ff8c818",
   "metadata": {
    "execution": {
     "iopub.execute_input": "2023-11-02T20:17:03.631515Z",
     "iopub.status.busy": "2023-11-02T20:17:03.631130Z",
     "iopub.status.idle": "2023-11-02T20:17:04.120704Z",
     "shell.execute_reply": "2023-11-02T20:17:04.119362Z"
    },
    "papermill": {
     "duration": 0.516411,
     "end_time": "2023-11-02T20:17:04.124253",
     "exception": false,
     "start_time": "2023-11-02T20:17:03.607842",
     "status": "completed"
    },
    "tags": []
   },
   "outputs": [
    {
     "data": {
      "text/plain": [
       "(531095, 8)"
      ]
     },
     "execution_count": 10,
     "metadata": {},
     "output_type": "execute_result"
    }
   ],
   "source": [
    "## Dropping duplicates\n",
    "\n",
    "df = df.drop_duplicates()\n",
    "df.shape"
   ]
  },
  {
   "cell_type": "code",
   "execution_count": 11,
   "id": "783f8a6b",
   "metadata": {
    "execution": {
     "iopub.execute_input": "2023-11-02T20:17:04.176551Z",
     "iopub.status.busy": "2023-11-02T20:17:04.176051Z",
     "iopub.status.idle": "2023-11-02T20:17:04.261889Z",
     "shell.execute_reply": "2023-11-02T20:17:04.261001Z"
    },
    "papermill": {
     "duration": 0.11183,
     "end_time": "2023-11-02T20:17:04.264452",
     "exception": false,
     "start_time": "2023-11-02T20:17:04.152622",
     "status": "completed"
    },
    "tags": []
   },
   "outputs": [
    {
     "data": {
      "text/html": [
       "<div>\n",
       "<style scoped>\n",
       "    .dataframe tbody tr th:only-of-type {\n",
       "        vertical-align: middle;\n",
       "    }\n",
       "\n",
       "    .dataframe tbody tr th {\n",
       "        vertical-align: top;\n",
       "    }\n",
       "\n",
       "    .dataframe thead th {\n",
       "        text-align: right;\n",
       "    }\n",
       "</style>\n",
       "<table border=\"1\" class=\"dataframe\">\n",
       "  <thead>\n",
       "    <tr style=\"text-align: right;\">\n",
       "      <th></th>\n",
       "      <th>Price</th>\n",
       "      <th>Quantity</th>\n",
       "      <th>CustomerNo</th>\n",
       "    </tr>\n",
       "  </thead>\n",
       "  <tbody>\n",
       "    <tr>\n",
       "      <th>count</th>\n",
       "      <td>531095.000000</td>\n",
       "      <td>531095.000000</td>\n",
       "      <td>531095.000000</td>\n",
       "    </tr>\n",
       "    <tr>\n",
       "      <th>mean</th>\n",
       "      <td>12.669635</td>\n",
       "      <td>9.993146</td>\n",
       "      <td>15222.612241</td>\n",
       "    </tr>\n",
       "    <tr>\n",
       "      <th>std</th>\n",
       "      <td>8.526181</td>\n",
       "      <td>217.710261</td>\n",
       "      <td>1716.633588</td>\n",
       "    </tr>\n",
       "    <tr>\n",
       "      <th>min</th>\n",
       "      <td>5.130000</td>\n",
       "      <td>-80995.000000</td>\n",
       "      <td>12004.000000</td>\n",
       "    </tr>\n",
       "    <tr>\n",
       "      <th>25%</th>\n",
       "      <td>10.990000</td>\n",
       "      <td>1.000000</td>\n",
       "      <td>13798.000000</td>\n",
       "    </tr>\n",
       "    <tr>\n",
       "      <th>50%</th>\n",
       "      <td>11.940000</td>\n",
       "      <td>3.000000</td>\n",
       "      <td>15146.000000</td>\n",
       "    </tr>\n",
       "    <tr>\n",
       "      <th>75%</th>\n",
       "      <td>14.090000</td>\n",
       "      <td>10.000000</td>\n",
       "      <td>16727.000000</td>\n",
       "    </tr>\n",
       "    <tr>\n",
       "      <th>max</th>\n",
       "      <td>660.620000</td>\n",
       "      <td>80995.000000</td>\n",
       "      <td>18287.000000</td>\n",
       "    </tr>\n",
       "  </tbody>\n",
       "</table>\n",
       "</div>"
      ],
      "text/plain": [
       "               Price       Quantity     CustomerNo\n",
       "count  531095.000000  531095.000000  531095.000000\n",
       "mean       12.669635       9.993146   15222.612241\n",
       "std         8.526181     217.710261    1716.633588\n",
       "min         5.130000  -80995.000000   12004.000000\n",
       "25%        10.990000       1.000000   13798.000000\n",
       "50%        11.940000       3.000000   15146.000000\n",
       "75%        14.090000      10.000000   16727.000000\n",
       "max       660.620000   80995.000000   18287.000000"
      ]
     },
     "execution_count": 11,
     "metadata": {},
     "output_type": "execute_result"
    }
   ],
   "source": [
    "df.describe()"
   ]
  },
  {
   "cell_type": "code",
   "execution_count": 12,
   "id": "6273a004",
   "metadata": {
    "execution": {
     "iopub.execute_input": "2023-11-02T20:17:04.309927Z",
     "iopub.status.busy": "2023-11-02T20:17:04.309491Z",
     "iopub.status.idle": "2023-11-02T20:17:04.700033Z",
     "shell.execute_reply": "2023-11-02T20:17:04.698847Z"
    },
    "papermill": {
     "duration": 0.416256,
     "end_time": "2023-11-02T20:17:04.702742",
     "exception": false,
     "start_time": "2023-11-02T20:17:04.286486",
     "status": "completed"
    },
    "tags": []
   },
   "outputs": [
    {
     "data": {
      "image/png": "[encoded data removed]",
      "text/plain": [
       "<Figure size 640x480 with 1 Axes>"
      ]
     },
     "metadata": {},
     "output_type": "display_data"
    }
   ],
   "source": [
    "##Checking for outliers in the data\n",
    "\n",
    "sns.boxplot(y = 'Quantity', data = df)\n",
    "plt.show()"
   ]
  },
  {
   "cell_type": "code",
   "execution_count": 13,
   "id": "d2353a64",
   "metadata": {
    "execution": {
     "iopub.execute_input": "2023-11-02T20:17:04.750802Z",
     "iopub.status.busy": "2023-11-02T20:17:04.749571Z",
     "iopub.status.idle": "2023-11-02T20:17:04.769002Z",
     "shell.execute_reply": "2023-11-02T20:17:04.767482Z"
    },
    "papermill": {
     "duration": 0.046075,
     "end_time": "2023-11-02T20:17:04.771693",
     "exception": false,
     "start_time": "2023-11-02T20:17:04.725618",
     "status": "completed"
    },
    "tags": []
   },
   "outputs": [
    {
     "name": "stdout",
     "output_type": "stream",
     "text": [
      "9.0\n"
     ]
    }
   ],
   "source": [
    "# Calculate the IQR(interquartile range)\n",
    "IQR = np.percentile(df[\"Quantity\"], 75) - np.percentile(df[\"Quantity\"], 25)\n",
    "print(IQR)"
   ]
  },
  {
   "cell_type": "code",
   "execution_count": 14,
   "id": "047d2b6f",
   "metadata": {
    "execution": {
     "iopub.execute_input": "2023-11-02T20:17:04.820580Z",
     "iopub.status.busy": "2023-11-02T20:17:04.820172Z",
     "iopub.status.idle": "2023-11-02T20:17:04.902383Z",
     "shell.execute_reply": "2023-11-02T20:17:04.900895Z"
    },
    "papermill": {
     "duration": 0.110278,
     "end_time": "2023-11-02T20:17:04.904810",
     "exception": false,
     "start_time": "2023-11-02T20:17:04.794532",
     "status": "completed"
    },
    "tags": []
   },
   "outputs": [
    {
     "name": "stdout",
     "output_type": "stream",
     "text": [
      "IQR is  9.0\n"
     ]
    },
    {
     "data": {
      "text/plain": [
       "(473852, 8)"
      ]
     },
     "execution_count": 14,
     "metadata": {},
     "output_type": "execute_result"
    }
   ],
   "source": [
    "# Identify and remove outliers\n",
    "import numpy as np\n",
    "\n",
    "# Calculate the Interquartile Range (IQR)\n",
    "Q1 = np.percentile(df['Quantity'], 25)\n",
    "Q3 = np.percentile(df['Quantity'], 75)\n",
    "IQR = Q3 - Q1\n",
    "print(\"IQR is \", IQR)\n",
    "\n",
    "# Define the upper and lower bounds for identifying outliers\n",
    "upper_bound = Q3 + 1.5 * IQR\n",
    "lower_bound = Q1 - 1.5 * IQR\n",
    "\n",
    "# Filter outliers based on the bounds\n",
    "outliers = (df['Quantity'] > upper_bound) | (df['Quantity'] < lower_bound)\n",
    "\n",
    "# Remove the outliers\n",
    "df = df[~outliers]\n",
    "df.shape"
   ]
  },
  {
   "cell_type": "code",
   "execution_count": 15,
   "id": "bfddcf2f",
   "metadata": {
    "execution": {
     "iopub.execute_input": "2023-11-02T20:17:04.951999Z",
     "iopub.status.busy": "2023-11-02T20:17:04.951622Z",
     "iopub.status.idle": "2023-11-02T20:17:05.206455Z",
     "shell.execute_reply": "2023-11-02T20:17:05.205206Z"
    },
    "papermill": {
     "duration": 0.281786,
     "end_time": "2023-11-02T20:17:05.209111",
     "exception": false,
     "start_time": "2023-11-02T20:17:04.927325",
     "status": "completed"
    },
    "tags": []
   },
   "outputs": [
    {
     "data": {
      "image/png": "[encoded data removed]",
      "text/plain": [
       "<Figure size 640x480 with 1 Axes>"
      ]
     },
     "metadata": {},
     "output_type": "display_data"
    }
   ],
   "source": [
    "##Checking for outliers in the data\n",
    "\n",
    "sns.boxplot(y = 'Quantity', data = df)\n",
    "plt.show()"
   ]
  },
  {
   "cell_type": "code",
   "execution_count": 16,
   "id": "45abecbf",
   "metadata": {
    "execution": {
     "iopub.execute_input": "2023-11-02T20:17:05.257718Z",
     "iopub.status.busy": "2023-11-02T20:17:05.256708Z",
     "iopub.status.idle": "2023-11-02T20:17:05.535917Z",
     "shell.execute_reply": "2023-11-02T20:17:05.534773Z"
    },
    "papermill": {
     "duration": 0.306094,
     "end_time": "2023-11-02T20:17:05.538452",
     "exception": false,
     "start_time": "2023-11-02T20:17:05.232358",
     "status": "completed"
    },
    "tags": []
   },
   "outputs": [
    {
     "data": {
      "image/png": "[encoded data removed]",
      "text/plain": [
       "<Figure size 640x480 with 1 Axes>"
      ]
     },
     "metadata": {},
     "output_type": "display_data"
    }
   ],
   "source": [
    "df = df[df['Quantity'] >= 0]\n",
    "\n",
    "sns.boxplot(y = 'Quantity', data = df)\n",
    "plt.show()"
   ]
  },
  {
   "cell_type": "code",
   "execution_count": 17,
   "id": "0ad92d0b",
   "metadata": {
    "execution": {
     "iopub.execute_input": "2023-11-02T20:17:05.586697Z",
     "iopub.status.busy": "2023-11-02T20:17:05.585568Z",
     "iopub.status.idle": "2023-11-02T20:17:05.635495Z",
     "shell.execute_reply": "2023-11-02T20:17:05.634220Z"
    },
    "papermill": {
     "duration": 0.077236,
     "end_time": "2023-11-02T20:17:05.638392",
     "exception": false,
     "start_time": "2023-11-02T20:17:05.561156",
     "status": "completed"
    },
    "tags": []
   },
   "outputs": [
    {
     "data": {
      "text/plain": [
       "38"
      ]
     },
     "execution_count": 17,
     "metadata": {},
     "output_type": "execute_result"
    }
   ],
   "source": [
    "# Checking the number of countries where orders have been shipped\n",
    "df['Country'].nunique()"
   ]
  },
  {
   "cell_type": "markdown",
   "id": "ddcc367c",
   "metadata": {
    "papermill": {
     "duration": 0.024883,
     "end_time": "2023-11-02T20:17:05.687057",
     "exception": false,
     "start_time": "2023-11-02T20:17:05.662174",
     "status": "completed"
    },
    "tags": []
   },
   "source": [
    "The data countains order data from 38 countries"
   ]
  },
  {
   "cell_type": "code",
   "execution_count": 18,
   "id": "9959aff3",
   "metadata": {
    "execution": {
     "iopub.execute_input": "2023-11-02T20:17:05.739549Z",
     "iopub.status.busy": "2023-11-02T20:17:05.738894Z",
     "iopub.status.idle": "2023-11-02T20:17:05.828114Z",
     "shell.execute_reply": "2023-11-02T20:17:05.826962Z"
    },
    "papermill": {
     "duration": 0.117596,
     "end_time": "2023-11-02T20:17:05.830558",
     "exception": false,
     "start_time": "2023-11-02T20:17:05.712962",
     "status": "completed"
    },
    "tags": []
   },
   "outputs": [
    {
     "data": {
      "text/plain": [
       "Country\n",
       "United Kingdom          91.468681\n",
       "France                   1.912455\n",
       "Germany                  1.866782\n",
       "EIRE                     1.309707\n",
       "Belgium                  0.479025\n",
       "Spain                    0.443645\n",
       "Switzerland              0.389824\n",
       "Portugal                 0.351442\n",
       "Australia                0.200487\n",
       "Austria                  0.182047\n",
       "Iceland                  0.160604\n",
       "Norway                   0.136803\n",
       "Netherlands              0.126939\n",
       "Italy                    0.120507\n",
       "Finland                  0.116218\n",
       "Cyprus                   0.112359\n",
       "Channel Islands          0.108499\n",
       "Unspecified              0.084269\n",
       "Israel                   0.056608\n",
       "Denmark                  0.053606\n",
       "USA                      0.047817\n",
       "Sweden                   0.039025\n",
       "Poland                   0.034951\n",
       "Singapore                0.028304\n",
       "Malta                    0.026803\n",
       "Canada                   0.024016\n",
       "Hong Kong                0.022943\n",
       "Japan                    0.022729\n",
       "Greece                   0.012865\n",
       "RSA                      0.012222\n",
       "United Arab Emirates     0.011365\n",
       "European Community       0.010936\n",
       "Lebanon                  0.009435\n",
       "Brazil                   0.004932\n",
       "Lithuania                0.004932\n",
       "Bahrain                  0.003002\n",
       "Saudi Arabia             0.001930\n",
       "Czech Republic           0.001287\n",
       "Name: proportion, dtype: float64"
      ]
     },
     "execution_count": 18,
     "metadata": {},
     "output_type": "execute_result"
    }
   ],
   "source": [
    "# Getting the breakdown by percentage shipments to each county.\n",
    "\n",
    "df['Country'].value_counts(normalize=True)*100"
   ]
  },
  {
   "cell_type": "code",
   "execution_count": 19,
   "id": "0c222c83",
   "metadata": {
    "execution": {
     "iopub.execute_input": "2023-11-02T20:17:05.879156Z",
     "iopub.status.busy": "2023-11-02T20:17:05.878470Z",
     "iopub.status.idle": "2023-11-02T20:17:06.053827Z",
     "shell.execute_reply": "2023-11-02T20:17:06.052626Z"
    },
    "papermill": {
     "duration": 0.202691,
     "end_time": "2023-11-02T20:17:06.056437",
     "exception": false,
     "start_time": "2023-11-02T20:17:05.853746",
     "status": "completed"
    },
    "tags": []
   },
   "outputs": [
    {
     "data": {
      "text/plain": [
       "Country\n",
       "United Kingdom    100.0\n",
       "Name: proportion, dtype: float64"
      ]
     },
     "execution_count": 19,
     "metadata": {},
     "output_type": "execute_result"
    }
   ],
   "source": [
    "# Drop all other data points except \"United Kingdom\" as that is more than 90% of our entire data.\n",
    "df = df.drop(df.index[~df['Country'].isin([\"United Kingdom\"])])\n",
    "\n",
    "df['Country'].value_counts(normalize=True)*100"
   ]
  },
  {
   "cell_type": "code",
   "execution_count": 20,
   "id": "f5c4f0ee",
   "metadata": {
    "execution": {
     "iopub.execute_input": "2023-11-02T20:17:06.107946Z",
     "iopub.status.busy": "2023-11-02T20:17:06.107520Z",
     "iopub.status.idle": "2023-11-02T20:17:06.113724Z",
     "shell.execute_reply": "2023-11-02T20:17:06.112987Z"
    },
    "papermill": {
     "duration": 0.034476,
     "end_time": "2023-11-02T20:17:06.115935",
     "exception": false,
     "start_time": "2023-11-02T20:17:06.081459",
     "status": "completed"
    },
    "tags": []
   },
   "outputs": [
    {
     "data": {
      "text/plain": [
       "(426577, 8)"
      ]
     },
     "execution_count": 20,
     "metadata": {},
     "output_type": "execute_result"
    }
   ],
   "source": [
    "df.shape"
   ]
  },
  {
   "cell_type": "code",
   "execution_count": 21,
   "id": "9c830ede",
   "metadata": {
    "execution": {
     "iopub.execute_input": "2023-11-02T20:17:06.167416Z",
     "iopub.status.busy": "2023-11-02T20:17:06.166658Z",
     "iopub.status.idle": "2023-11-02T20:17:08.928450Z",
     "shell.execute_reply": "2023-11-02T20:17:08.927296Z"
    },
    "papermill": {
     "duration": 2.790771,
     "end_time": "2023-11-02T20:17:08.931293",
     "exception": false,
     "start_time": "2023-11-02T20:17:06.140522",
     "status": "completed"
    },
    "tags": []
   },
   "outputs": [
    {
     "data": {
      "text/html": [
       "        <script type=\"text/javascript\">\n",
       "        window.PlotlyConfig = {MathJaxConfig: 'local'};\n",
       "        if (window.MathJax && window.MathJax.Hub && window.MathJax.Hub.Config) {window.MathJax.Hub.Config({SVG: {font: \"STIX-Web\"}});}\n",
       "        if (typeof require !== 'undefined') {\n",
       "        require.undef(\"plotly\");\n",
       "        requirejs.config({\n",
       "            paths: {\n",
       "                'plotly': ['https://cdn.plot.ly/plotly-2.24.1.min']\n",
       "            }\n",
       "        });\n",
       "        require(['plotly'], function(Plotly) {\n",
       "            window._Plotly = Plotly;\n",
       "        });\n",
       "        }\n",
       "        </script>\n",
       "        "
      ]
     },
     "metadata": {},
     "output_type": "display_data"
    },
    {
     "data": {
      "text/html": [
       "<div>                            <div id=\"9877c286-4183-4249-a97c-244ed4ef880f\" class=\"plotly-graph-div\" style=\"height:525px; width:100%;\"></div>            <script type=\"text/javascript\">                require([\"plotly\"], function(Plotly) {                    window.PLOTLYENV=window.PLOTLYENV || {};                                    if (document.getElementById(\"9877c286-4183-4249-a97c-244ed4ef880f\")) {                    Plotly.newPlot(                        \"9877c286-4183-4249-a97c-244ed4ef880f\",                        [{\"alignmentgroup\":\"True\",\"hovertemplate\":\"x=%{x}\\u003cbr\\u003ey=%{y}\\u003cextra\\u003e\\u003c\\u002fextra\\u003e\",\"legendgroup\":\"\",\"marker\":{\"color\":\"#636efa\",\"pattern\":{\"shape\":\"\"}},\"name\":\"\",\"offsetgroup\":\"\",\"orientation\":\"v\",\"showlegend\":false,\"textposition\":\"auto\",\"x\":[1,2,12,6,4,3,10,5,8,20,16,7,9,18,11,15,13,14,17,19,22,21,23],\"xaxis\":\"x\",\"y\":[136894,76408,50669,34951,34517,34419,19423,11009,10853,4202,3531,2732,1842,1533,901,732,549,531,253,210,159,159,100],\"yaxis\":\"y\",\"type\":\"bar\"}],                        {\"template\":{\"data\":{\"histogram2dcontour\":[{\"type\":\"histogram2dcontour\",\"colorbar\":{\"outlinewidth\":0,\"ticks\":\"\"},\"colorscale\":[[0.0,\"#0d0887\"],[0.1111111111111111,\"#46039f\"],[0.2222222222222222,\"#7201a8\"],[0.3333333333333333,\"#9c179e\"],[0.4444444444444444,\"#bd3786\"],[0.5555555555555556,\"#d8576b\"],[0.6666666666666666,\"#ed7953\"],[0.7777777777777778,\"#fb9f3a\"],[0.8888888888888888,\"#fdca26\"],[1.0,\"#f0f921\"]]}],\"choropleth\":[{\"type\":\"choropleth\",\"colorbar\":{\"outlinewidth\":0,\"ticks\":\"\"}}],\"histogram2d\":[{\"type\":\"histogram2d\",\"colorbar\":{\"outlinewidth\":0,\"ticks\":\"\"},\"colorscale\":[[0.0,\"#0d0887\"],[0.1111111111111111,\"#46039f\"],[0.2222222222222222,\"#7201a8\"],[0.3333333333333333,\"#9c179e\"],[0.4444444444444444,\"#bd3786\"],[0.5555555555555556,\"#d8576b\"],[0.6666666666666666,\"#ed7953\"],[0.7777777777777778,\"#fb9f3a\"],[0.8888888888888888,\"#fdca26\"],[1.0,\"#f0f921\"]]}],\"heatmap\":[{\"type\":\"heatmap\",\"colorbar\":{\"outlinewidth\":0,\"ticks\":\"\"},\"colorscale\":[[0.0,\"#0d0887\"],[0.1111111111111111,\"#46039f\"],[0.2222222222222222,\"#7201a8\"],[0.3333333333333333,\"#9c179e\"],[0.4444444444444444,\"#bd3786\"],[0.5555555555555556,\"#d8576b\"],[0.6666666666666666,\"#ed7953\"],[0.7777777777777778,\"#fb9f3a\"],[0.8888888888888888,\"#fdca26\"],[1.0,\"#f0f921\"]]}],\"heatmapgl\":[{\"type\":\"heatmapgl\",\"colorbar\":{\"outlinewidth\":0,\"ticks\":\"\"},\"colorscale\":[[0.0,\"#0d0887\"],[0.1111111111111111,\"#46039f\"],[0.2222222222222222,\"#7201a8\"],[0.3333333333333333,\"#9c179e\"],[0.4444444444444444,\"#bd3786\"],[0.5555555555555556,\"#d8576b\"],[0.6666666666666666,\"#ed7953\"],[0.7777777777777778,\"#fb9f3a\"],[0.8888888888888888,\"#fdca26\"],[1.0,\"#f0f921\"]]}],\"contourcarpet\":[{\"type\":\"contourcarpet\",\"colorbar\":{\"outlinewidth\":0,\"ticks\":\"\"}}],\"contour\":[{\"type\":\"contour\",\"colorbar\":{\"outlinewidth\":0,\"ticks\":\"\"},\"colorscale\":[[0.0,\"#0d0887\"],[0.1111111111111111,\"#46039f\"],[0.2222222222222222,\"#7201a8\"],[0.3333333333333333,\"#9c179e\"],[0.4444444444444444,\"#bd3786\"],[0.5555555555555556,\"#d8576b\"],[0.6666666666666666,\"#ed7953\"],[0.7777777777777778,\"#fb9f3a\"],[0.8888888888888888,\"#fdca26\"],[1.0,\"#f0f921\"]]}],\"surface\":[{\"type\":\"surface\",\"colorbar\":{\"outlinewidth\":0,\"ticks\":\"\"},\"colorscale\":[[0.0,\"#0d0887\"],[0.1111111111111111,\"#46039f\"],[0.2222222222222222,\"#7201a8\"],[0.3333333333333333,\"#9c179e\"],[0.4444444444444444,\"#bd3786\"],[0.5555555555555556,\"#d8576b\"],[0.6666666666666666,\"#ed7953\"],[0.7777777777777778,\"#fb9f3a\"],[0.8888888888888888,\"#fdca26\"],[1.0,\"#f0f921\"]]}],\"mesh3d\":[{\"type\":\"mesh3d\",\"colorbar\":{\"outlinewidth\":0,\"ticks\":\"\"}}],\"scatter\":[{\"fillpattern\":{\"fillmode\":\"overlay\",\"size\":10,\"solidity\":0.2},\"type\":\"scatter\"}],\"parcoords\":[{\"type\":\"parcoords\",\"line\":{\"colorbar\":{\"outlinewidth\":0,\"ticks\":\"\"}}}],\"scatterpolargl\":[{\"type\":\"scatterpolargl\",\"marker\":{\"colorbar\":{\"outlinewidth\":0,\"ticks\":\"\"}}}],\"bar\":[{\"error_x\":{\"color\":\"#2a3f5f\"},\"error_y\":{\"color\":\"#2a3f5f\"},\"marker\":{\"line\":{\"color\":\"#E5ECF6\",\"width\":0.5},\"pattern\":{\"fillmode\":\"overlay\",\"size\":10,\"solidity\":0.2}},\"type\":\"bar\"}],\"scattergeo\":[{\"type\":\"scattergeo\",\"marker\":{\"colorbar\":{\"outlinewidth\":0,\"ticks\":\"\"}}}],\"scatterpolar\":[{\"type\":\"scatterpolar\",\"marker\":{\"colorbar\":{\"outlinewidth\":0,\"ticks\":\"\"}}}],\"histogram\":[{\"marker\":{\"pattern\":{\"fillmode\":\"overlay\",\"size\":10,\"solidity\":0.2}},\"type\":\"histogram\"}],\"scattergl\":[{\"type\":\"scattergl\",\"marker\":{\"colorbar\":{\"outlinewidth\":0,\"ticks\":\"\"}}}],\"scatter3d\":[{\"type\":\"scatter3d\",\"line\":{\"colorbar\":{\"outlinewidth\":0,\"ticks\":\"\"}},\"marker\":{\"colorbar\":{\"outlinewidth\":0,\"ticks\":\"\"}}}],\"scattermapbox\":[{\"type\":\"scattermapbox\",\"marker\":{\"colorbar\":{\"outlinewidth\":0,\"ticks\":\"\"}}}],\"scatterternary\":[{\"type\":\"scatterternary\",\"marker\":{\"colorbar\":{\"outlinewidth\":0,\"ticks\":\"\"}}}],\"scattercarpet\":[{\"type\":\"scattercarpet\",\"marker\":{\"colorbar\":{\"outlinewidth\":0,\"ticks\":\"\"}}}],\"carpet\":[{\"aaxis\":{\"endlinecolor\":\"#2a3f5f\",\"gridcolor\":\"white\",\"linecolor\":\"white\",\"minorgridcolor\":\"white\",\"startlinecolor\":\"#2a3f5f\"},\"baxis\":{\"endlinecolor\":\"#2a3f5f\",\"gridcolor\":\"white\",\"linecolor\":\"white\",\"minorgridcolor\":\"white\",\"startlinecolor\":\"#2a3f5f\"},\"type\":\"carpet\"}],\"table\":[{\"cells\":{\"fill\":{\"color\":\"#EBF0F8\"},\"line\":{\"color\":\"white\"}},\"header\":{\"fill\":{\"color\":\"#C8D4E3\"},\"line\":{\"color\":\"white\"}},\"type\":\"table\"}],\"barpolar\":[{\"marker\":{\"line\":{\"color\":\"#E5ECF6\",\"width\":0.5},\"pattern\":{\"fillmode\":\"overlay\",\"size\":10,\"solidity\":0.2}},\"type\":\"barpolar\"}],\"pie\":[{\"automargin\":true,\"type\":\"pie\"}]},\"layout\":{\"autotypenumbers\":\"strict\",\"colorway\":[\"#636efa\",\"#EF553B\",\"#00cc96\",\"#ab63fa\",\"#FFA15A\",\"#19d3f3\",\"#FF6692\",\"#B6E880\",\"#FF97FF\",\"#FECB52\"],\"font\":{\"color\":\"#2a3f5f\"},\"hovermode\":\"closest\",\"hoverlabel\":{\"align\":\"left\"},\"paper_bgcolor\":\"white\",\"plot_bgcolor\":\"#E5ECF6\",\"polar\":{\"bgcolor\":\"#E5ECF6\",\"angularaxis\":{\"gridcolor\":\"white\",\"linecolor\":\"white\",\"ticks\":\"\"},\"radialaxis\":{\"gridcolor\":\"white\",\"linecolor\":\"white\",\"ticks\":\"\"}},\"ternary\":{\"bgcolor\":\"#E5ECF6\",\"aaxis\":{\"gridcolor\":\"white\",\"linecolor\":\"white\",\"ticks\":\"\"},\"baxis\":{\"gridcolor\":\"white\",\"linecolor\":\"white\",\"ticks\":\"\"},\"caxis\":{\"gridcolor\":\"white\",\"linecolor\":\"white\",\"ticks\":\"\"}},\"coloraxis\":{\"colorbar\":{\"outlinewidth\":0,\"ticks\":\"\"}},\"colorscale\":{\"sequential\":[[0.0,\"#0d0887\"],[0.1111111111111111,\"#46039f\"],[0.2222222222222222,\"#7201a8\"],[0.3333333333333333,\"#9c179e\"],[0.4444444444444444,\"#bd3786\"],[0.5555555555555556,\"#d8576b\"],[0.6666666666666666,\"#ed7953\"],[0.7777777777777778,\"#fb9f3a\"],[0.8888888888888888,\"#fdca26\"],[1.0,\"#f0f921\"]],\"sequentialminus\":[[0.0,\"#0d0887\"],[0.1111111111111111,\"#46039f\"],[0.2222222222222222,\"#7201a8\"],[0.3333333333333333,\"#9c179e\"],[0.4444444444444444,\"#bd3786\"],[0.5555555555555556,\"#d8576b\"],[0.6666666666666666,\"#ed7953\"],[0.7777777777777778,\"#fb9f3a\"],[0.8888888888888888,\"#fdca26\"],[1.0,\"#f0f921\"]],\"diverging\":[[0,\"#8e0152\"],[0.1,\"#c51b7d\"],[0.2,\"#de77ae\"],[0.3,\"#f1b6da\"],[0.4,\"#fde0ef\"],[0.5,\"#f7f7f7\"],[0.6,\"#e6f5d0\"],[0.7,\"#b8e186\"],[0.8,\"#7fbc41\"],[0.9,\"#4d9221\"],[1,\"#276419\"]]},\"xaxis\":{\"gridcolor\":\"white\",\"linecolor\":\"white\",\"ticks\":\"\",\"title\":{\"standoff\":15},\"zerolinecolor\":\"white\",\"automargin\":true,\"zerolinewidth\":2},\"yaxis\":{\"gridcolor\":\"white\",\"linecolor\":\"white\",\"ticks\":\"\",\"title\":{\"standoff\":15},\"zerolinecolor\":\"white\",\"automargin\":true,\"zerolinewidth\":2},\"scene\":{\"xaxis\":{\"backgroundcolor\":\"#E5ECF6\",\"gridcolor\":\"white\",\"linecolor\":\"white\",\"showbackground\":true,\"ticks\":\"\",\"zerolinecolor\":\"white\",\"gridwidth\":2},\"yaxis\":{\"backgroundcolor\":\"#E5ECF6\",\"gridcolor\":\"white\",\"linecolor\":\"white\",\"showbackground\":true,\"ticks\":\"\",\"zerolinecolor\":\"white\",\"gridwidth\":2},\"zaxis\":{\"backgroundcolor\":\"#E5ECF6\",\"gridcolor\":\"white\",\"linecolor\":\"white\",\"showbackground\":true,\"ticks\":\"\",\"zerolinecolor\":\"white\",\"gridwidth\":2}},\"shapedefaults\":{\"line\":{\"color\":\"#2a3f5f\"}},\"annotationdefaults\":{\"arrowcolor\":\"#2a3f5f\",\"arrowhead\":0,\"arrowwidth\":1},\"geo\":{\"bgcolor\":\"white\",\"landcolor\":\"#E5ECF6\",\"subunitcolor\":\"white\",\"showland\":true,\"showlakes\":true,\"lakecolor\":\"white\"},\"title\":{\"x\":0.05},\"mapbox\":{\"style\":\"light\"}}},\"xaxis\":{\"anchor\":\"y\",\"domain\":[0.0,1.0],\"title\":{\"text\":\"Quantity\"}},\"yaxis\":{\"anchor\":\"x\",\"domain\":[0.0,1.0],\"title\":{\"text\":\"Number of Orders\"}},\"legend\":{\"tracegroupgap\":0},\"title\":{\"text\":\"Number of orders by quantity\"},\"barmode\":\"relative\"},                        {\"responsive\": true}                    ).then(function(){\n",
       "                            \n",
       "var gd = document.getElementById('9877c286-4183-4249-a97c-244ed4ef880f');\n",
       "var x = new MutationObserver(function (mutations, observer) {{\n",
       "        var display = window.getComputedStyle(gd).display;\n",
       "        if (!display || display === 'none') {{\n",
       "            console.log([gd, 'removed!']);\n",
       "            Plotly.purge(gd);\n",
       "            observer.disconnect();\n",
       "        }}\n",
       "}});\n",
       "\n",
       "// Listen for the removal of the full notebook cells\n",
       "var notebookContainer = gd.closest('#notebook-container');\n",
       "if (notebookContainer) {{\n",
       "    x.observe(notebookContainer, {childList: true});\n",
       "}}\n",
       "\n",
       "// Listen for the clearing of the current output cell\n",
       "var outputEl = gd.closest('.output');\n",
       "if (outputEl) {{\n",
       "    x.observe(outputEl, {childList: true});\n",
       "}}\n",
       "\n",
       "                        })                };                });            </script>        </div>"
      ]
     },
     "metadata": {},
     "output_type": "display_data"
    }
   ],
   "source": [
    "import plotly.express as px\n",
    "\n",
    "# Get the number of orders by quantity\n",
    "n_orders_by_quantity = df['Quantity'].value_counts()\n",
    "\n",
    "# Create a bar chart\n",
    "fig = px.bar(x=n_orders_by_quantity.index, y=n_orders_by_quantity.values, title='Number of orders by quantity')\n",
    "\n",
    "# Update the title of the x-axis\n",
    "fig.update_xaxes(title='Quantity')\n",
    "fig.update_yaxes(title='Number of Orders')\n",
    "\n",
    "\n",
    "# Show the plot\n",
    "fig.show()"
   ]
  },
  {
   "cell_type": "code",
   "execution_count": 22,
   "id": "a9df5ff9",
   "metadata": {
    "execution": {
     "iopub.execute_input": "2023-11-02T20:17:08.984046Z",
     "iopub.status.busy": "2023-11-02T20:17:08.983428Z",
     "iopub.status.idle": "2023-11-02T20:17:08.992549Z",
     "shell.execute_reply": "2023-11-02T20:17:08.991385Z"
    },
    "papermill": {
     "duration": 0.039055,
     "end_time": "2023-11-02T20:17:08.995560",
     "exception": false,
     "start_time": "2023-11-02T20:17:08.956505",
     "status": "completed"
    },
    "tags": []
   },
   "outputs": [
    {
     "name": "stdout",
     "output_type": "stream",
     "text": [
      "Quantity\n",
      "1     32.09\n",
      "2     17.91\n",
      "12    11.88\n",
      "6      8.19\n",
      "4      8.09\n",
      "3      8.07\n",
      "10     4.55\n",
      "5      2.58\n",
      "8      2.54\n",
      "20     0.99\n",
      "16     0.83\n",
      "7      0.64\n",
      "9      0.43\n",
      "18     0.36\n",
      "11     0.21\n",
      "15     0.17\n",
      "13     0.13\n",
      "14     0.12\n",
      "17     0.06\n",
      "19     0.05\n",
      "22     0.04\n",
      "21     0.04\n",
      "23     0.02\n",
      "Name: count, dtype: float64\n"
     ]
    }
   ],
   "source": [
    "#Order count percentage\n",
    "\n",
    "OC = round(n_orders_by_quantity/df.shape[0],4)\n",
    "print(OC*100)\n",
    "\n"
   ]
  },
  {
   "cell_type": "markdown",
   "id": "da2d8570",
   "metadata": {
    "papermill": {
     "duration": 0.024305,
     "end_time": "2023-11-02T20:17:09.045902",
     "exception": false,
     "start_time": "2023-11-02T20:17:09.021597",
     "status": "completed"
    },
    "tags": []
   },
   "source": [
    "**It seems like 50% of the customers only ever place orders of 1 or 2 items at a time.**"
   ]
  },
  {
   "cell_type": "code",
   "execution_count": 23,
   "id": "c0da2cc3",
   "metadata": {
    "execution": {
     "iopub.execute_input": "2023-11-02T20:17:09.099919Z",
     "iopub.status.busy": "2023-11-02T20:17:09.099383Z",
     "iopub.status.idle": "2023-11-02T20:17:09.176909Z",
     "shell.execute_reply": "2023-11-02T20:17:09.174886Z"
    },
    "papermill": {
     "duration": 0.108515,
     "end_time": "2023-11-02T20:17:09.179845",
     "exception": false,
     "start_time": "2023-11-02T20:17:09.071330",
     "status": "completed"
    },
    "tags": []
   },
   "outputs": [
    {
     "name": "stdout",
     "output_type": "stream",
     "text": [
      "ProductName\n",
      "Jumbo Bag Red Retrospot               12547\n",
      "Assorted Colour Bird Ornament         10471\n",
      "Cream Hanging Heart T-Light Holder    10423\n",
      "Lunch Bag Red Retrospot                8877\n",
      "Jumbo Bag Vintage Doily                8382\n",
      "Lunch Bag Black Skull                  7648\n",
      "Lunch Bag Suki Design                  7504\n",
      "Lunch Bag Vintage Doily                7451\n",
      "Party Bunting                          7340\n",
      "Popcorn Holder                         7142\n",
      "Name: Quantity, dtype: int64\n"
     ]
    }
   ],
   "source": [
    "# By checking the unique values we can see that there are a total of 3690 products that have been ordered.\n",
    "# Lets check the top ten products sold.\n",
    "\n",
    "# Group the data by product name and sum the quantity\n",
    "tp = df.groupby(['ProductName'])['Quantity'].sum()\n",
    "\n",
    "# Sort the data by quantity in descending order\n",
    "tp = tp.sort_values(ascending=False)\n",
    "\n",
    "# Get the top 10 products\n",
    "top_10_products = tp.head(10)\n",
    "\n",
    "# Print the top 10 products\n",
    "print(top_10_products)\n"
   ]
  },
  {
   "cell_type": "code",
   "execution_count": 24,
   "id": "f4df734b",
   "metadata": {
    "execution": {
     "iopub.execute_input": "2023-11-02T20:17:09.231146Z",
     "iopub.status.busy": "2023-11-02T20:17:09.230728Z",
     "iopub.status.idle": "2023-11-02T20:17:09.307052Z",
     "shell.execute_reply": "2023-11-02T20:17:09.305773Z"
    },
    "papermill": {
     "duration": 0.104854,
     "end_time": "2023-11-02T20:17:09.309545",
     "exception": false,
     "start_time": "2023-11-02T20:17:09.204691",
     "status": "completed"
    },
    "tags": []
   },
   "outputs": [
    {
     "data": {
      "text/html": [
       "<div>                            <div id=\"42a41f83-8693-461e-a7c1-dc10b5e50ff7\" class=\"plotly-graph-div\" style=\"height:525px; width:100%;\"></div>            <script type=\"text/javascript\">                require([\"plotly\"], function(Plotly) {                    window.PLOTLYENV=window.PLOTLYENV || {};                                    if (document.getElementById(\"42a41f83-8693-461e-a7c1-dc10b5e50ff7\")) {                    Plotly.newPlot(                        \"42a41f83-8693-461e-a7c1-dc10b5e50ff7\",                        [{\"alignmentgroup\":\"True\",\"hovertemplate\":\"x=%{x}\\u003cbr\\u003ey=%{y}\\u003cextra\\u003e\\u003c\\u002fextra\\u003e\",\"legendgroup\":\"\",\"marker\":{\"color\":\"#636efa\",\"pattern\":{\"shape\":\"\"}},\"name\":\"\",\"offsetgroup\":\"\",\"orientation\":\"v\",\"showlegend\":false,\"textposition\":\"auto\",\"x\":[\"Jumbo Bag Red Retrospot\",\"Assorted Colour Bird Ornament\",\"Cream Hanging Heart T-Light Holder\",\"Lunch Bag Red Retrospot\",\"Jumbo Bag Vintage Doily\",\"Lunch Bag Black Skull\",\"Lunch Bag Suki Design\",\"Lunch Bag Vintage Doily\",\"Party Bunting\",\"Popcorn Holder\"],\"xaxis\":\"x\",\"y\":[12547,10471,10423,8877,8382,7648,7504,7451,7340,7142],\"yaxis\":\"y\",\"type\":\"bar\"}],                        {\"template\":{\"data\":{\"histogram2dcontour\":[{\"type\":\"histogram2dcontour\",\"colorbar\":{\"outlinewidth\":0,\"ticks\":\"\"},\"colorscale\":[[0.0,\"#0d0887\"],[0.1111111111111111,\"#46039f\"],[0.2222222222222222,\"#7201a8\"],[0.3333333333333333,\"#9c179e\"],[0.4444444444444444,\"#bd3786\"],[0.5555555555555556,\"#d8576b\"],[0.6666666666666666,\"#ed7953\"],[0.7777777777777778,\"#fb9f3a\"],[0.8888888888888888,\"#fdca26\"],[1.0,\"#f0f921\"]]}],\"choropleth\":[{\"type\":\"choropleth\",\"colorbar\":{\"outlinewidth\":0,\"ticks\":\"\"}}],\"histogram2d\":[{\"type\":\"histogram2d\",\"colorbar\":{\"outlinewidth\":0,\"ticks\":\"\"},\"colorscale\":[[0.0,\"#0d0887\"],[0.1111111111111111,\"#46039f\"],[0.2222222222222222,\"#7201a8\"],[0.3333333333333333,\"#9c179e\"],[0.4444444444444444,\"#bd3786\"],[0.5555555555555556,\"#d8576b\"],[0.6666666666666666,\"#ed7953\"],[0.7777777777777778,\"#fb9f3a\"],[0.8888888888888888,\"#fdca26\"],[1.0,\"#f0f921\"]]}],\"heatmap\":[{\"type\":\"heatmap\",\"colorbar\":{\"outlinewidth\":0,\"ticks\":\"\"},\"colorscale\":[[0.0,\"#0d0887\"],[0.1111111111111111,\"#46039f\"],[0.2222222222222222,\"#7201a8\"],[0.3333333333333333,\"#9c179e\"],[0.4444444444444444,\"#bd3786\"],[0.5555555555555556,\"#d8576b\"],[0.6666666666666666,\"#ed7953\"],[0.7777777777777778,\"#fb9f3a\"],[0.8888888888888888,\"#fdca26\"],[1.0,\"#f0f921\"]]}],\"heatmapgl\":[{\"type\":\"heatmapgl\",\"colorbar\":{\"outlinewidth\":0,\"ticks\":\"\"},\"colorscale\":[[0.0,\"#0d0887\"],[0.1111111111111111,\"#46039f\"],[0.2222222222222222,\"#7201a8\"],[0.3333333333333333,\"#9c179e\"],[0.4444444444444444,\"#bd3786\"],[0.5555555555555556,\"#d8576b\"],[0.6666666666666666,\"#ed7953\"],[0.7777777777777778,\"#fb9f3a\"],[0.8888888888888888,\"#fdca26\"],[1.0,\"#f0f921\"]]}],\"contourcarpet\":[{\"type\":\"contourcarpet\",\"colorbar\":{\"outlinewidth\":0,\"ticks\":\"\"}}],\"contour\":[{\"type\":\"contour\",\"colorbar\":{\"outlinewidth\":0,\"ticks\":\"\"},\"colorscale\":[[0.0,\"#0d0887\"],[0.1111111111111111,\"#46039f\"],[0.2222222222222222,\"#7201a8\"],[0.3333333333333333,\"#9c179e\"],[0.4444444444444444,\"#bd3786\"],[0.5555555555555556,\"#d8576b\"],[0.6666666666666666,\"#ed7953\"],[0.7777777777777778,\"#fb9f3a\"],[0.8888888888888888,\"#fdca26\"],[1.0,\"#f0f921\"]]}],\"surface\":[{\"type\":\"surface\",\"colorbar\":{\"outlinewidth\":0,\"ticks\":\"\"},\"colorscale\":[[0.0,\"#0d0887\"],[0.1111111111111111,\"#46039f\"],[0.2222222222222222,\"#7201a8\"],[0.3333333333333333,\"#9c179e\"],[0.4444444444444444,\"#bd3786\"],[0.5555555555555556,\"#d8576b\"],[0.6666666666666666,\"#ed7953\"],[0.7777777777777778,\"#fb9f3a\"],[0.8888888888888888,\"#fdca26\"],[1.0,\"#f0f921\"]]}],\"mesh3d\":[{\"type\":\"mesh3d\",\"colorbar\":{\"outlinewidth\":0,\"ticks\":\"\"}}],\"scatter\":[{\"fillpattern\":{\"fillmode\":\"overlay\",\"size\":10,\"solidity\":0.2},\"type\":\"scatter\"}],\"parcoords\":[{\"type\":\"parcoords\",\"line\":{\"colorbar\":{\"outlinewidth\":0,\"ticks\":\"\"}}}],\"scatterpolargl\":[{\"type\":\"scatterpolargl\",\"marker\":{\"colorbar\":{\"outlinewidth\":0,\"ticks\":\"\"}}}],\"bar\":[{\"error_x\":{\"color\":\"#2a3f5f\"},\"error_y\":{\"color\":\"#2a3f5f\"},\"marker\":{\"line\":{\"color\":\"#E5ECF6\",\"width\":0.5},\"pattern\":{\"fillmode\":\"overlay\",\"size\":10,\"solidity\":0.2}},\"type\":\"bar\"}],\"scattergeo\":[{\"type\":\"scattergeo\",\"marker\":{\"colorbar\":{\"outlinewidth\":0,\"ticks\":\"\"}}}],\"scatterpolar\":[{\"type\":\"scatterpolar\",\"marker\":{\"colorbar\":{\"outlinewidth\":0,\"ticks\":\"\"}}}],\"histogram\":[{\"marker\":{\"pattern\":{\"fillmode\":\"overlay\",\"size\":10,\"solidity\":0.2}},\"type\":\"histogram\"}],\"scattergl\":[{\"type\":\"scattergl\",\"marker\":{\"colorbar\":{\"outlinewidth\":0,\"ticks\":\"\"}}}],\"scatter3d\":[{\"type\":\"scatter3d\",\"line\":{\"colorbar\":{\"outlinewidth\":0,\"ticks\":\"\"}},\"marker\":{\"colorbar\":{\"outlinewidth\":0,\"ticks\":\"\"}}}],\"scattermapbox\":[{\"type\":\"scattermapbox\",\"marker\":{\"colorbar\":{\"outlinewidth\":0,\"ticks\":\"\"}}}],\"scatterternary\":[{\"type\":\"scatterternary\",\"marker\":{\"colorbar\":{\"outlinewidth\":0,\"ticks\":\"\"}}}],\"scattercarpet\":[{\"type\":\"scattercarpet\",\"marker\":{\"colorbar\":{\"outlinewidth\":0,\"ticks\":\"\"}}}],\"carpet\":[{\"aaxis\":{\"endlinecolor\":\"#2a3f5f\",\"gridcolor\":\"white\",\"linecolor\":\"white\",\"minorgridcolor\":\"white\",\"startlinecolor\":\"#2a3f5f\"},\"baxis\":{\"endlinecolor\":\"#2a3f5f\",\"gridcolor\":\"white\",\"linecolor\":\"white\",\"minorgridcolor\":\"white\",\"startlinecolor\":\"#2a3f5f\"},\"type\":\"carpet\"}],\"table\":[{\"cells\":{\"fill\":{\"color\":\"#EBF0F8\"},\"line\":{\"color\":\"white\"}},\"header\":{\"fill\":{\"color\":\"#C8D4E3\"},\"line\":{\"color\":\"white\"}},\"type\":\"table\"}],\"barpolar\":[{\"marker\":{\"line\":{\"color\":\"#E5ECF6\",\"width\":0.5},\"pattern\":{\"fillmode\":\"overlay\",\"size\":10,\"solidity\":0.2}},\"type\":\"barpolar\"}],\"pie\":[{\"automargin\":true,\"type\":\"pie\"}]},\"layout\":{\"autotypenumbers\":\"strict\",\"colorway\":[\"#636efa\",\"#EF553B\",\"#00cc96\",\"#ab63fa\",\"#FFA15A\",\"#19d3f3\",\"#FF6692\",\"#B6E880\",\"#FF97FF\",\"#FECB52\"],\"font\":{\"color\":\"#2a3f5f\"},\"hovermode\":\"closest\",\"hoverlabel\":{\"align\":\"left\"},\"paper_bgcolor\":\"white\",\"plot_bgcolor\":\"#E5ECF6\",\"polar\":{\"bgcolor\":\"#E5ECF6\",\"angularaxis\":{\"gridcolor\":\"white\",\"linecolor\":\"white\",\"ticks\":\"\"},\"radialaxis\":{\"gridcolor\":\"white\",\"linecolor\":\"white\",\"ticks\":\"\"}},\"ternary\":{\"bgcolor\":\"#E5ECF6\",\"aaxis\":{\"gridcolor\":\"white\",\"linecolor\":\"white\",\"ticks\":\"\"},\"baxis\":{\"gridcolor\":\"white\",\"linecolor\":\"white\",\"ticks\":\"\"},\"caxis\":{\"gridcolor\":\"white\",\"linecolor\":\"white\",\"ticks\":\"\"}},\"coloraxis\":{\"colorbar\":{\"outlinewidth\":0,\"ticks\":\"\"}},\"colorscale\":{\"sequential\":[[0.0,\"#0d0887\"],[0.1111111111111111,\"#46039f\"],[0.2222222222222222,\"#7201a8\"],[0.3333333333333333,\"#9c179e\"],[0.4444444444444444,\"#bd3786\"],[0.5555555555555556,\"#d8576b\"],[0.6666666666666666,\"#ed7953\"],[0.7777777777777778,\"#fb9f3a\"],[0.8888888888888888,\"#fdca26\"],[1.0,\"#f0f921\"]],\"sequentialminus\":[[0.0,\"#0d0887\"],[0.1111111111111111,\"#46039f\"],[0.2222222222222222,\"#7201a8\"],[0.3333333333333333,\"#9c179e\"],[0.4444444444444444,\"#bd3786\"],[0.5555555555555556,\"#d8576b\"],[0.6666666666666666,\"#ed7953\"],[0.7777777777777778,\"#fb9f3a\"],[0.8888888888888888,\"#fdca26\"],[1.0,\"#f0f921\"]],\"diverging\":[[0,\"#8e0152\"],[0.1,\"#c51b7d\"],[0.2,\"#de77ae\"],[0.3,\"#f1b6da\"],[0.4,\"#fde0ef\"],[0.5,\"#f7f7f7\"],[0.6,\"#e6f5d0\"],[0.7,\"#b8e186\"],[0.8,\"#7fbc41\"],[0.9,\"#4d9221\"],[1,\"#276419\"]]},\"xaxis\":{\"gridcolor\":\"white\",\"linecolor\":\"white\",\"ticks\":\"\",\"title\":{\"standoff\":15},\"zerolinecolor\":\"white\",\"automargin\":true,\"zerolinewidth\":2},\"yaxis\":{\"gridcolor\":\"white\",\"linecolor\":\"white\",\"ticks\":\"\",\"title\":{\"standoff\":15},\"zerolinecolor\":\"white\",\"automargin\":true,\"zerolinewidth\":2},\"scene\":{\"xaxis\":{\"backgroundcolor\":\"#E5ECF6\",\"gridcolor\":\"white\",\"linecolor\":\"white\",\"showbackground\":true,\"ticks\":\"\",\"zerolinecolor\":\"white\",\"gridwidth\":2},\"yaxis\":{\"backgroundcolor\":\"#E5ECF6\",\"gridcolor\":\"white\",\"linecolor\":\"white\",\"showbackground\":true,\"ticks\":\"\",\"zerolinecolor\":\"white\",\"gridwidth\":2},\"zaxis\":{\"backgroundcolor\":\"#E5ECF6\",\"gridcolor\":\"white\",\"linecolor\":\"white\",\"showbackground\":true,\"ticks\":\"\",\"zerolinecolor\":\"white\",\"gridwidth\":2}},\"shapedefaults\":{\"line\":{\"color\":\"#2a3f5f\"}},\"annotationdefaults\":{\"arrowcolor\":\"#2a3f5f\",\"arrowhead\":0,\"arrowwidth\":1},\"geo\":{\"bgcolor\":\"white\",\"landcolor\":\"#E5ECF6\",\"subunitcolor\":\"white\",\"showland\":true,\"showlakes\":true,\"lakecolor\":\"white\"},\"title\":{\"x\":0.05},\"mapbox\":{\"style\":\"light\"}}},\"xaxis\":{\"anchor\":\"y\",\"domain\":[0.0,1.0],\"title\":{\"text\":\"x\"}},\"yaxis\":{\"anchor\":\"x\",\"domain\":[0.0,1.0],\"title\":{\"text\":\"y\"}},\"legend\":{\"tracegroupgap\":0},\"title\":{\"text\":\"Top 10 products by quantity\"},\"barmode\":\"relative\"},                        {\"responsive\": true}                    ).then(function(){\n",
       "                            \n",
       "var gd = document.getElementById('42a41f83-8693-461e-a7c1-dc10b5e50ff7');\n",
       "var x = new MutationObserver(function (mutations, observer) {{\n",
       "        var display = window.getComputedStyle(gd).display;\n",
       "        if (!display || display === 'none') {{\n",
       "            console.log([gd, 'removed!']);\n",
       "            Plotly.purge(gd);\n",
       "            observer.disconnect();\n",
       "        }}\n",
       "}});\n",
       "\n",
       "// Listen for the removal of the full notebook cells\n",
       "var notebookContainer = gd.closest('#notebook-container');\n",
       "if (notebookContainer) {{\n",
       "    x.observe(notebookContainer, {childList: true});\n",
       "}}\n",
       "\n",
       "// Listen for the clearing of the current output cell\n",
       "var outputEl = gd.closest('.output');\n",
       "if (outputEl) {{\n",
       "    x.observe(outputEl, {childList: true});\n",
       "}}\n",
       "\n",
       "                        })                };                });            </script>        </div>"
      ]
     },
     "metadata": {},
     "output_type": "display_data"
    }
   ],
   "source": [
    "# Create a bar chart\n",
    "fig = px.bar(x=top_10_products.index, y=top_10_products.values, title='Top 10 products by quantity')\n",
    "\n",
    "# Show the plot\n",
    "fig.show()\n"
   ]
  },
  {
   "cell_type": "code",
   "execution_count": 25,
   "id": "45d450c9",
   "metadata": {
    "execution": {
     "iopub.execute_input": "2023-11-02T20:17:09.361237Z",
     "iopub.status.busy": "2023-11-02T20:17:09.360845Z",
     "iopub.status.idle": "2023-11-02T20:17:09.368833Z",
     "shell.execute_reply": "2023-11-02T20:17:09.367583Z"
    },
    "papermill": {
     "duration": 0.037046,
     "end_time": "2023-11-02T20:17:09.371729",
     "exception": false,
     "start_time": "2023-11-02T20:17:09.334683",
     "status": "completed"
    },
    "tags": []
   },
   "outputs": [
    {
     "name": "stdout",
     "output_type": "stream",
     "text": [
      "ProductName\n",
      "Jumbo Bag Red Retrospot               2.94\n",
      "Assorted Colour Bird Ornament         2.45\n",
      "Cream Hanging Heart T-Light Holder    2.44\n",
      "Lunch Bag Red Retrospot               2.08\n",
      "Jumbo Bag Vintage Doily               1.96\n",
      "Lunch Bag Black Skull                 1.79\n",
      "Lunch Bag Suki Design                 1.76\n",
      "Lunch Bag Vintage Doily               1.75\n",
      "Party Bunting                         1.72\n",
      "Popcorn Holder                        1.67\n",
      "Name: Quantity, dtype: float64\n"
     ]
    }
   ],
   "source": [
    "topprodpercent = round(top_10_products/df.shape[0],4)\n",
    "print(topprodpercent*100)"
   ]
  },
  {
   "cell_type": "markdown",
   "id": "8236a147",
   "metadata": {
    "papermill": {
     "duration": 0.024419,
     "end_time": "2023-11-02T20:17:09.421020",
     "exception": false,
     "start_time": "2023-11-02T20:17:09.396601",
     "status": "completed"
    },
    "tags": []
   },
   "source": [
    "**The top sold product constitute 2.94% of all products sold**"
   ]
  },
  {
   "cell_type": "code",
   "execution_count": 26,
   "id": "81c50924",
   "metadata": {
    "execution": {
     "iopub.execute_input": "2023-11-02T20:17:09.472509Z",
     "iopub.status.busy": "2023-11-02T20:17:09.472126Z",
     "iopub.status.idle": "2023-11-02T20:17:09.563520Z",
     "shell.execute_reply": "2023-11-02T20:17:09.562406Z"
    },
    "papermill": {
     "duration": 0.119981,
     "end_time": "2023-11-02T20:17:09.565733",
     "exception": false,
     "start_time": "2023-11-02T20:17:09.445752",
     "status": "completed"
    },
    "tags": []
   },
   "outputs": [
    {
     "name": "stdout",
     "output_type": "stream",
     "text": [
      "Data start date: 2018-12-01 00:00:00\n",
      "Data end date: 2019-12-09 00:00:00\n",
      "Duration: 373 days\n"
     ]
    }
   ],
   "source": [
    "# Checking the duration of the data\n",
    "\n",
    "df['Date'] = pd.to_datetime(df['Date'])\n",
    "\n",
    "\n",
    "startdate = df['Date'].min()\n",
    "enddate = df['Date'].max()\n",
    "duration = enddate - startdate\n",
    "\n",
    "print(\"Data start date:\", startdate)\n",
    "print(\"Data end date:\", enddate)\n",
    "print(\"Duration:\", duration.days, \"days\")  # Specify the time unit as 'days'\n"
   ]
  },
  {
   "cell_type": "markdown",
   "id": "f7187afd",
   "metadata": {
    "papermill": {
     "duration": 0.024677,
     "end_time": "2023-11-02T20:17:09.615626",
     "exception": false,
     "start_time": "2023-11-02T20:17:09.590949",
     "status": "completed"
    },
    "tags": []
   },
   "source": [
    "**The data is from a duration of little over a year**"
   ]
  },
  {
   "cell_type": "markdown",
   "id": "3d672557",
   "metadata": {
    "papermill": {
     "duration": 0.025055,
     "end_time": "2023-11-02T20:17:09.666120",
     "exception": false,
     "start_time": "2023-11-02T20:17:09.641065",
     "status": "completed"
    },
    "tags": []
   },
   "source": [
    "**In the sample data above we see the individual price of each item sold. We now genrate the revenue from each sale**"
   ]
  },
  {
   "cell_type": "code",
   "execution_count": 27,
   "id": "d4d7276e",
   "metadata": {
    "execution": {
     "iopub.execute_input": "2023-11-02T20:17:09.721379Z",
     "iopub.status.busy": "2023-11-02T20:17:09.720986Z",
     "iopub.status.idle": "2023-11-02T20:17:09.740630Z",
     "shell.execute_reply": "2023-11-02T20:17:09.739631Z"
    },
    "papermill": {
     "duration": 0.051044,
     "end_time": "2023-11-02T20:17:09.743213",
     "exception": false,
     "start_time": "2023-11-02T20:17:09.692169",
     "status": "completed"
    },
    "tags": []
   },
   "outputs": [
    {
     "data": {
      "text/html": [
       "<div>\n",
       "<style scoped>\n",
       "    .dataframe tbody tr th:only-of-type {\n",
       "        vertical-align: middle;\n",
       "    }\n",
       "\n",
       "    .dataframe tbody tr th {\n",
       "        vertical-align: top;\n",
       "    }\n",
       "\n",
       "    .dataframe thead th {\n",
       "        text-align: right;\n",
       "    }\n",
       "</style>\n",
       "<table border=\"1\" class=\"dataframe\">\n",
       "  <thead>\n",
       "    <tr style=\"text-align: right;\">\n",
       "      <th></th>\n",
       "      <th>TransactionNo</th>\n",
       "      <th>Date</th>\n",
       "      <th>ProductNo</th>\n",
       "      <th>ProductName</th>\n",
       "      <th>Price</th>\n",
       "      <th>Quantity</th>\n",
       "      <th>CustomerNo</th>\n",
       "      <th>Country</th>\n",
       "      <th>Revenue</th>\n",
       "    </tr>\n",
       "  </thead>\n",
       "  <tbody>\n",
       "    <tr>\n",
       "      <th>0</th>\n",
       "      <td>581482</td>\n",
       "      <td>2019-12-09</td>\n",
       "      <td>22485</td>\n",
       "      <td>Set Of 2 Wooden Market Crates</td>\n",
       "      <td>21.47</td>\n",
       "      <td>12</td>\n",
       "      <td>17490.0</td>\n",
       "      <td>United Kingdom</td>\n",
       "      <td>257.64</td>\n",
       "    </tr>\n",
       "    <tr>\n",
       "      <th>2</th>\n",
       "      <td>581475</td>\n",
       "      <td>2019-12-09</td>\n",
       "      <td>23235</td>\n",
       "      <td>Storage Tin Vintage Leaf</td>\n",
       "      <td>11.53</td>\n",
       "      <td>12</td>\n",
       "      <td>13069.0</td>\n",
       "      <td>United Kingdom</td>\n",
       "      <td>138.36</td>\n",
       "    </tr>\n",
       "    <tr>\n",
       "      <th>3</th>\n",
       "      <td>581475</td>\n",
       "      <td>2019-12-09</td>\n",
       "      <td>23272</td>\n",
       "      <td>Tree T-Light Holder Willie Winkie</td>\n",
       "      <td>10.65</td>\n",
       "      <td>12</td>\n",
       "      <td>13069.0</td>\n",
       "      <td>United Kingdom</td>\n",
       "      <td>127.80</td>\n",
       "    </tr>\n",
       "    <tr>\n",
       "      <th>4</th>\n",
       "      <td>581475</td>\n",
       "      <td>2019-12-09</td>\n",
       "      <td>23239</td>\n",
       "      <td>Set Of 4 Knick Knack Tins Poppies</td>\n",
       "      <td>11.94</td>\n",
       "      <td>6</td>\n",
       "      <td>13069.0</td>\n",
       "      <td>United Kingdom</td>\n",
       "      <td>71.64</td>\n",
       "    </tr>\n",
       "    <tr>\n",
       "      <th>6</th>\n",
       "      <td>581475</td>\n",
       "      <td>2019-12-09</td>\n",
       "      <td>22118</td>\n",
       "      <td>Joy Wooden Block Letters</td>\n",
       "      <td>11.53</td>\n",
       "      <td>18</td>\n",
       "      <td>13069.0</td>\n",
       "      <td>United Kingdom</td>\n",
       "      <td>207.54</td>\n",
       "    </tr>\n",
       "  </tbody>\n",
       "</table>\n",
       "</div>"
      ],
      "text/plain": [
       "  TransactionNo       Date ProductNo                        ProductName  \\\n",
       "0        581482 2019-12-09     22485      Set Of 2 Wooden Market Crates   \n",
       "2        581475 2019-12-09     23235           Storage Tin Vintage Leaf   \n",
       "3        581475 2019-12-09     23272  Tree T-Light Holder Willie Winkie   \n",
       "4        581475 2019-12-09     23239  Set Of 4 Knick Knack Tins Poppies   \n",
       "6        581475 2019-12-09     22118           Joy Wooden Block Letters   \n",
       "\n",
       "   Price  Quantity  CustomerNo         Country  Revenue  \n",
       "0  21.47        12     17490.0  United Kingdom   257.64  \n",
       "2  11.53        12     13069.0  United Kingdom   138.36  \n",
       "3  10.65        12     13069.0  United Kingdom   127.80  \n",
       "4  11.94         6     13069.0  United Kingdom    71.64  \n",
       "6  11.53        18     13069.0  United Kingdom   207.54  "
      ]
     },
     "execution_count": 27,
     "metadata": {},
     "output_type": "execute_result"
    }
   ],
   "source": [
    "# Creating a new column for revenue per sale\n",
    "df['Revenue'] = df['Price'] * df['Quantity']\n",
    "df.head()"
   ]
  },
  {
   "cell_type": "code",
   "execution_count": 28,
   "id": "f59e4c65",
   "metadata": {
    "execution": {
     "iopub.execute_input": "2023-11-02T20:17:09.795822Z",
     "iopub.status.busy": "2023-11-02T20:17:09.795426Z",
     "iopub.status.idle": "2023-11-02T20:17:13.355460Z",
     "shell.execute_reply": "2023-11-02T20:17:13.354133Z"
    },
    "papermill": {
     "duration": 3.589268,
     "end_time": "2023-11-02T20:17:13.358234",
     "exception": false,
     "start_time": "2023-11-02T20:17:09.768966",
     "status": "completed"
    },
    "tags": []
   },
   "outputs": [],
   "source": [
    "# Create a combined month and year column for further analysis\n",
    "df['Month-Year'] = df['Date'].dt.strftime('%b-%Y')\n"
   ]
  },
  {
   "cell_type": "markdown",
   "id": "ed6755dc",
   "metadata": {
    "papermill": {
     "duration": 0.025089,
     "end_time": "2023-11-02T20:17:13.411342",
     "exception": false,
     "start_time": "2023-11-02T20:17:13.386253",
     "status": "completed"
    },
    "tags": []
   },
   "source": [
    "# Now lets plot the revenue by month to understand the patterns"
   ]
  },
  {
   "cell_type": "code",
   "execution_count": 29,
   "id": "dace63d4",
   "metadata": {
    "execution": {
     "iopub.execute_input": "2023-11-02T20:17:13.464567Z",
     "iopub.status.busy": "2023-11-02T20:17:13.464160Z",
     "iopub.status.idle": "2023-11-02T20:17:17.257955Z",
     "shell.execute_reply": "2023-11-02T20:17:17.256099Z"
    },
    "papermill": {
     "duration": 3.823335,
     "end_time": "2023-11-02T20:17:17.260654",
     "exception": false,
     "start_time": "2023-11-02T20:17:13.437319",
     "status": "completed"
    },
    "tags": []
   },
   "outputs": [
    {
     "name": "stdout",
     "output_type": "stream",
     "text": [
      "    Year      Month     Revenue\n",
      "0   2018   December  1754234.96\n",
      "5   2019    January  1416899.59\n",
      "4   2019   February  1255317.03\n",
      "8   2019      March  1639371.97\n",
      "1   2019      April  1373664.92\n",
      "9   2019        May  1741995.10\n",
      "7   2019       June  1610656.63\n",
      "6   2019       July  1664753.40\n",
      "2   2019     August  1608260.46\n",
      "12  2019  September  2366581.81\n",
      "11  2019    October  2705479.64\n",
      "10  2019   November  3123308.14\n",
      "3   2019   December   591320.77\n"
     ]
    }
   ],
   "source": [
    "# Convert the 'Month-Year' column to datetime format\n",
    "df['Month-Year'] = pd.to_datetime(df['Month-Year'], format='%b-%Y')\n",
    "\n",
    "# Extract the month and year as separate columns\n",
    "df['Month'] = df['Month-Year'].dt.strftime('%B')\n",
    "df['Year'] = df['Month-Year'].dt.year\n",
    "\n",
    "# Create a custom sorting order for months\n",
    "month_order = ['January', 'February', 'March', 'April', 'May', 'June', 'July', 'August', 'September', 'October', 'November', 'December']\n",
    "\n",
    "# Group the data by Month and Year and sum of Revenue\n",
    "RPM = df.groupby(['Year', 'Month'])['Revenue'].sum()\n",
    "\n",
    "# Sort the data by Year and Month using the custom sorting order\n",
    "RPM = RPM.reset_index()\n",
    "RPM['Month'] = pd.Categorical(RPM['Month'], categories=month_order, ordered=True)\n",
    "RPM = RPM.sort_values(['Year', 'Month'])\n",
    "\n",
    "\n",
    "print(RPM)\n"
   ]
  },
  {
   "cell_type": "code",
   "execution_count": 30,
   "id": "c8eff05e",
   "metadata": {
    "execution": {
     "iopub.execute_input": "2023-11-02T20:17:17.313818Z",
     "iopub.status.busy": "2023-11-02T20:17:17.313339Z",
     "iopub.status.idle": "2023-11-02T20:17:17.983123Z",
     "shell.execute_reply": "2023-11-02T20:17:17.981926Z"
    },
    "papermill": {
     "duration": 0.699492,
     "end_time": "2023-11-02T20:17:17.985817",
     "exception": false,
     "start_time": "2023-11-02T20:17:17.286325",
     "status": "completed"
    },
    "tags": []
   },
   "outputs": [
    {
     "data": {
      "image/png": "[encoded data removed]",
      "text/plain": [
       "<Figure size 1200x600 with 1 Axes>"
      ]
     },
     "metadata": {},
     "output_type": "display_data"
    }
   ],
   "source": [
    "# Create a line plot\n",
    "plt.figure(figsize=(12, 6))\n",
    "sns.set_style(\"whitegrid\")  \n",
    "\n",
    "# Create the line plot\n",
    "plot = sns.lineplot(x='Month', y='Revenue', data=RPM, marker='o', palette='viridis')\n",
    "\n",
    "# Customize labels and title\n",
    "plt.xlabel('Month')\n",
    "plt.ylabel('Revenue')\n",
    "plt.title('Monthly Revenue Over Time')\n",
    "\n",
    "plt.tight_layout()\n",
    "plt.show()"
   ]
  },
  {
   "cell_type": "code",
   "execution_count": 31,
   "id": "ef2345b7",
   "metadata": {
    "execution": {
     "iopub.execute_input": "2023-11-02T20:17:18.042053Z",
     "iopub.status.busy": "2023-11-02T20:17:18.041599Z",
     "iopub.status.idle": "2023-11-02T20:17:18.128484Z",
     "shell.execute_reply": "2023-11-02T20:17:18.127261Z"
    },
    "papermill": {
     "duration": 0.11819,
     "end_time": "2023-11-02T20:17:18.131335",
     "exception": false,
     "start_time": "2023-11-02T20:17:18.013145",
     "status": "completed"
    },
    "tags": []
   },
   "outputs": [
    {
     "data": {
      "text/html": [
       "<div>\n",
       "<style scoped>\n",
       "    .dataframe tbody tr th:only-of-type {\n",
       "        vertical-align: middle;\n",
       "    }\n",
       "\n",
       "    .dataframe tbody tr th {\n",
       "        vertical-align: top;\n",
       "    }\n",
       "\n",
       "    .dataframe thead th {\n",
       "        text-align: right;\n",
       "    }\n",
       "</style>\n",
       "<table border=\"1\" class=\"dataframe\">\n",
       "  <thead>\n",
       "    <tr style=\"text-align: right;\">\n",
       "      <th></th>\n",
       "      <th>ProductName</th>\n",
       "      <th>Revenue</th>\n",
       "    </tr>\n",
       "  </thead>\n",
       "  <tbody>\n",
       "    <tr>\n",
       "      <th>2615</th>\n",
       "      <td>Regency Cakestand 3 Tier</td>\n",
       "      <td>157316.95</td>\n",
       "    </tr>\n",
       "    <tr>\n",
       "      <th>814</th>\n",
       "      <td>Cream Hanging Heart T-Light Holder</td>\n",
       "      <td>136552.30</td>\n",
       "    </tr>\n",
       "    <tr>\n",
       "      <th>201</th>\n",
       "      <td>Assorted Colour Bird Ornament</td>\n",
       "      <td>122005.58</td>\n",
       "    </tr>\n",
       "    <tr>\n",
       "      <th>2197</th>\n",
       "      <td>Party Bunting</td>\n",
       "      <td>115116.17</td>\n",
       "    </tr>\n",
       "    <tr>\n",
       "      <th>1663</th>\n",
       "      <td>Jumbo Shopper Vintage Red Paisley</td>\n",
       "      <td>80933.10</td>\n",
       "    </tr>\n",
       "    <tr>\n",
       "      <th>1665</th>\n",
       "      <td>Jumbo Storage Bag Suki</td>\n",
       "      <td>79359.89</td>\n",
       "    </tr>\n",
       "    <tr>\n",
       "      <th>1654</th>\n",
       "      <td>Jumbo Bag Red Retrospot</td>\n",
       "      <td>79212.43</td>\n",
       "    </tr>\n",
       "    <tr>\n",
       "      <th>2445</th>\n",
       "      <td>Popcorn Holder</td>\n",
       "      <td>77472.61</td>\n",
       "    </tr>\n",
       "    <tr>\n",
       "      <th>1999</th>\n",
       "      <td>Natural Slate Heart Chalkboard</td>\n",
       "      <td>76987.07</td>\n",
       "    </tr>\n",
       "    <tr>\n",
       "      <th>1512</th>\n",
       "      <td>Heart Of Wicker Small</td>\n",
       "      <td>76607.07</td>\n",
       "    </tr>\n",
       "  </tbody>\n",
       "</table>\n",
       "</div>"
      ],
      "text/plain": [
       "                             ProductName    Revenue\n",
       "2615            Regency Cakestand 3 Tier  157316.95\n",
       "814   Cream Hanging Heart T-Light Holder  136552.30\n",
       "201        Assorted Colour Bird Ornament  122005.58\n",
       "2197                       Party Bunting  115116.17\n",
       "1663   Jumbo Shopper Vintage Red Paisley   80933.10\n",
       "1665              Jumbo Storage Bag Suki   79359.89\n",
       "1654             Jumbo Bag Red Retrospot   79212.43\n",
       "2445                      Popcorn Holder   77472.61\n",
       "1999      Natural Slate Heart Chalkboard   76987.07\n",
       "1512               Heart Of Wicker Small   76607.07"
      ]
     },
     "execution_count": 31,
     "metadata": {},
     "output_type": "execute_result"
    }
   ],
   "source": [
    "# Looking at top 10 most revenue generating products\n",
    "\n",
    "toprevenueprod = df.groupby(by='ProductName', as_index = False)['Revenue'].sum().sort_values('Revenue', ascending = False)\n",
    "toprevenueprod.head(10)\n"
   ]
  },
  {
   "cell_type": "code",
   "execution_count": 32,
   "id": "d9cf782f",
   "metadata": {
    "execution": {
     "iopub.execute_input": "2023-11-02T20:17:18.187740Z",
     "iopub.status.busy": "2023-11-02T20:17:18.187321Z",
     "iopub.status.idle": "2023-11-02T20:17:18.284353Z",
     "shell.execute_reply": "2023-11-02T20:17:18.283576Z"
    },
    "papermill": {
     "duration": 0.130067,
     "end_time": "2023-11-02T20:17:18.288913",
     "exception": false,
     "start_time": "2023-11-02T20:17:18.158846",
     "status": "completed"
    },
    "tags": []
   },
   "outputs": [
    {
     "data": {
      "text/html": [
       "<div>                            <div id=\"ac3ff29f-c328-4fd0-b796-7dbafade8e30\" class=\"plotly-graph-div\" style=\"height:525px; width:100%;\"></div>            <script type=\"text/javascript\">                require([\"plotly\"], function(Plotly) {                    window.PLOTLYENV=window.PLOTLYENV || {};                                    if (document.getElementById(\"ac3ff29f-c328-4fd0-b796-7dbafade8e30\")) {                    Plotly.newPlot(                        \"ac3ff29f-c328-4fd0-b796-7dbafade8e30\",                        [{\"alignmentgroup\":\"True\",\"hovertemplate\":\"ProductName=%{x}\\u003cbr\\u003eRevenue=%{y}\\u003cextra\\u003e\\u003c\\u002fextra\\u003e\",\"legendgroup\":\"\",\"marker\":{\"color\":\"#636efa\",\"pattern\":{\"shape\":\"\"}},\"name\":\"\",\"offsetgroup\":\"\",\"orientation\":\"v\",\"showlegend\":false,\"textposition\":\"auto\",\"x\":[\"Regency Cakestand 3 Tier\",\"Cream Hanging Heart T-Light Holder\",\"Assorted Colour Bird Ornament\",\"Party Bunting\",\"Jumbo Shopper Vintage Red Paisley\",\"Jumbo Storage Bag Suki\",\"Jumbo Bag Red Retrospot\",\"Popcorn Holder\",\"Natural Slate Heart Chalkboard\",\"Heart Of Wicker Small\"],\"xaxis\":\"x\",\"y\":[157316.95,136552.3,122005.58,115116.17,80933.1,79359.89,79212.43000000001,77472.61,76987.07,76607.06999999999],\"yaxis\":\"y\",\"type\":\"bar\",\"hoverinfo\":\"y+text\",\"hovertext\":[\"Regency Cakestand 3 Tier\",\"Cream Hanging Heart T-Light Holder\",\"Assorted Colour Bird Ornament\",\"Party Bunting\",\"Jumbo Shopper Vintage Red Paisley\",\"Jumbo Storage Bag Suki\",\"Jumbo Bag Red Retrospot\",\"Popcorn Holder\",\"Natural Slate Heart Chalkboard\",\"Heart Of Wicker Small\",\"Jam Making Set Printed\",\"Victorian Glass Hanging T-Light\",\"Spotty Bunting\",\"Paper Chain Kit 50'S Christmas\",\"Jam Making Set With Jars\",\"Antique Silver T-Light Glass\",\"Set Of 4 Pantry Jelly Moulds\",\"Wooden Picture Frame White Finish\",\"Colour Glass T-Light Holder Hanging\",\"Red Retrospot Charlotte Bag\",\"Homemade Jam Scented Candles\",\"6 Ribbons Rustic Charm\",\"Wooden Frame Antique White\",\"Vintage Snap Cards\",\"Set Of 3 Cake Tins Pantry Design\",\"Lunch Bag Red Retrospot\",\"Roses Regency Teacup And Saucer\",\"Strawberry Ceramic Trinket Pot\",\"Jumbo Bag Vintage Doily\",\"Please One Person Metal Sign\",\"Alarm Clock Bakelike Green\",\"Alarm Clock Bakelike Red\",\"Hanging Heart Jar T-Light Holder\",\"Heart Of Wicker Large\",\"Green Regency Teacup And Saucer\",\"Gin And Tonic Diet Metal Sign\",\"Recipe Box Pantry Yellow Design\",\"Gardeners Kneeling Pad Keep Calm\",\"Doormat Keep Calm And Come In\",\"Doughnut Lip Gloss\",\"Lunch Bag Black Skull\",\"Paper Chain Kit Vintage Christmas\",\"Charlotte Bag Pink Polkadot\",\"Lunch Bag Suki Design\",\"Set\\u002f20 Red Retrospot Paper Napkins\",\"Lunch Bag Vintage Doily\",\"Pink Cream Felt Craft Trinket Box\",\"Charlotte Bag Suki Design\",\"Set Of 3 Regency Cake Tins\",\"Lunch Bag Cars Blue\",\"Jumbo Bag Pink Polkadot\",\"Jumbo Storage Bag Skulls\",\"Strawberry Charlotte Bag\",\"Set\\u002f5 Red Retrospot Lid Glass Bowls\",\"Chocolate Hot Water Bottle\",\"Traditional Knitting Nancy\",\"Home Building Block Word\",\"Red Harmonica In Box\",\"Hanging Heart Zinc T-Light Holder\",\"Rabbit Night Light\",\"Clothes Pegs Retrospot Pack 24\",\"Hand Warmer Owl Design\",\"Paper Bunting Retrospot\",\"Hot Water Bottle Keep Calm\",\"Red Toadstool Led Night Light\",\"Pink Regency Teacup And Saucer\",\"Gingerbread Man Cookie Cutter\",\"Wood Black Board Ant White Finish\",\"Woodland Charlotte Bag\",\"Charlotte Bag Apples Design\",\"Lunch Bag Apple Design\",\"Retrospot Tea Set Ceramic 11 Pc\",\"Lunch Bag Spaceboy Design\",\"Spaceboy Lunch Box\",\"Set Of 3 Butterfly Cookie Cutters\",\"Lunch Bag Pink Polkadot\",\"Doormat Red Retrospot\",\"Small White Heart Of Wicker\",\"Zinc Metal Heart Decoration\",\"Card Billboard Font\",\"Gardeners Kneeling Pad Cup Of Tea\",\"Dolly Girl Lunch Box\",\"Cook With Wine Metal Sign\",\"Baking Set 9 Piece Retrospot\",\"Set Of 6 Spice Tins Pantry Design\",\"Hand Over The Chocolate Sign\",\"Feltcraft Butterfly Hearts\",\"Set Of 3 Heart Cookie Cutters\",\"Hot Baths Metal Sign\",\"Wooden Box Of Dominoes\",\"Doormat Union Flag\",\"Jumbo Bag Alphabet\",\"Recycling Bag Retrospot\",\"Vintage Red Kitchen Cabinet\",\"3 Drawer Antique White Wood Cabinet\",\"Scottie Dog Hot Water Bottle\",\"Jumbo Bag Vintage Leaf\",\"Clear Drawer Knob Acrylic Edwardian\",\"Red Hanging Heart T-Light Holder\",\"Gingham Heart Decoration\",\"Set Of 20 Vintage Christmas Napkins\",\"Spaceboy Birthday Card\",\"Pink Blue Felt Craft Trinket Box\",\"Vintage Heads And Tails Card Game\",\"Blue Harmonica In Box\",\"Chilli Lights\",\"Wood 2 Drawer Cabinet White Finish\",\"Painted Metal Pears Assorted\",\"Single Heart Zinc T-Light Holder\",\"Pack Of 20 Napkins Pantry Design\",\"Small Glass Heart Trinket Pot\",\"Lunch Bag Woodland\",\"Paper Chain Kit Retrospot\",\"Jumbo Bag Baroque Black White\",\"Hand Warmer Bird Design\",\"Hot Water Bottle I Am So Poorly\",\"Jumbo Bag Apples\",\"Hand Warmer Scotty Dog Design\",\"Travel Sewing Kit\",\"Blue Stripe Ceramic Drawer Knob\",\"Red Retrospot Shopper Bag\",\"Hanging Jam Jar T-Light Holders\",\"Charlotte Bag Vintage Alphabet\",\"Feltcraft 6 Flower Friends\",\"Sweetheart Ceramic Trinket Box\",\"Love Building Block Word\",\"Zinc Folkart Sleigh Bells\",\"Regency Tea Plate Roses\",\"Vintage Union Jack Bunting\",\"Hot Water Bottle Tea And Sympathy\",\"Large White Heart Of Wicker\",\"Doormat New England\",\"Alarm Clock Bakelike Pink\",\"Assorted Colours Silk Fan\",\"Red Stripe Ceramic Drawer Knob\",\"Pottering In The Shed Metal Sign\",\"Lovebird Hanging Decoration White\",\"Set Of 3 Wooden Heart Decorations\",\"Set Of 12 Fairy Cake Baking Cases\",\"Jumbo Bag Pink Vintage Paisley\",\"Jumbo Bag 50'S Christmas\",\"Colouring Pencils Brown Tube\",\"Red Retrospot Peg Bag\",\"Jumbo Bag Strawberry\",\"Christmas Craft Little Friends\",\"Small Dolly Mix Design Orange Bowl\",\"N0 Singing Metal Sign\",\"Grey Heart Hot Water Bottle\",\"Photo Frame Cornice\",\"Paper Chain Kit Empire\",\"Hanging Metal Heart Lantern\",\"Gumball Coat Rack\",\"Doormat Hearts\",\"Lunch Bag Alphabet Design\",\"Suki Shoulder Bag\",\"Blue Spot Ceramic Drawer Knob\",\"Set Of 20 Kids Cookie Cutters\",\"Cream Sweetheart Mini Chest\",\"Hand Warmer Union Jack\",\"Lunch Box I Love London\",\"Set Of 3 Notebooks In Parcel\",\"White Spot Red Ceramic Drawer Knob\",\"Wooden School Colouring Set\",\"Set Of 4 Knick Knack Tins Doily\",\"Jumbo Bag Scandinavian Blue Paisley\",\"Plasters In Tin Vintage Paisley\",\"Retrospot Heart Hot Water Bottle\",\"Red Spot Ceramic Drawer Knob\",\"Swallows Greeting Card\",\"Fancy Font Birthday Card\",\"Set 2 Tea Towels I Love London\",\"Regency Tea Plate Green\",\"White Spot Blue Ceramic Drawer Knob\",\"Soldiers Egg Cup\",\"Doormat Fancy Font Home Sweet Home\",\"Alarm Clock Bakelike Ivory\",\"Enamel Flower Jug Cream\",\"Wooden Heart Christmas Scandinavian\",\"Plasters In Tin Spaceboy\",\"Pack Of 6 Birdy Gift Tags\",\"Vintage Christmas Bunting\",\"Cream Heart Card Holder\",\"Bathroom Metal Sign\",\"Robot Birthday Card\",\"Natural Slate Chalkboard Large\",\"Pack Of 72 Retrospot Cake Cases\",\"4 Traditional Spinning Tops\",\"White Skull Hot Water Bottle\",\"Grand Chocolatecandle\",\"Vintage Doily Travel Sewing Kit\",\"Lunch Bag Vintage Leaf Design\",\"Chocolate This Way Metal Sign\",\"Set Of 72 Retrospot Paper Doilies\",\"Set\\u002f6 Red Spotty Paper Plates\",\"Traditional Wooden Skipping Rope\",\"Natural Slate Rectangle Chalkboard\",\"Party Metal Sign\",\"Heart Ivory Trellis Large\",\"Wooden Union Jack Bunting\",\"Tea Party Birthday Card\",\"Feltcraft Cushion Owl\",\"Ribbon Reel Stripes Design\",\"3 Stripey Mice Feltcraft\",\"Knitted Union Flag Hot Water Bottle\",\"Set Of 12 Mini Loaf Baking Cases\",\"Plasters In Tin Woodland Animals\",\"Childrens Cutlery Polkadot Pink\",\"Plasters In Tin Skulls\",\"Playing Cards Keep Calm & Carry On\",\"Ivory Kitchen Scales\",\"Wooden Star Christmas Scandinavian\",\"Picnic Basket Wicker Small\",\"I'm On Holiday Metal Sign\",\"Charlotte Bag Dolly Girl Design\",\"Set Of 6 Ribbons Vintage Christmas\",\"Roll Wrap 50'S Christmas\",\"Hand Warmer Red Retrospot\",\"Regency Teapot Roses\",\"Area Patrolled Metal Sign\",\"Set Of 72 Pink Heart Paper Doilies\",\"Jumbo Bag Woodland Animals\",\"Sweetheart 3 Tier Cake Stand\",\"Pink Fairy Cake Childrens Apron\",\"Picnic Basket Wicker Large\",\"Fairy Cake Flannel Assorted Colour\",\"Small Marshmallows Pink Bowl\",\"Tea Time Party Bunting\",\"Christmas Craft White Fairy\",\"Pantry Magnetic Shopping List\",\"Vintage Christmas Stocking\",\"You're Confusing Me Metal Sign\",\"Rotating Silver Angels T-Light Hldr\",\"Multi Colour Silver T-Light Holder\",\"Childrens Apron Spaceboy Design\",\"Scandinavian Paisley Picnic Bag\",\"T-Light Glass Fluted Antique\",\"Round Snack Boxes Set Of4 Woodland\",\"Traditional Wooden Catch Cup Game\",\"Pink Vintage Paisley Picnic Bag\",\"Edwardian Parasol Natural\",\"Skull Shoulder Bag\",\"Doormat Spotty Home Sweet Home\",\"Red Retrospot Picnic Bag\",\"Antique Silver Tea Glass Engraved\",\"Vintage 2 Metre Folding Ruler\",\"Save The Planet Mug\",\"Hand Warmer Red Love Heart\",\"Metal 4 Hook Hanger French Chateau\",\"Scandinavian Reds Ribbons\",\"Pink Hanging Heart T-Light Holder\",\"Red Woolly Hottie White Heart\",\"Home Sweet Home Mug\",\"Ladies & Gentlemen Metal Sign\",\"Doormat English Rose\",\"Lunch Bag Dolly Girl Design\",\"Roll Wrap Vintage Christmas\",\"Aged Glass Silver T-Light Holder\",\"Paper Bunting White Lace\",\"Pink Drawer Knob Acrylic Edwardian\",\"3 Hearts Hanging Decoration Rustic\",\"Alarm Clock Bakelike Orange\",\"Red Retrospot Oven Glove\",\"Pack Of 12 London Tissues\",\"Jumbo Bag Owls\",\"Love Hot Water Bottle\",\"Beware Of The Cat Metal Sign\",\"Round Snack Boxes Set Of 4 Fruits\",\"Christmas Craft Tree Top Angel\",\"Box Of 6 Mini 50'S Crackers\",\"Giant 50'S Christmas Cracker\",\"Card Dolly Girl\",\"Plasters In Tin Strongman\",\"Childrens Cutlery Retrospot Red\",\"Red Retrospot Bowl\",\"Card Circus Parade\",\"36 Pencils Tube Red Retrospot\",\"Regency Tea Plate Pink\",\"Zinc T-Light Holder Stars Small\",\"Set Of 6 Tea Time Baking Cases\",\"Rex Cash+Carry Jumbo Shopper\",\"Ceramic Strawberry Cake Money Bank\",\"Set 6 School Milk Bottles In Crate\",\"Strawberry Shopper Bag\",\"Jumbo Bag Spaceboy Design\",\"Christmas Star Wish List Chalkboard\",\"Strawberry Lunch Box With Cutlery\",\"Plasters In Tin Circus Parade\",\"Jumbo Bag Pears\",\"Pantry Washing Up Brush\",\"Vintage Paisley Stationery Set\",\"Ceramic Heart Fairy Cake Money Bank\",\"Roll Wrap Vintage Spot\",\"Red Retrospot Cake Stand\",\"6 Gift Tags 50'S Christmas\",\"Toy Tidy Pink Polkadot\",\"Cowboys And Indians Birthday Card\",\"Box Of 6 Mini Vintage Crackers\",\"Card Suki Birthday\",\"Fine Wicker Heart\",\"Feltcraft Princess Charlotte Doll\",\"Red Kitchen Scales\",\"Doormat Welcome To Our Home\",\"Small Heart Measuring Spoons\",\"Traditional Christmas Ribbons\",\"6 Gift Tags Vintage Christmas\",\"Heart Filigree Dove Large\",\"Set Of Tea Coffee Sugar Tins Pantry\",\"Jumbo Bag Vintage Christmas\",\"Family Album White Picture Frame\",\"Potting Shed Tea Mug\",\"Silver Hanging T-Light Holder\",\"Set Of 6 Soldier Skittles\",\"Elephant Birthday Card\",\"Fawn Blue Hot Water Bottle\",\"Gin & Tonic Diet Greeting Card\",\"Set Of 6 Snack Loaf Baking Cases\",\"English Rose Notebook A7 Size\",\"Classic Cafe Sugar Dispenser\",\"Birthday Card Retro Spot\",\"Bundle Of 3 Alphabet Exercise Books\",\"Baking Set Spaceboy Design\",\"Enamel Bread Bin Cream\",\"Penny Farthing Birthday Card\",\"White Moroccan Metal Lantern\",\"Record Frame 7\\\" Single Size\",\"Wicker Star\",\"Feltcraft Cushion Rabbit\",\"Classic Metal Birdcage Plant Holder\",\"Miniature Antique Rose Hook Ivory\",\"Single Antique Rose Hook Ivory\",\"Large Ceramic Top Storage Jar\",\"Pack Of 12 Hearts Design Tissues\",\"Wooden Rounders Garden Set\",\"Ivory Wicker Heart Large\",\"Classic Glass Cookie Jar\",\"Floral Folk Stationery Set\",\"Red Retrospot Cup\",\"Set\\u002f6 Red Spotty Paper Cups\",\"Metal Sign Take It Or Leave It\",\"Pink Happy Birthday Bunting\",\"Alarm Clock Bakelike Chocolate\",\"Doormat Fairy Cake\",\"Set 20 Napkins Fairy Cakes Design\",\"Set Of 36 Paisley Flower Doilies\",\"Jam Jar With Pink Lid\",\"Card Psychedelic Apples\",\"Purple Drawerknob Acrylic Edwardian\",\"Childrens Cutlery Polkadot Blue\",\"Red Diner Wall Clock\",\"Box Of 24 Cocktail Parasols\",\"Recipe Box Retrospot\",\"Chick Grey Hot Water Bottle\",\"Set 6 Paper Table Lantern Hearts\",\"Tea Bag Plate Red Retrospot\",\"Set\\u002f4 White Retro Storage Cubes\",\"Blue Happy Birthday Bunting\",\"Set Of 9 Black Skull Balloons\",\"Ribbon Reel Hearts Design\",\"Revolver Wooden Ruler\",\"Set Of 36 Teatime Paper Doilies\",\"Set Of 36 Pantry Paper Doilies\",\"Set Of 3 Hanging Owls Ollie Beak\",\"Card Motorbike Santa\",\"Wooden Tree Christmas Scandinavian\",\"Set Of 3 Wooden Stocking Decoration\",\"Zinc Willie Winkie Candle Stick\",\"Card I Love London\",\"Drawer Knob Crackle Glaze Ivory\",\"Wooden Croquet Garden Set\",\"Assorted Colour Mini Cases\",\"Feltcraft Princess Lola Doll\",\"3 Raffia Ribbons 50'S Christmas\",\"Bag 125g Swirly Marbles\",\"Set Of 3 Wooden Sleigh Decorations\",\"Jam Jar With Green Lid\",\"London Bus Coffee Mug\",\"Antique Glass Dressing Table Pot\",\"Feltcraft Cushion Butterfly\",\"Traditional Pick Up Sticks Game\",\"3 Hook Photo Shelf Antique White\",\"Pack Of Six Led Tea Lights\",\"Hand Warmer Babushka Design\",\"Giraffe Wooden Ruler\",\"12 Coloured Party Balloons\",\"Vintage Cream Dog Food Container\",\"Set 12 Colour Pencils Spaceboy\",\"Set Of 10 Led Dolly Lights\",\"Card Christmas Village\",\"Card Birthday Cowboy\",\"Childrens Apron Apples Design\",\"Washroom Metal Sign\",\"Traditional Naughts & Crosses\",\"Red Retrospot Small Milk Jug\",\"36 Pencils Tube Skulls\",\"Ivory Diner Wall Clock\",\"Vintage Blue Kitchen Cabinet\",\"Picture Dominoes\",\"Silver Bells Table Decoration\",\"Set 2 Pantry Design Tea Towels\",\"Set Of 3 Wooden Tree Decorations\",\"Retrospot Large Milk Jug\",\"Toilet Metal Sign\",\"Black Record Cover Frame\",\"Poppy's Playhouse Kitchen\",\"Pink Polkadot Bowl\",\"Memo Board Retrospot Design\",\"Ribbon Reel Christmas Sock Bauble\",\"Pottering Mug\",\"Pantry Scrubbing Brush\",\"15cm Christmas Glass Ball 20 Lights\",\"Gin And Tonic Mug\",\"Set Of Salt And Pepper Toadstools\",\"Lantern Cream Gazebo\",\"Cream Cupid Hearts Coat Hanger\",\"Rotating Leaves T-Light Holder\",\"Sweetheart Recipe Book Stand\",\"Garland Wooden Happy Easter\",\"Bundle Of 3 Retro Note Books\",\"3d Traditional Christmas Stickers\",\"Home Sweet Home Hanging Heart\",\"Jumbo Bag Toys\",\"60 Teatime Fairy Cake Cases\",\"Roll Wrap 50'S Red Christmas\",\"Green Drawer Knob Acrylic Edwardian\",\"Small Ceramic Top Storage Jar\",\"Set 3 Retrospot Tea\\u002fCoffee\\u002fSugar\",\"French Wc Sign Blue Metal\",\"Decorative Wicker Heart Large\",\"Poppy's Playhouse Bedroom\",\"Blue Polkadot Cup\",\"Pack Of 20 Napkins Red Apples\",\"Ivory Wicker Heart Medium\",\"12 Pencils Tall Tube Red Retrospot\",\"Jingle Bell Heart Antique Silver\",\"Bread Bin Diner Style Ivory\",\"Cupcake Lace Paper Set 6\",\"Ribbon Reel Snowy Village\",\"Button Box\",\"Biscuit Tin Vintage Christmas\",\"White Wicker Star\",\"Blue Polkadot Bowl\",\"Victorian Metal Postcard Spring\",\"Calendar Paper Cut Design\",\"Set Of 4 Jam Jar Magnets\",\"Hanging Metal Star Lantern\",\"Vintage Kid Dolly Card\",\"Regency Sugar Bowl Green\",\"Pack Of 72 Skull Cake Cases\",\"Citronella Candle Garden Pot\",\"Pink Polkadot Cup\",\"Zinc T-Light Holder Star Large\",\"Feltcraft Doll Molly\",\"Set\\u002f3 Red Gingham Rose Storage Box\",\"12 Pencils Tall Tube Skulls\",\"Queens Guard Coffee Mug\",\"Pink Baby Bunting\",\"Laundry 15c Metal Sign\",\"Set 7 Babushka Nesting Boxes\",\"Treasure Tin Gymkhana Design\",\"Four Hook White Lovebirds\",\"Modern Floral Stationery Set\",\"Magnets Pack Of 4 Swallows\",\"Feltcraft Doll Rosie\",\"Feather Pen Hot Pink\",\"Biscuit Tin 50'S Christmas\",\"Pack Of 12 Coloured Pencils\",\"Red Retrospot Plate\",\"Photo Cube\",\"Full English Breakfast Plate\",\"Herb Marker Mint\",\"Enamel Measuring Jug Cream\",\"Jumbo Bag Dolly Girl Design\",\"Tea Time Oven Glove\",\"White Wood Garden Plant Ladder\",\"Medium Ceramic Top Storage Jar\",\"Regency Milk Jug Pink\",\"Blue Drawer Knob Acrylic Edwardian\",\"Small Red Retrospot Windmill\",\"Paper Bunting Vintage Paisley\",\"Herb Marker Rosemary\",\"Herb Marker Thyme\",\"Piggy Bank Retrospot\",\"Herb Marker Basil\",\"Pack Of 6 Sandcastle Flags Assorted\",\"Vintage Snakes & Ladders\",\"3d Vintage Christmas Stickers\",\"Decorative Wicker Heart Medium\",\"Red Spotty Biscuit Tin\",\"12 Pencils Tall Tube Woodland\",\"Retrospot Childrens Apron\",\"Retrospot Wooden Heart Decoration\",\"Set\\u002f20 Strawberry Paper Napkins\",\"Recipe Box Blue Sketchbook Design\",\"Balloon Water Bomb Pack Of 35\",\"Paper Bunting Coloured Lace\",\"Glass Bon Bon Jar\",\"Glass Heart T-Light Holder\",\"Large Heart Measuring Spoons\",\"Set\\u002f2 Red Retrospot Tea Towels\",\"Circus Parade Lunch Box\",\"Red Floral Feltcraft Shoulder Bag\",\"Union Stripe With Fringe Hammock\",\"Set 6 Paper Table Lantern Stars\",\"Storage Tin Vintage Doily\",\"Lunch Box With Cutlery Retrospot\",\"Picture Frame Wood Triple Portrait\",\"Herb Marker Parsley\",\"Deluxe Sewing Kit\",\"Ribbon Reel Christmas Present\",\"Paint Your Own Canvas Set\",\"Ceramic Cherry Cake Money Bank\",\"Doormat Home Sweet Home Blue\",\"Family Photo Frame Cornice\",\"Christmas Lights 10 Reindeer\",\"Card Party Games\",\"Feltcraft Christmas Fairy\",\"Wood Stamp Set Thank You\",\"Drawer Knob Ceramic Ivory\",\"Retrospot Party Bag + Sticker Set\",\"Wooden Happy Birthday Garland\",\"Silver Stars Table Decoration\",\"Red Retrospot Umbrella\",\"English Rose Hot Water Bottle\",\"Home Sweet Home Metal Sign\",\"Set 12 Colour Pencils Dolly Girl\",\"Christmas Toilet Roll\",\"Box Of Vintage Alphabet Blocks\",\"Red Retrospot Round Cake Tins\",\"36 Doilies Vintage Christmas\",\"Blue Diner Wall Clock\",\"Coffee Mug Apples Design\",\"Fluted Antique Candle Holder\",\"Embossed Glass Tealight Holder\",\"Rainy Ladies Birthday Card\",\"Pearl Crystal Pumpkin T-Light Hldr\",\"Rocking Horse Red Christmas\",\"Red Retrospot Mini Cases\",\"Heart Wooden Christmas Decoration\",\"Bingo Set\",\"Jumbo Bag Paisley Park\",\"Pack Of 20 Skull Paper Napkins\",\"Coffee Mug Cat + Bird Design\",\"Doormat Welcome Puppies\",\"Coloured Glass Star T-Light Holder\",\"Star Wooden Christmas Decoration\",\"Set\\u002f6 Collage Paper Plates\",\"Childrens Cutlery Spaceboy\",\"Cacti T-Light Candles\",\"Vintage Leaf Magnetic Notepad\",\"French Bathroom Sign Blue Metal\",\"Edwardian Parasol Red\",\"Bag 250g Swirly Marbles\",\"Christmas Metal Tags Assorted\",\"Set Of 5 Lucky Cat Magnets\",\"Doormat Vintage Leaf\",\"Card Gingham Rose\",\"3 Piece Spaceboy Cookie Cutter Set\",\"Travel Card Wallet Keep Calm\",\"Watering Can Blue Elephant\",\"Vintage Christmas Gift Sack\",\"Lavender Scented Fabric Heart\",\"Airline Bag Vintage Tokyo 78\",\"Jingle Bell Heart Decoration\",\"Feltcraft Girl Amelie Kit\",\"Children's Spaceboy Mug\",\"Pack Of 60 Pink Paisley Cake Cases\",\"Set 40 Heart Shape Petit Four Cases\",\"Pink Floral Feltcraft Shoulder Bag\",\"Folkart Zinc Heart Christmas Dec\",\"Ice Cream Bubbles\",\"Lunch Bag Paisley Park\",\"Christmas Gingham Tree\",\"Balloons Writing Set\",\"Christmas Gingham Star\",\"Fairy Tale Cottage Night Light\",\"I Can Only Please One Person Mug\",\"60 Cake Cases Vintage Christmas\",\"12 Message Cards With Envelopes\",\"Glass Apothecary Bottle Perfume\",\"Metal Sign Empire Tea\",\"Wall Art Stop For Tea\",\"Triple Photo Frame Cornice\",\"Red Gingham Rose Jewellery Box\",\"Chocolate Box Ribbons\",\"Heart Decoration With Pearls\",\"Happy Stencil Craft\",\"Pack 3 Boxes Bird Panettone\",\"Wall Tidy Retrospot\",\"Skull Lunch Box With Cutlery\",\"Playing Cards Jubilee Union Jack\",\"Easter Craft 4 Chicks\",\"Christmas Retrospot Angel Wood\",\"Set Of 4 Knick Knack Tins London\",\"Toy Tidy Spaceboy\",\"Herb Marker Chives\",\"Set Of 9 Heart Shaped Balloons\",\"Card Cat And Tree\",\"Heart Decoration Rustic Hanging\",\"Open Closed Metal Sign\",\"Doormat 3 Smiley Cats\",\"Boys Vintage Tin Seaside Bucket\",\"French Enamel Candleholder\",\"Charlie And Lola Figures Tins\",\"Coffee Mug Dog + Ball Design\",\"Bath Building Block Word\",\"Coffee Mug Pears Design\",\"Bundle Of 3 School Exercise Books\",\"Childrens Dolly Girl Mug\",\"Wall Art Bicycle Safety\",\"Retrospot Red Washing Up Gloves\",\"Set Of 2 Wooden Market Crates\",\"Red Metal Beach Spade\",\"Childrens Cutlery Polkadot Green\",\"Peg Bag Apples Design\",\"Red Retrospot Oven Glove Double\",\"Advent Calendar Gingham Sack\",\"Watering Can Pink Bunny\",\"Pantry Rolling Pin\",\"Pink Doughnut Trinket Pot\",\"Feltcraft Doll Emily\",\"3 Traditional Biscuit Cutters Set\",\"Small Chocolates Pink Bowl\",\"Drawer Knob Crackle Glaze Green\",\"Strawberry Picnic Bag\",\"Vintage Doily Jumbo Bag Red\",\"English Rose Garden Secateurs\",\"Glitter Hanging Butterfly String\",\"Poppy's Playhouse Livingroom\",\"36 Pencils Tube Woodland\",\"Lipstick Pen Red\",\"Banquet Birthday Card\",\"Antique Glass Pedestal Bowl\",\"Vintage Christmas Cake Frill\",\"French Blue Metal Door Sign 1\",\"Set 10 Night Owl Lights\",\"Heads And Tails Sporting Fun\",\"Pack Of 12 Suki Tissues\",\"Christmas Pudding Trinket Pot\",\"Hanging Heart With Bell\",\"Treasure Island Book Box\",\"Children's Apron Dolly Girl\",\"Christmas Retrospot Star Wood\",\"Regency Sugar Tongs\",\"Grow Your Own Basil In Enamel Mug\",\"Red Baby Bunting\",\"Red Drawer Knob Acrylic Edwardian\",\"Vintage Donkey Tail Game\",\"Doorstop Retrospot Heart\",\"Ceramic Cake Design Spotted Mug\",\"Glass Apothecary Bottle Tonic\",\"Set Of 4 English Rose Coasters\",\"12 Pencil Small Tube Woodland\",\"Doormat Multicolour Stripe\",\"Girls Alphabet Iron On Patches\",\"French Blue Metal Door Sign 2\",\"Childrens Cutlery Dolly Girl\",\"Kitchen Metal Sign\",\"Hot Water Bottle Babushka\",\"Set Of 4 English Rose Placemats\",\"Photo Frame 3 Classic Hanging\",\"72 Sweetheart Fairy Cake Cases\",\"Red Retrospot Butter Dish\",\"Mint Kitchen Scales\",\"Card Dog And Ball\",\"Bird House Hot Water Bottle\",\"French Toilet Sign Blue Metal\",\"Set Of 6 Herb Tins Sketchbook\",\"Antique All Glass Candlestick\",\"3d Christmas Stamps Stickers\",\"Metal Sign Cupcake Single Hook\",\"20 Dolly Pegs Retrospot\",\"Set Of 5 Pancake Day Magnets\",\"Classic Chrome Bicycle Bell\",\"12 Pencils Small Tube Skull\",\"Hanging Heart Mirror Decoration\",\"Cake Plate Lovebird White\",\"Bread Bin Diner Style Red\",\"Feltcraft Princess Olivia Doll\",\"Set Of 5 Mini Grocery Magnets\",\"Polyester Filler Pad 40x40cm\",\"Key Fob Shed\",\"Set Of 2 Tea Towels Apple And Pears\",\"10 Colour Spaceboy Pen\",\"Card Wedding Day\",\"Recycled Acapulco Mat Turquoise\",\"Glass Apothecary Bottle Elixir\",\"Heart Wreath Decoration With Bell\",\"Toilet Sign Occupied Or Vacant\",\"Assorted Colour T-Light Holder\",\"Set Of 6 Nativity Magnets\",\"Memo Board Cottage Design\",\"Round Snack Boxes Set Of 4 Skulls\",\"Assorted Bottle Top Magnets\",\"Christmas Hanging Star With Bell\",\"Bottle Bag Retrospot\",\"Pink Heart Shape Egg Frying Pan\",\"Heart Ivory Trellis Small\",\"Charlie+Lola Pink Hot Water Bottle\",\"Blue Vintage Spot Beaker\",\"Ribbon Reel Making Snowmen\",\"Set 12 Colouring Pencils Doily\",\"Christmas Lights 10 Vintage Baubles\",\"Christmas Retrospot Tree Wood\",\"Pack 3 Boxes Christmas Panettone\",\"Pantry Pastry Brush\",\"Set Of 3 Cake Tins Sketchbook\",\"White Lovebird Lantern\",\"Round Cake Tin Vintage Red\",\"S\\u002f6 Wooden Skittles In Cotton Bag\",\"Glitter Butterfly Clips\",\"Pack Of 60 Dinosaur Cake Cases\",\"Girls Vintage Tin Seaside Bucket\",\"Vintage Cream Cat Food Container\",\"Victorian Sewing Box Small\",\"Rocking Horse Green Christmas\",\"Mini Cake Stand Hanging Strawbery\",\"Camouflage Led Torch\",\"Vintage Glass T-Light Holder\",\"Set Of 6 T-Lights Santa\",\"Christmas Tree Star Decoration\",\"Green Christmas Tree Card Holder\",\"Fairy Cakes Notebook A7 Size\",\"Gaolers Keys Decorative Garden\",\"Wood Stocking Christmas Scandispot\",\"Bull Dog Bottle Opener\",\"Feather Pen Coal Black\",\"Key Ring Baseball Boot Assorted\",\"Mini Playing Cards Spaceboy\",\"Drawer Knob Crackle Glaze Pink\",\"Set Of 60 Pantry Design Cake Cases\",\"Watering Can Green Dinosaur\",\"Drawer Knob Crackle Glaze Blue\",\"Ivory Hanging Decoration Heart\",\"Heart Shaped Holly Wreath\",\"Doormat Black Flock\",\"Home Sweet Home Cushion Cover\",\"Empire Birthday Card\",\"Monsters Stencil Craft\",\"Black\\u002fBlue Polkadot Umbrella\",\"Hen House Decoration\",\"Man Flu Metal Sign\",\"Vintage Bells Garland\",\"Welcome Wooden Block Letters\",\"Pack Of 12 Traditional Crayons\",\"Retro Coffee Mugs Assorted\",\"Apple Bath Sponge\",\"Enchanted Bird Coathanger 5 Hook\",\"Ribbon Reel Lace Design\",\"Silver Hearts Table Decoration\",\"Dinosaurs Writing Set\",\"Set 12 Kids Colour Chalk Sticks\",\"Swallow Wooden Christmas Decoration\",\"Pack Of 6 Large Fruit Straws\",\"Feltcraft Girl Nicole Kit\",\"Metal Sign Drop Your Pants\",\"Set3 Book Box Green Gingham Flower\",\"Decoration White Chick Magic Garden\",\"French Blue Metal Door Sign 5\",\"Romantic Pinks Ribbons\",\"Jazz Hearts Purse Notebook\",\"Antique Tall Swirlglass Trinket Pot\",\"Small Red Babushka Notebook\",\"Retrospot Small Tube Matches\",\"Food Container Set 3 Love Heart\",\"French Blue Metal Door Sign 3\",\"Vintage Caravan Greeting Card\",\"Box Of Vintage Jigsaw Blocks\",\"Polyester Filler Pad 45x45cm\",\"Wooden Advent Calendar Red\",\"Victorian Sewing Box Large\",\"Pack Of 6 Panettone Gift Boxes\",\"Owl Doorstop\",\"Doormat Union Jack Guns And Roses\",\"Abc Treasure Book Box\",\"Christmas Table Silver Candle Spike\",\"Travel Card Wallet Vintage Ticket\",\"Musical Zinc Heart Decoration\",\"Red Retrospot Mug\",\"Star Decoration Painted Zinc\",\"Spaceboy Childrens Egg Cup\",\"Set 3 Paper Vintage Chick Paper Egg\",\"Gumball Magazine Rack\",\"Skulls Water Transfer Tattoos\",\"Slate Tile Natural Hanging\",\"Red Metal Box Top Secret\",\"Set Of 60 I Love London Cake Cases\",\"French Kitchen Sign Blue Metal\",\"Parisienne Jewellery Drawer\",\"Pink Polkadot Plate\",\"T-Light Holder Sweetheart Hanging\",\"Skulls Writing Set\",\"Red Retrospot Sugar Jam Bowl\",\"Triple Hook Antique Ivory Rose\",\"Wood Stamp Set Flowers\",\"Doormat Airmail\",\"Skulls Greeting Card\",\"Box Of 6 Christmas Cake Decorations\",\"Victorian Sewing Box Medium\",\"Star Wreath Decoration With Bell\",\"Green Polkadot Bowl\",\"Small Parisienne Heart Photo Frame\",\"Place Setting White Heart\",\"Set 8 Candles Vintage Doily\",\"Mistletoe Heart Wreath Green\",\"Set\\u002f6 Pink Butterfly T-Lights\",\"Set Of 6 T-Lights Snowmen\",\"Set Of 6 3d Kit Cards For Kids\",\"Pack Of 60 Spaceboy Cake Cases\",\"Zinc Herb Garden Container\",\"Pack Of 12 Red Retrospot Tissues\",\"S\\u002f4 Pink Flower Candles In Bowl\",\"Big Doughnut Fridge Magnets\",\"Treasure Tin Buffalo Bill\",\"Christmas Tree Heart Decoration\",\"Jumbo Bag Charlie And Lola Toys\",\"Oven Mitt Apples Design\",\"Large Circular Mirror Mobile\",\"Ceramic Strawberry Design Mug\",\"Set 36 Colouring Pencils Doily\",\"Strawberry Bath Sponge\",\"12 Pencils Small Tube Red Retrospot\",\"Vintage Red Enamel Trim Mug\",\"Gentleman Shirt Repair Kit\",\"Vintage Billboard Drink Me Mug\",\"Red Vintage Spot Beaker\",\"Set\\u002f4 Skull Badges\",\"Small Purple Babushka Notebook\",\"Feltcraft Hairband Red And Blue\",\"Dolly Girl Childrens Egg Cup\",\"Spaceboy Childrens Cup\",\"Blue Polkadot Plate\",\"Beaded Crystal Heart Pink On Stick\",\"Childs Breakfast Set Spaceboy\",\"Zinc Heart Flower T-Light Holder\",\"Lipstick Pen Fuschia\",\"Moroccan Tea Glass\",\"French Blue Metal Door Sign 4\",\"French Blue Metal Door Sign 6\",\"Ring Of Roses Birthday Card\",\"Petit Tray Chic\",\"Parisienne Key Cabinet\",\"Star T-Light Holder Willie Winkie\",\"Asstd Design Racing Car Pen\",\"Ivory Giant Garden Thermometer\",\"Set 36 Colour Pencils Spaceboy\",\"Mini Cake Stand With Hanging Cakes\",\"6 Ribbons Empire\",\"Mini Wooden Happy Birthday Garland\",\"Vintage Embossed Heart\",\"Enamel Wash Bowl Cream\",\"Baking Mould Chocolate Cupcakes\",\"Feltcraft Hairbands Pink And White\",\"Knickerbockerglory Magnet Assorted\",\"Decoration Butterfly Magic Garden\",\"Recycled Pencil With Rabbit Eraser\",\"Small Hanging Ivory\\u002fRed Wood Bird\",\"Set Of 2 Ceramic Painted Hearts\",\"Green Vintage Spot Beaker\",\"Card Holder Gingham Heart\",\"Kneeling Mat Housework Design\",\"Doormat Topiary\",\"Vintage Union Jack Memoboard\",\"Citronella Candle Flowerpot\",\"Chocolate Calculator\",\"Key Fob Back Door\",\"Regency Tea Strainer\",\"Belle Jardiniere Cushion Cover\",\"Feather Pen Light Pink\",\"Key Ring Baseball Boot Union Jack\",\"Kings Choice Tea Caddy\",\"No Junk Mail Metal Sign\",\"Red Retrospot Tea Cup And Saucer\",\"Vintage Union Jack Pennant\",\"Set Of 4 Knick Knack Tins Poppies\",\"Feltcraft Hairband Pink And Purple\",\"Strawberry Fairy Cake Teapot\",\"Airline Lounge Metal Sign\",\"Pink Party Bags\",\"Pink Vintage Spot Beaker\",\"Food Cover With Beads Set 2\",\"Childs Garden Fork Pink\",\"French Garden Sign Blue Metal\",\"Fairy Cakes Notebook A6 Size\",\"Heart T-Light Holder Willie Winkie\",\"Pack Of 12 Pink Polkadot Tissues\",\"Red Retrospot Tape\",\"Glass Beurre Dish\",\"Wood Stamp Set Happy Birthday\",\"Reindeer Heart Decoration Silver\",\"Baking Mould Heart Milk Chocolate\",\"Vintage Doily Deluxe Sewing Kit\",\"French Blue Metal Door Sign 7\",\"Set Of 4 Knick Knack Tins Leaf\",\"Tote Bag I Love London\",\"Sketchbook Magnetic Shopping List\",\"Set Of 6 T-Lights Toadstools\",\"Enamel Watering Can Cream\",\"Gymkhana Treasure Book Box\",\"Bunny Wooden Painted With Bird\",\"Pack Of 6 Skull Paper Plates\",\"Parisienne Curio Cabinet\",\"12 Ivory Rose Peg Place Settings\",\"Set 12 Retro White Chalk Sticks\",\"Children's Circus Parade Mug\",\"Pack Of 12 Sticky Bunnies\",\"Foot Stool Home Sweet Home\",\"Alphabet Stencil Craft\",\"Cream Sweetheart Egg Holder\",\"Spaceboy Childrens Bowl\",\"Aluminium Stamped Heart\",\"Mini Playing Cards Dolly Girl\",\"Glass Jar English Confectionery\",\"Recycled Acapulco Mat Green\",\"Wood Stamp Set Best Wishes\",\"Victorian Sewing Kit\",\"Garage Key Fob\",\"Vintage Billboard Love\\u002fHate Mug\",\"Metal Sign Neighbourhood Witch\",\"Childs Garden Fork Blue\",\"Traditional Modelling Clay\",\"Rose Cottage Keepsake Box\",\"French Blue Metal Door Sign 8\",\"Large Ivory Heart Wall Organiser\",\"3 Tier Cake Tin Green And Cream\",\"Beaded Pearl Heart White On Stick\",\"6 Rocket Balloons\",\"Retrospot Giant Tube Matches\",\"Home Sweet Home Blackboard\",\"Magnets Pack Of 4 Vintage Collage\",\"Gingham Heart Doorstop Red\",\"Set Of 4 Rose Botanical Candles\",\"Feltcraft Hairband Pink And Blue\",\"Hanging Hen On Nest Decoration\",\"Dairy Maid Toastrack\",\"Funky Washing Up Gloves Assorted\",\"Magnets Pack Of 4 Home Sweet Home\",\"Jigsaw Tree With Birdhouse\",\"Glass Star Frosted T-Light Holder\",\"Doormat Respectable House\",\"Mini Playing Cards Gymkhana\",\"Union Jack Flag Luggage Tag\",\"Heart Decoration Painted Zinc\",\"6 Ribbons Elegant Christmas\",\"Wall Art Dog Licence\",\"Black Heart Card Holder\",\"Vintage Red Trim Enamel Bowl\",\"Wooden Advent Calendar Cream\",\"Dolly Girl Beaker\",\"Birdhouse Garden Marker\",\"Dolly Girl Childrens Cup\",\"Skulls Stickers\",\"Zinc Heart T-Light Holder\",\"Charlie + Lola Red Hot Water Bottle\",\"Red Star Card Holder\",\"Skulls Party Bag + Sticker Set\",\"Le Jardin Botanique Cushion Cover\",\"Round Cake Tin Vintage Green\",\"Childs Breakfast Set Dolly Girl\",\"French Paisley Cushion Cover\",\"Doormat Merry Christmas Red\",\"S\\u002f4 Cacti Candles\",\"Pack Of 12 Skull Tissues\",\"Sewing Susan 21 Needle Set\",\"First Aid Tin\",\"French Laundry Sign Blue Metal\",\"Glitter Heart Decoration\",\"Tradtional Alphabet Stamp Set\",\"Party Cone Christmas Decoration\",\"Dolly Girl Childrens Bowl\",\"Birdhouse Decoration Magic Garden\",\"Red Spot Paper Gift Bag\",\"Ribbon Reel Polkadots\",\"French Lavender Scent Heart\",\"Large Pink Glass Sundae Dish\",\"Spaceboy Beaker\",\"Wooden Skittles Garden Set\",\"Make Your Own Flowerpower Card Kit\",\"Pack Of 6 Skull Paper Cups\",\"Ceramic Pirate Chest Money Bank\",\"Mini Cake Stand T-Light Holder\",\"Round Container Set Of 5 Retrospot\",\"4 Vanilla Botanical Candles\",\"Childs Breakfast Set Circus Parade\",\"Christmas Metal Postcard With Bells\",\"Sleeping Cat Erasers\",\"Set Of 12 T-Lights Vintage Doily\",\"Silver Mug Bone China Tree Of Life\",\"Bunny Decoration Magic Garden\",\"Set\\u002f6 Turquoise Butterfly T-Lights\",\"Mini Playing Cards Buffalo Bill\",\"Fridge Magnets Us Diner Assorted\",\"Dinosaur Lunch Box With Cutlery\",\"Decoration Sitting Bunny\",\"Red Retrospot Traditional Teapot\",\"Bohemian Collage Stationery Set\",\"Recycled Acapulco Mat Red\",\"Folding Butterfly Mirror Hot Pink\",\"Jazz Hearts Address Book\",\"Boys Alphabet Iron On Patches\",\"Vintage Union Jack Apron\",\"Biscuits Small Bowl Light Blue\",\"36 Foil Heart Cake Cases\",\"Wooden Owls Light Garland\",\"Urban Black Ribbons\",\"Poppy's Playhouse Bathroom\",\"Felt Egg Cosy Chicken\",\"Egg Cup Natural Chicken\",\"Mini Lights Woodland Mushrooms\",\"Cream Wall Planter Heart Shaped\",\"Ribbon Reel Flora + Fauna\",\"Holiday Fun Ludo\",\"Ceramic Cake Stand + Hanging Cakes\",\"Jingle Bell Heart Antique Gold\",\"Travel Card Wallet I Love London\",\"Easter Tin Bunny Bouquet\",\"Bird Decoration Green Polkadot\",\"Set 36 Colour Pencils Dolly Girl\",\"Hearts Stickers\",\"6 Ribbons Shimmering Pinks\",\"Box Of 6 Assorted Colour Teaspoons\",\"Love Seat Antique White Metal\",\"Childs Garden Trowel Blue\",\"Blue Giant Garden Thermometer\",\"Natural Hanging Quilted Hearts\",\"Party Charms 50 Pieces\",\"Toy Tidy Dolly Girl Design\",\"Ivory Hanging Decoration Bird\",\"Large Cake Stand Hanging Strawbery\",\"50'S Christmas Gift Bag Large\",\"60 Cake Cases Dolly Girl Design\",\"Heart Filigree Dove Small\",\"Cinammon Set Of 9 T-Lights\",\"Red Retrospot Childrens Umbrella\",\"Spaceboy Mini Backpack\",\"White Brocante Soap Dish\",\"Kings Choice Mug\",\"French Blue Metal Door Sign No\",\"Christmas Tree Decoration With Bell\",\"Fridge Magnets La Vie En Rose\",\"Ribbon Reel Socks And Mittens\",\"Emergency First Aid Tin\",\"Pizza Plate In Box\",\"French Blue Metal Door Sign 0\",\"Ceramic Cake Bowl + Hanging Cakes\",\"Ivory Sweetheart Wire Letter Rack\",\"Large Red Babushka Notebook\",\"Novelty Biscuits Cake Stand 3 Tier\",\"Porcelain T-Light Holders Assorted\",\"Wall Art Classic Puddings\",\"Snowflake Portable Table Light\",\"Small Ivory Heart Wall Organiser\",\"Sandalwood Fan\",\"Glass Jar Daisy Fresh Cotton Wool\",\"Set Of 12 Fork Candles\",\"Large Antique White Photo Frame\",\"Toadstool Money Box\",\"Save The Planet Cotton Tote Bag\",\"Mirrored Disco Ball\",\"4 Lavender Botanical Dinner Candles\",\"Regency Cake Fork\",\"Set\\u002f6 Purple Butterfly T-Lights\",\"Mini Funky Design Tapes\",\"Set Of 60 Vintage Leaf Cake Cases\",\"Set Of 2 Christmas Decoupage Candle\",\"3 Tier Cake Tin Red And Cream\",\"Set\\u002f4 Spring Flower Decoration\",\"Vintage Cream 3 Basket Cake Stand\",\"Pack Of 12 Woodland Tissues\",\"Circus Parade Childrens Egg Cup\",\"Silver Record Cover Frame\",\"Union Jack Flag Passport Cover\",\"Set\\u002f3 Vanilla Scented Candle In Box\",\"Single Wire Hook Ivory Heart\",\"Babushka Lights String Of 10\",\"Jungle Popsicles Ice Lolly Moulds\",\"Mistletoe Heart Wreath Cream\",\"Set Of 4 Napkin Charms Hearts\",\"Small Yellow Babushka Notebook\",\"Blue\\u002fCream Stripe Cushion Cover\",\"Buffalo Bill Treasure Book Box\",\"Fanny's Rest Stopmetal Sign\",\"4 Pear Botanical Dinner Candles\",\"Vintage Red Enamel Trim Jug\",\"Romantic Images Gift Wrap Set\",\"Scottie Dogs Baby Bib\",\"Blue Party Bags\",\"Fridge Magnets Les Enfants Assorted\",\"Set 12 Colour Pencils Love London\",\"Make Your Own Monsoon Card Kit\",\"Frying Pan Union Flag\",\"Pack Of 12 50'S Christmas Tissues\",\"Classic French Style Basket Natural\",\"French Blue Metal Door Sign 9\",\"Folding Butterfly Mirror Ivory\",\"Toast Its - I Love You\",\"Hanging Butterfly T-Light Holder\",\"Recycled Acapulco Mat Blue\",\"Decorative Rose Bathroom Bottle\",\"Black Kitchen Scales\",\"Key Fob Front Door\",\"Dog Bowl Chasing Ball Design\",\"Set 3 Song Bird Paper Eggs Assorted\",\"Easter Tin Keepsake\",\"Christmas Tree Hanging Silver\",\"Set\\u002f10 Red Polkadot Party Candles\",\"Travel Card Wallet Transport\",\"Travel Card Wallet Suki\",\"Set\\u002f6 Collage Paper Cups\",\"Pack Of 60 Mushroom Cake Cases\",\"Set Of 3 Bird Light Pink Feather\",\"Angel Decoration 3 Buttons\",\"Light Garland Butterfiles Pink\",\"Decoration Pink Chick Magic Garden\",\"Set Of 16 Vintage Pistachio Cutlery\",\"Childrens Toy Cooking Utensil Set\",\"Picnic Boxes Set Of 3 Retrospot\",\"Pocket Bag Blue Paisley Red Spot\",\"French Floral Cushion Cover\",\"Sweetheart Wire Magazine Rack\",\"Star Decoration Rustic\",\"Airline Bag Vintage Jet Set Red\",\"Toothpaste Tube Pen\",\"Cardholder Holly Wreath Metal\",\"3 Raffia Ribbons Vintage Christmas\",\"Vintage Red Enamel Trim Plate\",\"Watering Can Garden Marker\",\"6 Chocolate Love Heart T-Lights\",\"S\\u002f4 Ivory Mini Rose Candle In Bowl\",\"Glamorous Mug\",\"Drawer Knob Ceramic Black\",\"Charlie & Lola Wastepaper Bin Flora\",\"Large Red Retrospot Windmill\",\"Multicolour Spring Flower Mug\",\"Large Purple Babushka Notebook\",\"More Butter Metal Sign\",\"Wicker Wreath Large\",\"Cat Bowl Vintage Cream\",\"Spaceboy Baby Gift Set\",\"3 Rose Morris Boxed Candles\",\"Reindeer Heart Decoration Gold\",\"Retro Mod Tray\",\"Pack Of 12 Pink Paisley Tissues\",\"Set Of 4 Santa Place Settings\",\"Pink Owl Soft Toy\",\"Vintage Christmas Tablecloth\",\"Childs Garden Trowel Pink\",\"Ass Floral Print Multi Screwdriver\",\"Hanging Quilted Patchwork Apples\",\"Cream Felt Easter Egg Basket\",\"3 Hook Hanger Magic Garden\",\"Set Of 2 Ceramic Christmas Reindeer\",\"Polkadot Rain Hat\",\"Ceramic Cake Design Spotted Plate\",\"Baking Mould Easter Egg Milk Choc\",\"Retrospot Lamp\",\"Red Spot Gift Bag Large\",\"Large Cake Towel Pink Spots\",\"Woodland Party Bag + Sticker Set\",\"Pack Of 12 Spaceboy Tissues\",\"Kings Choice Biscuit Tin\",\"Red Heart Shape Love Bucket\",\"Charlie + Lola Biscuits Tins\",\"Vintage Christmas Gift Bag Large\",\"Vintage Christmas Paper Gift Bag\",\"Wall Art Only One Person\",\"Beaded Crystal Heart Green On Stick\",\"Christmas Lights 10 Santas\",\"Christmas Tree Hanging Gold\",\"Blossom Images Gift Wrap Set\",\"Bread Bin Diner Style Mint\",\"T-Light Holder Hanging Love Bird\",\"Playing Cards Vintage Doily\",\"Illustrated Cat Bowl\",\"Travel Card Wallet Retrospot\",\"Red Love Heart Shape Cup\",\"Set Of 6 Funky Beakers\",\"Balloon Pump With 10 Balloons\",\"Green Polkadot Plate\",\"Dairy Maid Large Milk Jug\",\"Biscuit Tin Vintage Red\",\"Vanilla Scent Candle Jewelled Box\",\"200 Red + White Bendy Straws\",\"Laurel Heart Antique Silver\",\"Enamel Colander Cream\",\"Green Giant Garden Thermometer\",\"Wicker Wreath Small\",\"Feltcraft Boy Jean-Paul Kit\",\"Madras Notebook Medium\",\"Christmas Musical Zinc Star\",\"Gold Mini Tape Measure\",\"Zinc Heart Lattice T-Light Holder\",\"Bag 500g Swirly Marbles\",\"Recycled Acapulco Mat Pink\",\"Strawberry Honeycomb Garland\",\"Poste France Cushion Cover\",\"Set\\u002f10 Pink Polkadot Party Candles\",\"Porcelain Rose Small\",\"Metal Sign His Dinner Is Served\",\"Heart Mini Portrait Frame\",\"Decoration Wobbly Rabbit Metal\",\"Filigris Heart With Butterfly\",\"Potting Shed Seed Envelopes\",\"50'S Christmas Paper Gift Bag\",\"Envelope 50 Blossom Images\",\"Stars Gift Tape\",\"Love Heart Trinket Pot\",\"Tropical Honeycomb Paper Garland\",\"Hanging Wood And Felt Butterfly\",\"Parisienne Sewing Box\",\"Garland With Stars And Bells\",\"Kings Choice Giant Tube Matches\",\"Mint Diner Wall Clock\",\"Gingham Recipe Book Box\",\"Red Enchanted Forest Placemat\",\"Pretty Hanging Quilted Hearts\",\"Regency Tea Spoon\",\"Rain Poncho Retrospot\",\"Lunch Bag Red Vintage Doily\",\"Travel Card Wallet Vintage Leaf\",\"Set 4 Valentine Decoupage Heart Box\",\"Rustic Seventeen Drawer Sideboard\",\"Antique Silver Bauble Lamp\",\"Edwardian Parasol Pink\",\"Glitter Christmas Star\",\"4 Lily Botanical Dinner Candles\",\"Party Cones Candy Assorted\",\"Cotton Apron Pantry Design\",\"Ivory Love Bird Candle\",\"Wooden Regatta Bunting\",\"Childrens Garden Gloves Blue\",\"Five Heart Hanging Decoration\",\"Hanging Wood And Felt Heart\",\"Set Of 4 Napkin Charms Cutlery\",\"Set\\u002f4 Red Mini Rose Candle In Bowl\",\"Measuring Tape Babushka Pink\",\"Black Tea Towel Classic Design\",\"Baking Mould Heart White Chocolate\",\"Soap Dish Brocante\",\"Set Of 6 Heart Chopsticks\",\"Red Gingham Teddy Bear\",\"Pink Paper Parasol\",\"Painted Pink Rabbit\",\"Dinosaur Party Bag + Sticker Set\",\"Magic Drawing Slate Spaceboy\",\"Cake Stand Victorian Filigree Med\",\"Bread Bin Diner Style Pink\",\"White Jewelled Heart Decoration\",\"Toast Its - Fairy Flower\",\"Decorative Flore Bathroom Bottle\",\"Travel Card Wallet Union Jack\",\"Dog Bowl Vintage Cream\",\"Set 3 Wicker Storage Baskets\",\"Dolly Girl Baby Gift Set\",\"Felt Farm Animal Rabbit\",\"Set Of 2 Ceramic Christmas Trees\",\"Cherub Heart Decoration Silver\",\"Daisies Honeycomb Garland\",\"Strawberry Raffia Food Cover\",\"French Enamel Pot W Lid\",\"Magnets Pack Of 4 Vintage Labels\",\"Playing Cards I Love London\",\"6 Egg House Painted Wood\",\"Apron Modern Vintage Cotton\",\"French Enamel Water Basin\",\"Mini Ladle Love Heart Pink\",\"Decorative Cats Bathroom Bottle\",\"Party Invites Woodland\",\"Curious Images Gift Wrap Set\",\"Pack Of 12 Blue Paisley Tissues\",\"Mouse Toy With Pink T-Shirt\",\"Glass Cloche Small\",\"Danish Rose Round Sewing Box\",\"Wall Art Big Love\",\"Mirror Mosaic Votive Holder\",\"Green Metal Box Army Supplies\",\"Charlie+Lola Red Hot Water Bottle\",\"Party Invites Dinosaurs\",\"Folkart Star Christmas Decorations\",\"Vintage Union Jack Cushion Cover\",\"Pink Love Heart Shape Cup\",\"Cabin Bag Vintage Retrospot\",\"Bird Decoration Red Retrospot\",\"Set Of 3 Black Flying Ducks\",\"Pack Of 12 Paisley Park Tissues\",\"Tea For One Polkadot\",\"Fairy Cake Design Umbrella\",\"Felt Egg Cosy White Rabbit\",\"Pharmacie First Aid Tin\",\"Vintage Seaside Jigsaw Puzzles\",\"Botanical Lavender Birthday Card\",\"Rose Caravan Doorstop\",\"4 Ivory Dinner Candles Silver Flock\",\"Christmas Tree Painted Zinc\",\"Noel Garland Painted Zinc\",\"36 Foil Star Cake Cases\",\"Set 36 Colour Pencils Love London\",\"Daisy Garden Marker\",\"Magic Tree -Paper Flowers\",\"Overnight Bag Vintage Rose Paisley\",\"Crazy Daisy Heart Decoration\",\"Painted Yellow Wooden Daisy\",\"Rose 3 Wick Morris Box Candle\",\"Tea Time Kitchen Apron\",\"Metal Merry Christmas Wreath\",\"Christmas Hanging Tree With Bell\",\"Toast Its - Best Mum\",\"Set Of 36 Dolly Girl Paper Doilies\",\"Yellow Metal Chicken Heart\",\"Tray Breakfast In Bed\",\"Set\\u002f6 Fruit Salad Paper Plates\",\"Heart Calculator\",\"Glass Jar Digestive Biscuits\",\"Balloon Art Make Your Own Flowers\",\"Parlour Ceramic Wall Hook\",\"Decorative Wicker Heart Small\",\"Doormat Welcome Sunrise\",\"Hanging Spring Flower Egg Large\",\"Painted Metal Star With Holly Bells\",\"Cherry Blossom Decorative Flask\",\"Ping Microwave Apron\",\"Union Stripe Cushion Cover\",\"Lipstick Pen Baby Pink\",\"Storage Tin Vintage Leaf\",\"Cosy Hour Cigar Box Matches\",\"Skull And Crossbones Garland\",\"Gift Bag Psychedelic Apples\",\"Cocktail Swords 50 Pieces\",\"Party Invites Jazz Hearts\",\"French Lattice Cushion Cover\",\"5 Hook Hanger Red Magic Toadstool\",\"Flower Vine Raffia Food Cover\",\"Glitter Christmas Tree With Bells\",\"Pack Of 12 Vintage Christmas Tissue\",\"Metal Decoration Naughty Children\",\"Egg Cup Milkmaid Heidi\",\"Set\\u002f3 Rose Candle In Jewelled Box\",\"Tv Dinner Tray Vintage Paisley\",\"Paper Chain Kit London\",\"Regency Cake Slice\",\"Large Popcorn Holder\",\"Boudoir Square Tissue Box\",\"Red Retrospot Tissue Box\",\"Home Sweet Home Bottle\",\"Vintage Billboard Tea Mug\",\"Travel Card Wallet Skulls\",\"Retrospot Cigar Box Matches\",\"Pack Of 20 Spaceboy Napkins\",\"Moody Girl Door Hanger\",\"Heart Mirror Antique White\",\"Vintage Bead Pink Scarf\",\"Mini Playing Cards Fun Fair\",\"Garland With Hearts And Bells\",\"Letter Holder Home Sweet Home\",\"Large Hanging Ivory & Red Wood Bird\",\"Love Garland Painted Zinc\",\"Pack Of 12 Dolly Girl Tissues\",\"Basket Of Toadstools\",\"Jigsaw Rabbit And Birdhouse\",\"Lavender Toilette Bottle\",\"Set Of 2 Trays Home Sweet Home\",\"Pack 6 Heart\\u002fIce-Cream Patches\",\"Set\\u002f3 Ocean Scent Candle Jewel Box\",\"Sweetheart Wire Wall Tidy\",\"Ivory Wicker Heart Small\",\"Candy Spot Cushion Cover\",\"Red Retrospot Apron\",\"Set Of 10 Lanterns Fairy Light Star\",\"Paper Lantern 9 Point Snow Star\",\"Diamante Heart Shaped Wall Mirror\",\"Felt Egg Cosy Blue Rabbit\",\"Charlie & Lola Wastepaper Bin Blue\",\"Set 12 Kids White Chalk Sticks\",\"White Rocking Horse Hand Painted\",\"Magnets Pack Of 4 Retro Photo\",\"Easter Tin Chicks Pink Daisy\",\"Brown Check Cat Doorstop\",\"White Hearts Wire Plant Pot Holder\",\"Assorted Tutti Frutti Bracelet\",\"Enamel Fire Bucket Cream\",\"Paper Pocket Traveling Fan\",\"Red Retrospot Purse\",\"Bunny Wooden Painted With Flower\",\"Set Of 6 Kashmir Folkart Baubles\",\"Drawer Knob Ceramic Red\",\"Gold Mug Bone China Tree Of Life\",\"Zinc Star T-Light Holder\",\"Round Storage Tin Vintage Leaf\",\"Classic French Style Basket Green\",\"White Stitched Wall Clock\",\"I Love London Baby Gift Set\",\"White Bell Honeycomb Paper\",\"Empire Tissue Box\",\"White Wire Egg Holder\",\"Potting Shed Twine\",\"Large White Honeycomb Paper Bell\",\"Pack Of 6 Handbag Gift Boxes\",\"Large Chinese Style Scissor\",\"Recycled Acapulco Mat Lavender\",\"Ma Campagne Cutlery Box\",\"Zinc Finish 15cm Planter Pots\",\"T-Light Holder Hanging Lace\",\"Office Mug Warmer Choc+Blue\",\"Mini Ladle Love Heart Red\",\"Set Of 6 Strawberry Chopsticks\",\"Home Garland Painted Zinc\",\"Hook 1 Hanger Magic Garden\",\"Noel Wooden Block Letters\",\"Drawer Knob Vintage Glass Star\",\"Retrospot Padded Seat Cushion\",\"Salle De Bain Hook\",\"Dolly Girl Mini Backpack\",\"Blue Coat Rack Paris Fashion\",\"Brown Pirate Treasure Chest\",\"Christmas Musical Zinc Tree\",\"Large Yellow Babushka Notebook\",\"Ice Cream Pen Lip Gloss\",\"Birthday Party Cordon Barrier Tape\",\"Large Deco Jewellery Stand\",\"Rose 1 Wick Morris Boxed Candle\",\"Calendar In Season Design\",\"Multicolour Honeycomb Fan\",\"Candy Spot Egg Warmer Hare\",\"Childrens Cutlery Circus Parade\",\"Bicycle Puncture Repair Kit\",\"Toxic Area Door Hanger\",\"Asstd Multicolour Circles Mug\",\"Folding Butterfly Mirror Red\",\"Two Door Curio Cabinet\",\"Mini Painted Garden Decoration\",\"Magnets Pack Of 4 Childhood Memory\",\"Set Of 16 Vintage Rose Cutlery\",\"Box Of 9 Pebble Candles\",\"Blue Savannah Picnic Hamper For 2\",\"Set Of 4 Fairy Cake Placemats\",\"Party Invites Spaceman\",\"4 Wildflower Botanical Candles\",\"Ivory Enchanted Forest Placemat\",\"Red Charlie+Lola Personal Doorsign\",\"Cherub Heart Decoration Gold\",\"Hot Stuff Hot Water Bottle\",\"Drawer Knob Vintage Glass Ball\",\"Love Heart Pocket Warmer\",\"Angel Decoration Stars On Dress\",\"Biscuit Tin Vintage Green\",\"Easter Decoration Hanging Bunny\",\"Party Pizza Dish Red Retrospot\",\"English Rose Spirit Level\",\"Pink Union Jack Luggage Tag\",\"Decoration Wobbly Chicken\",\"Set Of 6 Girls Celebration Candles\",\"Oval Wall Mirror Diamante\",\"Angel Decoration Painted Zinc\",\"Motoring Tissue Box\",\"Set 12 Lavender Botanical T-Lights\",\"Bright Blues Ribbons\",\"Office Mug Warmer Black+Silver\",\"Paper Chain Kit Skulls\",\"Yellow Giant Garden Thermometer\",\"Green Rose Washbag\",\"Eucalyptus & Pinecone Wreath\",\"Yuletide Images Gift Wrap Set\",\"Magic Drawing Slate Dolly Girl\",\"Cardholder Gingham Christmas Tree\",\"Blue Owl Soft Toy\",\"White Tea Coffee Sugar Jars\",\"Butterflies Stickers\",\"Ceramic Bowl With Strawberry Design\",\"Set Of 6 Cake Chopsticks\",\"Red Paper Parasol\",\"Small Glass Sundae Dish Clear\",\"Red\\u002fCream Stripe Cushion Cover\",\"Silver Plate Candle Bowl Small\",\"Booze & Women Greeting Card\",\"Hot Baths Soap Holder\",\"Icon Mug Revolutionary\",\"Pink Diner Wall Clock\",\"Party Invites Balloon Girl\",\"Jigsaw Toadstools 3 Piece\",\"Cake Stand Victorian Filigree Small\",\"Home Small Wood Letters\",\"Pin Cushion Babushka Pink\",\"Small Red Retrospot Mug In Box\",\"Blue Polkadot Washing Up Gloves\",\"Frying Pan Red Retrospot\",\"Childrens Garden Gloves Pink\",\"Empire Union Jack Tv Dinner Tray\",\"Charlie Lola Blue Hot Water Bottle\",\"Charlie And Lola Table Tins\",\"Wall Art Keep Calm\",\"Red Tea Towel Classic Design\",\"Embroidered Ribbon Reel Emily\",\"Airline Bag Vintage Jet Set Brown\",\"Pink Heart Shape Love Bucket\",\"Classic French Style Basket Brown\",\"Hanging Wood And Felt Flower\",\"Botanical Gardens Wall Clock\",\"Pink Heart Confetti In Tube\",\"Small Heart Flowers Hook\",\"Pink Honeycomb Paper Ball\",\"Red Rocking Horse Hand Painted\",\"Travel Card Wallet Pantry\",\"12 Pencils Tall Tube Posy\",\"Birdcage Decoration Tealight Holder\",\"Silk Purse Babushka Pink\",\"Felt Farm Animal White Bunny\",\"3 White Choc Morris Boxed Candles\",\"Pink Diamante Pen In Gift Box\",\"Egg Cup Milkmaid Ingrid\",\"Black Pirate Treasure Chest\",\"White Goose Feather Christmas Tree\",\"Tablecloth Red Apples Design\",\"Tea Time Des Tea Cosy\",\"Blue Calculator Ruler\",\"Ceramic Strawberry Money Box\",\"Pack Of 6 Sweetie Gift Boxes\",\"Scented Velvet Lounge Candle\",\"Ceramic Bowl With Love Heart Design\",\"3d Sheet Of Dog Stickers\",\"Cardholder Gingham Star\",\"English Rose Scented Hanging Flower\",\"Hanging Engraved Metal Heart\",\"If You Can't Stand The Heat Mug\",\"Peace Wooden Block Letters\",\"Tea Time Teapot In Gift Box\",\"Glitter Heart Garland With Bells\",\"Pack Of 12 Vintage Doily Tissues\",\"Place Setting White Star\",\"Red Refectory Clock\",\"Party Invites Football\",\"Small Licorice Des Pink Bowl\",\"Lads Only Tissue Box\",\"Cupboard 3 Drawer Ma Campagne\",\"Enamel Pink Coffee Container\",\"Easter Decoration Egg Bunny\",\"Blue Felt Easter Egg Basket\",\"Heart String Memo Holder Hanging\",\"Folding Umbrella Red\\u002fWhite Polkadot\",\"Stool Home Sweet Home\",\"Key Cabinet Ma Campagne\",\"12 Red Rose Peg Place Settings\",\"Sunset Check Hammock\",\"Set Of 72 Skull Paper Doilies\",\"Shelf With 4 Hooks Home Sweet Home\",\"Pocket Bag Pink Paisely Brown Spot\",\"Swallow Square Tissue Box\",\"Hearts Gift Tape\",\"Zinc Hearts Plant Pot Holder\",\"Black Tea Coffee Sugar Jars\",\"Egg Frying Pan Red\",\"Hyacinth Bulb T-Light Candles\",\"Blue Rose Fabric Mirror\",\"Glass Jar Peacock Bath Salts\",\"I Love London Beaker\",\"Retro Plastic Polka Tray\",\"Magic Drawing Slate Circus Parade\",\"Red Retrospot Luggage Tag\",\"Botanical Lily Greeting Card\",\"Ant White Wire Heart Spiral\",\"Orange Scented Set\\u002f9 T-Lights\",\"Milk Pan Red Retrospot\",\"Doormat I Love London\",\"Painted Metal Heart With Holly Bell\",\"Adult Apron Apple Delight\",\"Hairclips Forties Fabric Assorted\",\"Pack 20 English Rose Paper Napkins\",\"Set\\u002f12 Taper Candles\",\"Set 6 Football Celebration Candles\",\"Assorted Easter Gift Tags\",\"Ceramic Plate Strawberry Design\",\"Set\\u002f4 Badges Balloon Girl\",\"Ocean Scent Candle In Jewelled Box\",\"Pink Stitched Wall Clock\",\"Ivory Knitted Mug Cosy\",\"Pastel Colour Honeycomb Fan\",\"Art Lights Funk Monkey\",\"Set\\u002f10 Blue Polkadot Party Candles\",\"Pink Polkadot Garden Parasol\",\"Office Mug Warmer Polkadot\",\"16 Piece Cutlery Set Pantry Design\",\"Columbian Candle Round\",\"Soft Pink Rose Towel\",\"Pencil Case Life Is Beautiful\",\"Red Polkadot Beaker\",\"Dove Decoration Painted Zinc\",\"Vintage Jingle Bells Heart\",\"Vintage Billboard Mug\",\"Purple Paper Parasol\",\"Brocade Ring Purse\",\"Disco Ball Rotator Battery Operated\",\"Pink Metal Chicken Heart\",\"Magic Garden Felt Garland\",\"Black Candelabra T-Light Holder\",\"Wall Art Village Show\",\"Small Hammered Silver Candlepot\",\"Photo Frame Linen And Lace Small\",\"Hanging Heart Bonheur\",\"Blue Polkadot Garden Parasol\",\"White Heart Confetti In Tube\",\"Cake Stand 3 Tier Magic Garden\",\"Woodland Mini Backpack\",\"Dairy Maid Traditional Teapot\",\"Set Of 6 T-Lights Easter Chicks\",\"Hi Tec Alpine Hand Warmer\",\"Make Your Own Playtime Card Kit\",\"Pink Fairy Cake Cushion Cover\",\"Laurel Star Antique Silver\",\"Red Hearts Light Chain\",\"Fairy Cake Birthday Candle Set\",\"Rose Scent Candle In Jewelled Box\",\"Basket Of Flowers Sewing Kit\",\"Skull Design Tv Dinner Tray\",\"Do Not Touch My Stuff Door Hanger\",\"World War 2 Gliders Asstd Designs\",\"Party Cones Candy Decoration\",\"Sandwich Bath Sponge\",\"Magic Drawing Slate Dinosaur\",\"Jigsaw Tree With Watering Can\",\"Set Of 6 T-Lights Cacti\",\"Black Enchanted Forest Placemat\",\"Scandinavian 3 Hearts Napkin Ring\",\"Heart Garland Rustic Padded\",\"Toast Its - Happy Birthday\",\"Baking Mould Easter Egg White Choc\",\"12 Daisy Pegs In Wood Box\",\"Hanging Chick Green Decoration\",\"Classic Bicycle Clips\",\"Large Cake Towel Chocolate Spots\",\"Candy Heart Hanging Decoration\",\"Caravan Square Tissue Box\",\"Frying Pan Pink Polkadot\",\"Enamel Pink Tea Container\",\"Travel Card Wallet Flower Meadow\",\"Carrot Charlie+Lola Coaster Set\",\"Folk Art Metal Star T-Light Holder\",\"Medium Medina Stamped Metal Bowl\",\"White Honeycomb Paper Garland\",\"Pink Union Jack Passport Cover\",\"Savoy Art Deco Clock\",\"Vintage Union Jack Doorstop\",\"Sweetheart Wire Fruit Bowl\",\"Doily Thank You Card\",\"Red Flower Crochet Food Cover\",\"Hanging Chick Yellow Decoration\",\"Bull Dog Bottle Top Wall Clock\",\"Strawberries Design Flannel\",\"Childs Garden Brush Pink\",\"Pink Cat Bowl\",\"Dairy Maid Stripe Mug\",\"White Bamboo Ribs Lampshade\",\"Etched Glass Coaster\",\"Seaside Flying Disc\",\"Vintage Bead Pink Purse\",\"Blue Polkadot Egg Cup\",\"Tea Cosy Red Stripe\",\"Baby Boom Ribbons\",\"Black Mini Tape Measure\",\"Pompom Curtain\",\"Blue Polkadot Passport Cover\",\"Cream Slice Flannel Pink Spot\",\"Small Pop Box Funky Monkey\",\"Vintage Red Teatime Mug\",\"Ivory Pillar Candle Silver Flock\",\"Toadstool Bedside Light\",\"Small Silver Flower Candle Pot\",\"Set\\u002f6 Pink Bird T-Light Candles\",\"12 Egg House Painted Wood\",\"Airline Bag Vintage World Champion\",\"Blue Charlie+Lola Personal Doorsign\",\"Card Holder Love Bird Small\",\"Candy Spot Egg Warmer Rabbit\",\"Swiss Chalet Tree Decoration\",\"Pink Horse Sock Puppet Kit\",\"Glass Cloche Large\",\"Zinc Sweetheart Wire Letter Rack\",\"Embroidered Ribbon Reel Sally\",\"Gumball Monochrome Coat Rack\",\"Midnight Glamour Scarf Knitting Kit\",\"Christmas Hanging Snowflake\",\"Le Grand Tray Chic Set\",\"Set Of 2 Tins Vintage Bathroom\",\"Grey Floral Feltcraft Shoulder Bag\",\"Woodland Design Cotton Tote Bag\",\"Money Box Kings Choice Design\",\"Circus Parade Baby Gift Set\",\"S\\u002f15 Silver Glass Baubles In Bag\",\"French Style Storage Jar Cafe\",\"Home Sweet Home 2 Drawer Cabinet\",\"Small Deco Jewellery Stand\",\"Pantry Apple Corer\",\"Hanging Chick Cream Decoration\",\"Set\\u002f6 Fruit Salad Paper Cups\",\"Oval Mini Portrait Frame\",\"Porcelain Butterfly Oil Burner\",\"White Bell Honeycomb Paper Garland\",\"Party Food Shopper Bag\",\"Glass Songbird Storage Jar\",\"Rattle Snake Eggs\",\"Party Pizza Dish Pink Polkadot\",\"Home Sweet Home 3 Peg Hanger\",\"Measuring Tape Babushka Blue\",\"Coffee Mug Blue Paisley Design\",\"Cake Stand Lovebird 2 Tier White\",\"Eight Piece Snake Set\",\"Folkart Clip On Stars\",\"3d Hearts Honeycomb Paper Garland\",\"Henrietta Hen Mug\",\"Set\\u002f4 Badges Dogs\",\"Polka Dot Raffia Food Cover\",\"Rustic Strawberry Jam Pot Large\",\"Baking Mould Rose Milk Chocolate\",\"Rustic Mirror With Lace Heart\",\"Magic Sheep Wool Growing From Paper\",\"Dark Bird House Tree Decoration\",\"Ice Cream Design Garden Parasol\",\"Egg Frying Pan Ivory\",\"Polkadot Coffee Cup & Saucer Pink\",\"Egg Cup Milkmaid Helga\",\"Home Sweet Home Key Holder\",\"Woodland Small Red Felt Heart\",\"Tree T-Light Holder Willie Winkie\",\"Card Holder Love Bird Large\",\"Red Heart Luggage Tag\",\"Party Time Pencil Erasers\",\"Set Of 2 Tins Jardin De Provence\",\"Small Skull Windmill\",\"Chest Of Drawers Gingham Heart\",\"Magic Drawing Slate Purdey\",\"Pack Of 12 Vintage Leaf Tissues\",\"Red Victorian Fabric Oval Box\",\"S\\u002f12 Mini Rabbit Easter\",\"Cherry Crochet Food Cover\",\"Charlie+Lola\\\"Extremely Busy\\\" Sign\",\"Peach Knitted Hen\",\"Blue Tea Towel Classic Design\",\"Hot Water Bottle Sex Bomb\",\"Ivory Refectory Clock\",\"Party Pizza Dish Blue Polkadot\",\"Ivory Paper Cup Cake Cases\",\"Assorted Tutti Frutti Fob Notebook\",\"Grow Your Own Herbs Set Of 3\",\"Moody Boy Door Hanger\",\"Danish Rose Photo Frame\",\"Love Heart Sock Hanger\",\"Boom Box Speaker Boys\",\"Mirrored Wall Art Stars\",\"Namaste Swagat Incense\",\"Disco Ball Christmas Decoration\",\"Heart Beaded Trellis Decoration\",\"Stripey Chocolate Nesting Boxes\",\"Spotty Pink Duck Doorstop\",\"Paperweight Vintage Collage\",\"Sweetheart Bird House\",\"Grow Your Own Flowers Set Of 3\",\"Skulls Design Flannel\",\"Multicolour 3d Balls Garland\",\"Red Retrospot Storage Jar\",\"Set\\u002f10 Ivory Polkadot Party Candles\",\"Woodland Bunnies Lolly Makers\",\"Pack Of 6 Small Fruit Straws\",\"Set\\u002f6 Eau De Nil Bird T-Lights\",\"Christmas Decoupage Candle\",\"Retro Plastic Daisy Tray\",\"Panda And Bunnies Sticker Sheet\",\"Cakes And Bows Gift Tape\",\"Pink Flower Crochet Food Cover\",\"Black Stitched Wall Clock\",\"Felt Farm Animal Chicken\",\"Feng Shui Pillar Candle\",\"Pink Rose Fabric Mirror\",\"Metal Sign Her Dinner Is Served\",\"Blue Pot Plant Candle\",\"Wall Art 70'S Alphabet\",\"Red Coat Rack Paris Fashion\",\"Antique Glass Heart Decoration\",\"Blue Paper Parasol\",\"Doormat Neighbourhood Witch\",\"Childs Garden Spade Blue\",\"Small Folkart Star Christmas Dec\",\"Gardenia 3 Wick Morris Boxed Candle\",\"Pack Of 12 Red Apple Tissues\",\"Cake Stand White Two Tier Lace\",\"Chocolate 1 Wick Morris Box Candle\",\"Airline Bag Vintage Jet Set White\",\"Spaceboy Rocket Lolly Makers\",\"Frappucino Scarf Knitting Kit\",\"Small Chinese Style Scissor\",\"Kittens Design Flannel\",\"Inflatable Political Globe\",\"Assorted Flower Colour \\\"Leis\\\"\",\"I Love London Mini Backpack\",\"White Travel Alarm Clock\",\"Pack 3 Iron On Dog Patches\",\"White Tall Porcelain T-Light Holder\",\"Money Box Pocket Money Design\",\"Chest Natural Wood 20 Drawers\",\"Coffee Mug Pink Paisley Design\",\"Mirrored Wall Art Snowflakes\",\"Zinc Box Sign Home\",\"Brocante Shelf With Hooks\",\"Multicolour Honeycomb Paper Garland\",\"Gift Bag Birthday\",\"Blue Refectory Clock\",\"Glitter Christmas Tree\",\"Mini Jigsaw Spaceboy\",\"Set Of 16 Vintage Red Cutlery\",\"Silver Glitter Flower Votive Holder\",\"Joy Wooden Block Letters\",\"Chocolate 3 Wick Morris Box Candle\",\"Sewing Box Retrospot Design\",\"Folkart Heart Napkin Rings\",\"Large Round Wicker Platter\",\"Large Cake Stand Hanging Hearts\",\"Square Mini Portrait Frame\",\"White Hanging Beads Candle Holder\",\"Five Cats Hanging Decoration\",\"Yellow Coat Rack Paris Fashion\",\"Wheelbarrow For Children\",\"Fairy Soap Soap Holder\",\"Cabin Bag Vintage Paisley\",\"Easter Decoration Natural Chick\",\"3 Gardenia Morris Boxed Candles\",\"Tv Dinner Tray Air Hostess\",\"Woven Rose Garden Cushion Cover\",\"18pc Wooden Cutlery Set Disposable\",\"Choc Truffle Gold Trinket Pot\",\"Chinese Dragon Paper Lanterns\",\"Embroidered Ribbon Reel Daisy\",\"Embroidered Ribbon Reel Susie\",\"Felt Toadstool Large\",\"Coffee Scent Pillar Candle\",\"Childs Garden Brush Blue\",\"Love Large Wood Letters\",\"Set Of 2 Round Tins Camembert\",\"White Christmas Garland Stars Trees\",\"Egg Cup Henrietta Hen Cream\",\"Pink Honeycomb Paper Fan\",\"Small Silver Trellis Candlepot\",\"Spaceboy Tv Dinner Tray\",\"Woodland Stickers\",\"Sweeties Stickers\",\"House Shape Pencil Sharpener\",\"Cake Plate Lovebird Pink\",\"Cubic Mug Pink Polkadot\",\"Embroidered Ribbon Reel Rebecca\",\"Tumbler Baroque\",\"Set Of 16 Vintage Sky Blue Cutlery\",\"Mother's Kitchen Spoon Rest\",\"Felt Toadstool Small\",\"3d Dog Picture Playing Cards\",\"Assorted Tutti Frutti Mirror\",\"Pink Dog Bowl\",\"Set\\u002f4 Badges Beetles\",\"Blue Victorian Fabric Oval Box\",\"Cosmetic Bag Vintage Rose Paisley\",\"Red Retrospot Big Bowl\",\"Christmas Card Singing Angel\",\"Charlie+Lola My Room Door Sign\",\"Set Of 12 Vintage Postcard Set\",\"Large Medina Stamped Metal Bowl\",\"Snowstorm Photo Frame Fridge Magnet\",\"Cute Cats Tape\",\"Mobile Vintage Hearts\",\"Ridged Glass T-Light Holder\",\"Cosy Slipper Shoes Small Green\",\"Love Heart Napkin Box\",\"Pens Assorted Funky Jeweled\",\"Set\\u002f4 Badges Cute Creatures\",\"Black Love Bird Candle\",\"Childs Garden Spade Pink\",\"Lets Go Shopping Cotton Tote Bag\",\"Glitter Star Garland With Bells\",\"Set Of 4 Black Lovebird Coasters\",\"Magic Drawing Slate Bunnies\",\"Blue Knitted Hen\",\"Antique Heart Shelf Unit\",\"Space Owl\",\"Hanging Photo Clip Rope Ladder\",\"Glass Jar Kings Choice\",\"Storage Tin Home Sweet Home\",\"Set Of 36 Spaceboy Paper Doilies\",\"Decoupage Greeting Card\",\"Small Square Cut Glass Candlestick\",\"Vanilla Incense In Tin\",\"Kitty Pencil Erasers\",\"Ivory Embroidered Quilt\",\"Photo Frame Linen And Lace Large\",\"Funky Diva Pen\",\"Tool Box Soft Toy\",\"S\\u002f12 Vanilla Botanical T-Lights\",\"Folk Felt Hanging Multicol Garland\",\"White Goose Feather Tree 60cm\",\"Retro Plastic 70'S Tray\",\"3d Sheet Of Cat Stickers\",\"Small Polkadot Chocolate Gift Bag\",\"Filigree Heart Bird White\",\"Retro Longboard Ironing Board Cover\",\"Set Of 4 Pistachio Lovebird Coaster\",\"Flowers Stickers\",\"Cockle Shell Dish\",\"Pack Of 12 Circus Parade Tissues\",\"Skulls Tape\",\"Jam Clock Magnet\",\"Wall Mirror Rectangle Diamante Pink\",\"Woodland Height Chart Stickers\",\"Local Cafe Mug\",\"Alphabet Hearts Sticker Sheet\",\"Rustic Strawberry Jam Pot Small\",\"3 Tier Sweetheart Garden Shelf\",\"Wall Art Animals And Nature\",\"Woodland Storage Box Large\",\"Brocante Coat Rack\",\"Multicolour Rabbit Egg Warmer\",\"Egg Frying Pan Pink\",\"Multi Hearts Stickers\",\"Milk Maids Mug\",\"Gardenia 1 Wick Morris Boxed Candle\",\"Dolly Mixture Children's Umbrella\",\"Small White Retrospot Mug In Box\",\"Beaded Crystal Heart Pink Small\",\"Swiss Roll Towel Pink Spots\",\"Greeting Card Sticky Gordon\",\"Home Sweet Home Hook\",\"Green Birdhouse Decoration\",\"Blue Polkadot Luggage Tag\",\"Greeting Card Overcrowded Pool\",\"Mint Green Rose Towel\",\"Retro Plastic Elephant Tray\",\"Landmark Frame Oxford Street\",\"Christmas Garland Stars Trees\",\"Ridged Glass Posy Vase\",\"Organiser Wood Antique White\",\"Tea Cosy Blue Stripe\",\"Rectangular Shaped Mirror\",\"Sombrero\",\"Jingle Bells Tree Decoration\",\"Scotties Childrens Apron\",\"Edwardian Heart Photo Frame\",\"Hanging Fairy Cake Decoration\",\"Pink Paisley Square Tissue Box\",\"Mini Zinc Garden Decorations\",\"Triple Wire Hook Ivory Heart\",\"Vintage Bead Pink Evening Bag\",\"Blue Paisley Journal\",\"Bank Account Greeting Card\",\"Measuring Tape Babushka Red\",\"Pantry 3 Hook Rolling Pin Hanger\",\"Squarecushion Cover Pink Union Jack\",\"Mixed Nuts Light Green Bowl\",\"Wall Art Horse & Pony\",\"Rococo Wall Mirror White\",\"French Style Storage Jar Bonbons\",\"Dinosaur Keyrings Assorted\",\"Set 3 Wicker Oval Baskets W Lids\",\"Paisley Park Card\",\"Laurel Heart Antique Gold\",\"Vintage Red Mug\",\"Mirror Mosaic Candle Plate\",\"Blue Glass Gems In Bag\",\"Set Of 4 Diamond Napkin Rings\",\"Wash Bag Vintage Rose Paisley\",\"Assorted Tutti Frutti Heart Box\",\"T-Light Holder White Lace\",\"French Style Storage Jar Jam\",\"Red Retrospot Pudding Bowl\",\"Swiss Roll Towel Chocolate Spots\",\"Set Of 2 Round Tins Dutch Cheese\",\"Denim Patch Purse Pink Butterfly\",\"Hippy Chic Decorative Parasol\",\"Nursery A B C Painted Letters\",\"Medium Chinese Style Scissor\",\"Happy Easter Hanging Decoration\",\"Assorted Tutti Frutti Notebook\",\"Dog Toy With Pink Crochet Skirt\",\"Felt Farm Animal Hen\",\"Wall Art Treasure Ahoy\",\"Set\\u002f6 Frog Prince T-Light Candles\",\"Georgian Trinket Box\",\"Round Purple Clock With Sucker\",\"Fairy Dreams Incense\",\"Blue Paisley Pocket Book\",\"Silver Diamante Pen In Gift Box\",\"Skulls Design Cotton Tote Bag\",\"Set Of 3 Coloured Flying Ducks\",\"Ridged Glass Finger Bowl\",\"Origami Lavender Incense\\u002fCandl Set\",\"Beaded Crystal Heart Pink Large\",\"Baking Mould Toffee Cup Chocolate\",\"French Carriage Lantern\",\"Queen Of Skies Luggage Tag\",\"Pens Assorted Funny Face\",\"Money Box Housekeeping Design\",\"Silk Purse Babushka Red\",\"Drawer Knob Vintage Glass Hexagon\",\"Mirror Cornice\",\"Lovely Bonbon Sticker Sheet\",\"Botanical Rose Greeting Card\",\"Set\\u002f6 Green Spring Paper Cups\",\"Door Hanger Mum + Dads Room\",\"Polkadot Pen\",\"Pink Butterfly Handbag W Bobbles\",\"Wall Art Buffalo Bill\",\"Pack Of 6 Cocktail Parasol Straws\",\"Glass Jar Marmalade\",\"Pink Hearts Light Chain\",\"Pink Heart Shape Photo Frame\",\"Paper Bunting Vintage Party\",\"Star Portable Table Light\",\"Easter Tree Yellow Birds\",\"Embossed Heart Trinket Box\",\"Milk Pan Blue Polkadot\",\"Enchanted Bird Plant Cage\",\"Blue Polkadot Coffee Mug\",\"Mirrored Wall Art Skulls\",\"Landmark Frame Covent Garden\",\"Glass Chalice Blue Small\",\"Butterfly Crochet Food Cover\",\"Office Mug Warmer Pink\",\"Danish Rose Folding Chair\",\"Rose Folkart Heart Decorations\",\"Origami Sandlewood Incense\\u002fCand Set\",\"Small Medina Stamped Metal Bowl\",\"Pantry Hook Balloon Whisk\",\"Set Of 36 Dinosaur Paper Doilies\",\"Bunny Egg Garland\",\"Faux Fur Chocolate Throw\",\"A Pretty Thank You Card\",\"Set Of 4 Polkadot Coasters\",\"Clam Shell Small\",\"Kids Rain Mac Pink\",\"Woven Berries Cushion Cover\",\"Wall Art Spaceboy\",\"Landmark Frame Camden Town\",\"Tomato Charlie+Lola Coaster Set\",\"Party Pizza Dish Green Polkadot\",\"Assorted Monkey Suction Cup Hook\",\"Tub 24 Pink Flower Pegs\",\"Paperweight Save The Planet\",\"Folding Umbrella Cream Polkadot\",\"Psychedelic Tile Hook\",\"Vintage Bead Notebook\",\"2 Picture Book Eggs Easter Bunny\",\"Tropical Passport Cover\",\"Origami Rose Incense\\u002fCandle Set\",\"Flower Fairy 5 Drawer Liners\",\"Pens Assorted Spaceball\",\"Pink Rose Washbag\",\"Decorative Vintage Coffee Box\",\"Set Of 4 Napkin Charms Leaves\",\"Doctor's Bag Soft Toy\",\"Square Cherry Blossom Cabinet\",\"Eau De Nil Love Bird Candle\",\"Easter Bunny Garland Of Flowers\",\"Set Of 16 Vintage Black Cutlery\",\"Silk Purse Babushka Blue\",\"Party Cones Carnival Assorted\",\"Blue Polkadot Kids Bag\",\"Easter Tin Bucket\",\"Set Of 6 T-Lights Wedding Cake\",\"Christmas Card Screen Print\",\"White Hand Towel With Butterfly\",\"Mirrored Wall Art Poppies\",\"Frying Pan Blue Polkadot\",\"English Rose Small Scented Flower\",\"Rose Du Sud Oven Glove\",\"Tv Dinner Tray Dolly Girl\",\"Cosy Hour Giant Tube Matches\",\"Money Box Biscuits Design\",\"Cosy Slipper Shoes Large Green\",\"Red Flock Love Heart Photo Frame\",\"Ninja Rabbit Black\",\"Egg Cup Henrietta Hen Pink\",\"Pink Sweetheart Bracelet\",\"Woven Bubble Gum Cushion Cover\",\"Elephant Carnival Pouffe\",\"Blue Egg Spoon\",\"Small Folding Scissor(Pointed Edge)\",\"Trellis Coat Rack\",\"Beaded Chandelier T-Light Holder\",\"Assorted Easter Decorations Bells\",\"Smokey Grey Colour Glass\",\"White And Blue Ceramic Oil Burner\",\"Medium Parlour Picture Frame\",\"Blue Polkadot Beaker\",\"Tumbler New England\",\"Garden Path Journal\",\"Red Polkadot Coffee Mug\",\"Filigree Heart Butterfly White\",\"Small Round Cut Glass Candlestick\",\"Set Of 4 Polkadot Placemats\",\"Hen Party Cordon Barrier Tape\",\"Egg Frying Pan Mint\",\"Set Of 4 Napkin Charms 3 Keys\",\"Embroidered Ribbon Reel Rachel\",\"Jardin Etched Glass Fruitbowl\",\"Clock Magnet Mum's Kitchen\",\"Hanging Spring Flower Egg Small\",\"Danish Rose Deluxe Coaster\",\"Set Of 4 Napkin Charms Stars\",\"Retrospot Candle Medium\",\"Blue Pudding Spoon\",\"Pearlised Ivory Heart Large\",\"Grass Hopper Wooden Wall Clock\",\"Egg Frying Pan Blue\",\"Mini Jigsaw Dolly Girl\",\"2 Picture Book Eggs Easter Chicks\",\"Abstract Circle Journal\",\"Christmas Card Stack Of Presents\",\"Folding Umbrella Blackblue Polkadot\",\"Jardin Etched Glass Cheese Dish\",\"Pink Love Bird Candle\",\"Doormat Christmas Village\",\"Landmark Frame Notting Hill\",\"Green Goose Feather Tree 60cm\",\"Pink Glass Candleholder\",\"Economy Luggage Tag\",\"Embroidered Ribbon Reel Sophie\",\"Set\\u002f3 Christmas Decoupage Candles\",\"Blue Birdhouse Decoration\",\"Asstd Fruit+Flowers Fridge Magnets\",\"Medina Stamped Metal Stool\",\"Red Dragonfly Helicopter\",\"Blue Paisley Tissue Box\",\"Camphor Wood Portobello Mushroom\",\"Set Of 6 Halloween Ghost T-Lights\",\"Blue Patch Purse Pink Heart\",\"Woodland Small Pink Felt Heart\",\"Set Of 4 Napkin Charms Crowns\",\"Mr Robot Soft Toy\",\"Gold Photo Frame\",\"Pantry Hook Tea Strainer\",\"Orange Tv Tray Table\",\"Queen Of The Skies Passport Cover\",\"Abstract Circles Pocket Book\",\"Rose Du Sud Cushion Cover\",\"Ivory Hanging Decoration Egg\",\"Felt Farm Animal Sheep\",\"Ivory Cafe Hanging Lamp\",\"Cupid Design Scented Candles\",\"Bunny Egg Box\",\"Grow A Flytrap Or Sunflower In Tin\",\"Letter Shape Pencil Sharpener\",\"Relax Large Wood Letters\",\"Wall Art Vintage Heart\",\"Filigree Heart Daisy White\",\"Assorted Tutti Frutti Pen\",\"Ribbons Purse\",\"Embroidered Ribbon Reel Rosie\",\"Hand Open Shape Gold\",\"Regency Mirror With Shutters\",\"Rose Scent Candle Jewelled Drawer\",\"Heart Trellis Triple T-Light Holder\",\"Ridged Bonne Jam Jar T-Light Holder\",\"Paper Lantern 9 Point Deluxe Star\",\"Sunflower Decorative Parasol\",\"Cherry Blossom Passport Cover\",\"Corona Mexican Tray\",\"Silver Photo Frame\",\"White Soap Rack With 2 Bottles\",\"Wall Art Loves' Secret\",\"Empire Design Rosette\",\"Doorstop Football Design\",\"Small Stripes Chocolate Gift Bag\",\"Danish Rose Decorative Plate\",\"Red Pudding Spoon\",\"Chrysanthemum Notebook\",\"Pink Chick Egg Warmer + Egg Cup\",\"Green Fern Journal\",\"Landmark Frame London Bridge\",\"Rabbit Design Cotton Tote Bag\",\"Set\\u002f4 Blue Flower Candles In Bowl\",\"Ivory Wire Sweetheart Letter Tray\",\"Abstract Circles Sketchbook\",\"Set 12 Vintage Doily Chalk\",\"Candle Holder Silver Madeline\",\"200 Bendy Skull Straws\",\"Origami Jasmine Incense\\u002fCandle Set\",\"Candy Spot Heart Decoration\",\"Beaded Crystal Heart Blue On Stick\",\"Magic Drawing Slate Bake A Cake\",\"Paper Lantern 7 Point Snow Star\",\"4 Sky Blue Dinner Candles\",\"Retrospot Candle Small\",\"Boom Box Speaker Girls\",\"Travel Card Wallet Vintage Rose\",\"Laurel Star Antique Gold\",\"Large Zinc Heart Wall Organiser\",\"Three Mini Hanging Frames\",\"Ladybird + Bee Raffia Food Cover\",\"Standing Fairy Pole Support\",\"Childs Garden Rake Pink\",\"Easter Tin Chicks In Garden\",\"Kids Rain Mac Blue\",\"Pink Gingham Cat With Scarf\",\"Triangular Pouffe Vintage\",\"Star T-Light Holder\",\"Cubic Mug Flock Pink On Brown\",\"Ninja Rabbit Pink\",\"Ping! Microwave Plate\",\"Silver Disco Handbag\",\"Acrylic Hanging Jewel Blue\",\"Mini Jigsaw Dinosaur\",\"Cushion Cover Pink Union Jack\",\"Green Metal Swinging Bunny\",\"Mirror Mosaic Hurricane Lamp\",\"Wall Art Dolly Girl\",\"Birds Mobile Vintage Design\",\"Space Frog\",\"Mirror Mosaic T-Light Holder Round\",\"Retrospot Babushka Doorstop\",\"Set\\u002f12 Funky Felt Flower Peg In Bag\",\"Ass Colour Glowing Tiaras\",\"Calendar Family Favourites\",\"Set Of Picture Frame Stickers\",\"Cut Glass T-Light Holder Octagon\",\"Candle Plate Lace White\",\"Set Of 6 Vintage Notelets Kit\",\"Small Parlour Picture Frame\",\"Cinderella Chandelier\",\"T-Light Holder Silver Heart Handle\",\"Childs Garden Rake Blue\",\"Paperweight Home Sweet Home\",\"Pantry Hook Spatula\",\"Pin Cushion Babushka Red\",\"Flowers Chandelier T-Light Holder\",\"Mini Jigsaw Bunnies\",\"Wire Egg Basket\",\"Wall Art Cat And Bird\",\"Kitchen Flower Pots Wall Plaque\",\"Candy Shop Sticker Sheet\",\"Afghan Slipper Sock Pair\",\"Candy Spot Hand Bag\",\"Black Baroque Wall Clock\",\"Black Champagne Glass\",\"Hawaiian Grass Skirt\",\"Pink\\u002fPurple Retro Radio\",\"Daisy Notebook\",\"Ivory Sweetheart Soap Dish\",\"Assorted Colour Lizard Suction Hook\",\"Ceramic Love Heart Money Bank\",\"Folding Umbrella Chocolate Polkadot\",\"Silver Mini Tape Measure\",\"Hello Sailor Blue Soap Holder\",\"Small Zinc Heart Wall Organiser\",\"Lilac Diamante Pen In Gift Box\",\"Pink Hawaiian Picnic Hamper For 2\",\"Three Canvas Luggage Tags\",\"Folk Art Metal Heart T-Light Holder\",\"Wall Art I Love London\",\"Origami Vanilla Incense\\u002fCandle Set\",\"Mini Paint Set Vintage\",\"Smallfolkart Bauble Christmas Dec\",\"Green Fern Sketchbook\",\"Hand Towel Pale Blue W Flowers\",\"Photo Clip Line\",\"Felt Egg Cosy Ladybird\",\"Cartoon Pencil Sharpeners\",\"Garden Path Sketchbook\",\"Glass Sphere Candle Stand Medium\",\"Red Egg Spoon\",\"Groovy Cactus Inflatable\",\"Scotties Design Washbag\",\"Small Regal Silver Candlepot\",\"Pack Of 12 Christmas Fun Cards\",\"Woodland Small Blue Felt Heart\",\"Rose Du Sud Drawstring Bag\",\"4 Rose Pink Dinner Candles\",\"Assorted Tutti Frutti Small Purse\",\"Single Wire Hook Pink Heart\",\"Set\\u002f3 Decoupage Stacking Tins\",\"Pink Flower Fabric Pony\",\"Teatime Funky Flower Backpack For 2\",\"Antique Silver Book Mark With Beads\",\"Edwardian Photo Frame\",\"Feltcraft Doll Maria\",\"Keep Out Boys Door Hanger\",\"Summer Daisies Bag Charm\",\"T-Light Holder Silver Petit Four\",\"Baking Mould Rose White Chocolate\",\"Grow Your Own Plant In A Can\",\"Chrysanthemum Sketchbook\",\"Ivory Wire Kitchen Organiser\",\"Eight Piece Dinosaur Set\",\"Green Bitty Light Chain\",\"Pantry Chopping Board\",\"Silver Fabric Mirror\",\"Set Of 2 Tea Towels Ping Microwave\",\"Vintage Keepsake Box Paris Days\",\"Red Retrospot Shopping Bag\",\"Blue Fly Swat\",\"Greeting Card Square Doughnuts\",\"Funky Monkey Cushion Cover\",\"Space Cadet Red\",\"Ivory Pillar Candle Gold Flock\",\"Small Tall Camphor Wood Toadstool\",\"Beaded Crystal Heart Green Large\",\"Small Pink Glass Sundae Dish\",\"Tall Rococo Candle Holder\",\"Set Of 4 Napkin Charms Instrument\",\"Mirrored Wall Art Gents\",\"Cake Stand Lovebird 2 Tier Pink\",\"Glow In Dark Dolphins\",\"Mock Lobster Fridge Magnet\",\"Assorted Tutti Frutti Large Purse\",\"Blue Paisley Sketchbook\",\"Woven Frost Cushion Cover\",\"Decorative Plant Pot With Frieze\",\"First Class Luggage Tag\",\"Sweet Heart Cake Carrier\",\"Mrs Robot Soft Toy\",\"Vintage Pink Decorative Parasol\",\"Red Daisy Pocket Book\",\"Tea Time Tea Set In Gift Box\",\"Kensington Coffee Set\",\"Large Stripes Chocolate Gift Bag\",\"Paper Lantern 9 Point Holly Star L\",\"4 Purple Flock Dinner Candles\",\"White Christmas Star Decoration\",\"Pink Pot Plant Candle\",\"Swirly Circular Rubbers In Bag\",\"Small Bonne Jam Jar T-Light Holder\",\"Lolita Design Cotton Tote Bag\",\"Silver Jewelled Mirror Trinket Tray\",\"Paper Lantern 9 Point Holly Star S\",\"Pink Felt Easter Rabbit Garland\",\"S\\u002f4 Black Mini Rose Candle In Bowl\",\"Blue Scottie Dog W Flower Pattern\",\"Eau De Nile Heart Shape Photo Frame\",\"Pink Scottie Dog W Flower Pattern\",\"6pc Wood Plate Set Disposable\",\"Magic Drawing Slate Leap Frog\",\"Woodland Large Red Felt Heart\",\"Pink Padded Mobile\",\"Gingham Babushka Doorstop\",\"Green Goose Feather Christmas Tree\",\"Doorstop Racing Car Design\",\"Mirror Mosaic T-Light Holder\",\"Square Floor Cushion Vintage Red\",\"Heart Shape Wireless Doorbell\",\"Vintage Keepsake Box Travelogue\",\"Silver Rococo Candle Stick\",\"Glass Twist Bon Bon Jar\",\"Letter \\\"A\\\" Bling Key Ring\",\"Danish Rose Trinket Trays\",\"Black Sweetheart Bracelet\",\"Small Camphor Wood Field Mushroom\",\"Ivory Chandelier T-Light Holder\",\"Mirrored Wall Art Photo Frames\",\"Black Orange Squeezer\",\"Sweetheart Wall Tidy\",\"Doggy Rubber\",\"Mirror Mosaic Goblet Candle Holder\",\"Green Juicy Fruit Photo Frame\",\"Garden Metal Sign\",\"Mirrored Wall Art Ladies\",\"Pearlised Ivory Heart Small\",\"Mini Jigsaw Purdey\",\"Vip Passport Cover\",\"Cream Slice Flannel Chocolate Spot\",\"Cinammon & Orange Wreath\",\"Green Enamel+Glass Hair Comb\",\"Blue Juicy Fruit Photo Frame\",\"Flying Pig Watering Can\",\"Mum's Kitchen Clock\",\"Heart T-Light Holder\",\"Assorted Circular Mobile\",\"Sunset Colour Chunky Knitted Throw\",\"Blue Diamante Pen In Gift Box\",\"White Sage Incense\",\"Assorted Colour Metal Cat\",\"Black Diner Wall Clock\",\"Easter Bunny With Basket On Back\",\"Forked Cactus Candle\",\"Hanging Metal Rabbit Decoration\",\"Black Wine Glass\",\"Silver Vanilla Flower Candle Pot\",\"Antique Ivory Wire Bowl Small\",\"Paperweight Kings Choice\",\"Pin Cushion Babushka Blue\",\"Dinosaur Height Chart Sticker Set\",\"Polyester Filler Pad 45x30cm\",\"Set\\u002f6 Black Bird T-Light Candles\",\"Frosted White Base\",\"Set Of 3 Pantry Wooden Spoons\",\"Round Blue Clock With Sucker\",\"Carousel Design Washbag\",\"Shoe Shine Box\",\"Pink Jewelled Photo Frame\",\"Black Bird Garden Design Mug\",\"Six Drawer Office Tidy\",\"Doormat Peace On Earth Blue\",\"Madras Notebook Large\",\"Steel Sweetheart Round Table Cream\",\"White Baroque Wall Clock\",\"Money Box Confectionery Design\",\"Blue & White Breakfast Tray\",\"Blue Dragonfly Helicopter\",\"Wall Art Dog And Ball\",\"Small Pink Magic Christmas Tree\",\"Mirrored Wall Art Splodges\",\"Wake Up Cockerel Calendar Sign\",\"White\\u002fPink Chick Decoration\",\"75 Green Petit Four Cases\",\"4 Blue Dinner Candles Silver Flock\",\"2 Picture Book Eggs Easter Ducks\",\"Floor Cushion Elephant Carnival\",\"Dolly Honeycomb Garland\",\"Chrysanthemum Journal\",\"Mini Jigsaw Circus Parade\",\"Essential Balm 35g Tin In Envelope\",\"Blue Tv Tray Table\",\"Number Tile Cottage Garden 1\",\"Greeting Card Two Sisters\",\"Yellow Shark Helicopter\",\"Bathroom Hook\",\"Assorted Cheese Fridge Magnets\",\"Number Tile Cottage Garden 2\",\"Embroidered Ribbon Reel Ruby\",\"Painted Lightbulb Star+ Moon\",\"Multicolour Confetti In Tube\",\"Vintage Jingle Bells Wreath\",\"Beaded Crystal Heart Green Small\",\"Ceramic Strawberry Trinket Tray\",\"Poppy Fields Chopping Board\",\"Magic Drawing Slate Go To The Fair\",\"Folding Umbrella Pinkwhite Polkadot\",\"Hanging Mini Coloured Bottles\",\"Large Parlour Picture Frame\",\"Pink & White Breakfast Tray\",\"Sweet Pudding Sticker Sheet\",\"Set Of 6 Ribbons Perfectly Pretty\",\"Beach Hut Shelf W 3 Drawers\",\"Wall Art Work Rest And Play\",\"Clear Love Bird T-Light Holder\",\"Tea Time Table Cloth\",\"Mousey Long Legs Soft Toy\",\"Mirrored Dove Wall Decoration\",\"Black And White Dog Bowl\",\"Beaded Crystal Heart Blue Large\",\"Set\\u002f4 Bird Mirror Magnets\",\"Woven Sunset Cushion Cover\",\"Paisley Pattern Stickers\",\"Set\\u002f20 Fruit Salad Paper Napkins\",\"Chambre Hook\",\"Gold Fabric Mirror\",\"S\\u002f4 Groovy Cat Magnets\",\"Ant Copper Lime Boudicca Bracelet\",\"Set\\u002f3 Rabbits Flower Skippping Rope\",\"Set\\u002f3 Pot Plant Candles\",\"Apothecary Measuring Jar\",\"Glass Bonne Jam Jar\",\"Marie Antoinette Trinket Box Silver\",\"Black And White Cat Bowl\",\"Retrospot Candle Large\",\"Nine Drawer Office Tidy\",\"Number Tile Vintage Font 3\",\"Green Cat Floral Cushion Cover\",\"Small Apothecary Measuring Jar\",\"Green Sweetheart Bracelet\",\"Pink Knitted Egg Cosy\",\"Ivory String Curtain With Pole\",\"Bubblegum Ring Assorted\",\"Pink Disco Handbag\",\"Red Retrospot Washbag\",\"Pink Fly Swat\",\"Blue Felt Hanging Heart With Flower\",\"Enamel Blue Rim Coffee Container\",\"Rose Du Sud Cosmetics Bag\",\"Pink Goose Feather Tree 60cm\",\"Silver T-Light Setting\",\"Hanging Medina Lantern Small\",\"Pink Butterfly Cushion Cover\",\"Vintage Rose Bead Bracelet Raspberr\",\"Vintage Leaf Chopping Board\",\"Paperweight Vintage Paisley\",\"Retro Pill Box Key Chain The King\",\"Blue Tile Hook\",\"Number Tile Vintage Font 2\",\"Black Silouette Candle Plate\",\"Round Pink Heart Mirror\",\"Black Christmas Tree 120cm\",\"Pink And White Christmas Tree 120cm\",\"Number Tile Cottage Garden No\",\"Lavender Incense In Tin\",\"Hand Towel Pink Flower And Daisy\",\"First Class Passport Cover\",\"Pink Polkadot Childrens Umbrella\",\"Chest 7 Drawer Ma Campagne\",\"Plasmatronic Lamp\",\"Green Diamante Pen In Gift Box\",\"Gold Fishing Gnome\",\"Wall Art Garden Haven\",\"Assorted Tutti Frutti Keyring Ball\",\"Hen House With Chick Standing\",\"Pink Stocking Christmas Decoration\",\"Number Tile Vintage Font 1\",\"Cream Sweetheart Letter Rack\",\"Number Tile Vintage Font 4\",\"Blond Doll Doorstop\",\"Yellow Felt Hanging Heart W Flower\",\"Vintage Union Jack Shopping Bag\",\"Cast Iron Hook Garden Fork\",\"Sprig Lavender Artificial Flower\",\"Ant Copper Turq Boudicca Bracelet\",\"Pair Padded Hangers Pink Check\",\"Summer Fun Design Shower Cap\",\"Space Cadet White\",\"Black Love Bird T-Light Holder\",\"Paper Lantern 5 Point Sequin Star\",\"Folding Umbrella White\\u002fRed Polkadot\",\"Purple Sweetheart Bracelet\",\"Silver Christmas Tree Bauble Stand\",\"4 Pink Dinner Candle Silver Flock\",\"Sweetheart Cream Steel Table Rect\",\"Rose Du Sud Washbag\",\"Triple Wire Hook Pink Heart\",\"Number Tile Vintage Font 5\",\"Letter \\\"S\\\" Bling Key Ring\",\"Blue Knitted Egg Cosy\",\"Cast Iron Hook Garden Trowel\",\"Antique Cream Cutlery Cupboard\",\"Green Fern Notebook\",\"Metalic Leaves Bag Charms\",\"Large White\\u002fPink Rose Art Flower\",\"Ceramic Birdhouse Crested Tit Small\",\"Cakes And Rabbits Design Flannel\",\"Columbian Candle Rectangle\",\"Blue New Baroque Candlestick Candle\",\"Pig Keyring With Light & Sound\",\"36 Pencils Tube Posy\",\"Daisy Sketchbook\",\"Painted Lightbulb Rainbow Design\",\"Vintage Kitchen Print Fruits\",\"Landmark Frame Baker Street\",\"Tuscan Villa Dovecote Bird Feeder\",\"Set\\u002f4 Modern Vintage Cotton Napkins\",\"Number Tile Vintage Font 6\",\"50cm Metal String With 7 Clips\",\"Vintage Shells Print\",\"White Stitched Cushion Cover\",\"Ass Floral Print Spirit Level\",\"Union Flag Windsock\",\"Fan Black Frame\",\"Skulls Storage Box Small\",\"English Rose Notebook A6 Size\",\"Enamel Blue Rim Biscuit Bin\",\"Yellow Easter Egg Hunt Start Post\",\"Hanging Metal Chicken Decoration\",\"Tropical Luggage Tag\",\"Set\\u002f4 Colourful Mixing Bowls\",\"Blue Circles Design Monkey Doll\",\"Silver Fishing Gnome\",\"Antique Glass Place Setting\",\"Letter \\\"C\\\" Bling Key Ring\",\"Pink Bitty Light Chain\",\"Pantry Kitchen Thermometer\",\"Embroidered Ribbon Reel Claire\",\"Large Skull Windmill\",\"Wall Art Mid Century Modern\",\"Easter Bunny Hanging Garland\",\"Woven Candy Cushion Cover\",\"Red Apples Chopping Board\",\"Cake Stand Victorian Filigree Large\",\"Daisy Folkart Heart Decoration\",\"Blue Cat Biscuit Barrel Pink Heart\",\"Animal Stickers\",\"Crochet Rose Purse With Suede Back\",\"Polyester Filler Pad 30cmx30cm\",\"Hanging Clear Mini Bottle\",\"Porcelain Rose Large\",\"Cooking Set Retrospot\",\"Charlie And Lola Charlotte Bag\",\"Paper Lantern 5 Point Star Moon\",\"Acrylic Geometric Lamp\",\"Dolly Cabinet 3 Drawers\",\"Blue Cushion Cover With Flower\",\"French Chateau Large Platter\",\"Woodland Large Pink Felt Heart\",\"Turq+Red Boudicca Large Bracelet\",\"Red Kukui Coconut Seed Necklace\",\"Ice Cream Sundae Lip Gloss\",\"Pink Monte Carlo Handbag\",\"Pink New Baroquecandlestick Candle\",\"Pink\\u002fFlower Rabbit Egg Warmer\",\"Large Apothecary Measuring Jar\",\"S\\u002f2 Zinc Heart Design Planters\",\"Snack Tray Paisley Park\",\"Starfish Soap Dish\",\"Set\\u002f6 Bead Coasters Gauze Bag Gold\",\"Carnival Bracelet\",\"Large Tortilla Design Red Bowl\",\"Eau De Nile Jewelled T-Light Holder\",\"Cubic Mug Flock Blue On Brown\",\"Number Tile Cottage Garden 4\",\"Lunch Box With Cutlery Fairy Cakes\",\"Number Tile Vintage Font 7\",\"Eau De Nile Jewelled Photoframe\",\"75 Green Fairy Cake Cases\",\"S\\u002f6 Sew On Crochet Flowers\",\"White Candystuft Artificial Flower\",\"Rainbow Pegs Photo Clip String\",\"Ant Copper Pink Boudicca Bracelet\",\"Paperweight Childhood Memories\",\"Snack Tray Red Vintage Doily\",\"School Desk And Chair\",\"Box\\u002f12 Chick & Egg In Basket\",\"Vintage Kitchen Print Vegetables\",\"Skulls Square Tissue Box\",\"Number Tile Cottage Garden 3\",\"Pink\\u002fWhite \\\"Keep Clean\\\" Bullet Bin\",\"12 Pink Rose Peg Place Settings\",\"Hanging Bauble T-Light Holder Small\",\"Classic White Frame\",\"Daisy Journal\",\"Strawberry Dream Childs Umbrella\",\"Mirrored Wall Art Table Lamp\",\"Frog Candle\",\"Pink Felt Hanging Heart W Flower\",\"Assorted Farmyard Animals In Bucket\",\"Vintage Post Office Cabinet\",\"Set\\u002f6 Posies Paper Plates\",\"Citrus Garland Felt Flowers\",\"Paper Bunting Paisley Park\",\"Woodland Storage Box Small\",\"Set Of 3 Gold Flying Ducks\",\"Set Of 36 Mushroom Paper Doilies\",\"Skulls Storage Box Large\",\"Camouflage Ear Muff Headphones\",\"Letter \\\"K\\\" Bling Key Ring\",\"Number Tile Cottage Garden 6\",\"Blue Sweetheart Bracelet\",\"Doormat Friendship\",\"Pink Retro Big Flower Bag\",\"Set\\u002f3 Polkadot Stacking Tins\",\"Letter \\\"J\\\" Bling Key Ring\",\"Stripes Design Teddy\",\"White Chrysanthemums Art Flower\",\"Chrysanthemum Pocket Book\",\"Fuschia Voile Pointy Shoe Dec\",\"Potting Shed Rose Candle\",\"Milk Pan Pink Polkadot\",\"Green Murano Twist Bracelet\",\"Red Shark Helicopter\",\"Red White Scarf Hot Water Bottle\",\"Number Tile Cottage Garden 0\",\"Number Tile Cottage Garden 7\",\"Metal Rabbit Ladder Easter\",\"Number Tile Cottage Garden 9\",\"Hardman Mug 3 Assorted\",\"Mini Jigsaw Go To The Fair\",\"Money Box First Aid Design\",\"Garden Path Pocket Book\",\"Pink\\u002fBlue Disc\\u002fMirror String\",\"Cherry Blossom Luggage Tag\",\"Black Small Glass Cake Stand\",\"New Baroque Jewellery Box\",\"Small Kitchen Flower Pots Plaque\",\"Four Rabbit Easter Decorations\",\"Fuschia Retro Bar Stool\",\"Pink Strawberry Handbag\",\"Set Of 12 Rose Botanical T-Lights\",\"Woodland Large Blue Felt Heart\",\"Heart Buttons Jewellery Box\",\"Large Camphor Wood Field Mushroom\",\"Ridged Glass Storage Jar Cream Lid\",\"Table Lamp White Shade Wood Base\",\"Condiment Tray 4 Bowls And 4 Spoons\",\"Number Tile Cottage Garden 8\",\"Black Baroque Carriage Clock\",\"Blue Paisley Notebook\",\"Gold Standing Gnome\",\"Fruit Salad Bag Charm\",\"Zinc Wire Sweetheart Letter Tray\",\"Silver Glass T-Light Set\",\"5 Hook Hanger Magic Toadstool\",\"Fruit Tree And Birds Wall Plaque\",\"Floor Lamp Shade Wood Base\",\"Number Tile Cottage Garden 5\",\"String Of Stars Card Holder\",\"Pig Mug In Two Colour Designs\",\"Letter \\\"L\\\" Bling Key Ring\",\"Camouflage Design Teddy\",\"Black Enamel Flower Ring\",\"Blue Circles Design Teddy\",\"Green Enamel Flower Ring\",\"Daisy Hair Band\",\"La Palmiera Tile Coaster\",\"Number Tile Vintage Font 8\",\"Vintage Notebook Paris Days\",\"Set\\u002f4 Daisy Mirror Magnets\",\"Snack Tray I Love London\",\"St Tropez Necklace\",\"Letter \\\"E\\\" Bling Key Ring\",\"Icon Placemat Pop Art Elvis\",\"Cordial Glass Jug\",\"Painted Sea Shell Metal Windchime\",\"Ivory Retro Kitchen Wall Clock\",\"Assorted Shapes Photo Clip Silver\",\"Jardin Etched Glass Small Bell Jar\",\"Assorted Sanskrit Mini Notebook\",\"Cake Shop Sticker Sheet\",\"Green Fern Pocket Book\",\"Clear Stationery Box Set\",\"Origami Rose Incense In Tube\",\"Letter \\\"D\\\" Bling Key Ring\",\"Posy Candy Bag\",\"Bathroom Scales Footprints In Sand\",\"Zinc Sweetheart Soap Dish\",\"Number Tile Vintage Font 9\",\"Set 4 Nursery Des Round Boxes\",\"House Wrecking Metal Sign\",\"Baby Mouse Red Gingham Dress\",\"75 Black Petit Four Cases\",\"Pink Pillar Candle Silver Flock\",\"Acrylic Jewel Icicle Pink\",\"Number Tile Vintage Font No\",\"Pink Enamel+Glass Hair Comb\",\"Cosy Slipper Shoes Small Red\",\"Turquoise Glass Tassle Bag Charm\",\"Vintage Glass Coffee Caddy\",\"Pink Metal Swinging Bunny\",\"Newspaper Stand\",\"Pocket Mirror Woodland\",\"Assorted Cakes Fridge Magnets\",\"Piece Of Camo Stationery Set\",\"Small Blue Provencal Ceramic Ball\",\"Chunky Silver Necklace Pastel Flowe\",\"Old Rose Combo Bead Necklace\",\"Yellow Breakfast Cup And Saucer\",\"Nurse's Bag Soft Toy\",\"Letter \\\"M\\\" Bling Key Ring\",\"Blue Square Compact Mirror\",\"French Style Embossed Heart Cabinet\",\"Snack Tray Happy Forest\",\"Round White Confetti In Tube\",\"Set\\u002f6 Posies Paper Cups\",\"Fawn And Mushroom Greeting Card\",\"Curio Cabinet Linen And Lace\",\"Flowers Tile Coaster\",\"Zinc Heart Lattice Charger Large\",\"Psychedelic Wall Thermometer\",\"Glass Chalice Green Large\",\"Floral Pink Monster\",\"Necklace+Bracelet Set Blue Blossom\",\"Summer Butterflies Bag Charm\",\"Vintage Kitchen Print Seafood\",\"Stripy Design Shower Cap\",\"Wake Up Cockerel Tile Coaster\",\"Glass Chalice Green Small\",\"Silver Bracelet W Pastel Flower\",\"Green Heart Compact Mirror\",\"Elvis Wallhanging \\u002f Curtain\",\"Number Tile Vintage Font 0\",\"Dolly Cabinet 2 Drawers\",\"Joy Large Wood Letters\",\"Black Ear Muff Headphones\",\"Crystal Diamante Star Brooch\",\"Hanging Glass Etched Tealight\",\"Vintage Bead Cosmetic Bag\",\"Antique Cream Cutlery Shelf\",\"Wake Up Cockerel Tile Hook\",\"Blue Polkadot Purse\",\"Mini Jigsaw Bake A Cake\",\"Funky Monkey Gift Bag Medium\",\"Periwinkle T-Light Holder\",\"Purple Enamel Flower Ring\",\"Cut Glass Hexagon T-Light Holder\",\"Floral Soft Car Toy\",\"Set Of 6 Ribbons Country Style\",\"Silver Mop Orbit Drop Earrings\",\"Jardin Etched Glass Large Bell Jar\",\"Flag Of St George Chair\",\"Wine Bottle Dressing Dark Blue\",\"Set Of Skull Wall Stickers\",\"Silver Teddy Bear\",\"Purple Acrylic Faceted Bangle\",\"Flowers Tile Hook\",\"Fuschia Flower Purse With Beads\",\"Bathroom Set Love Heart Design\",\"Peace Small Wood Letters\",\"Green Wire Standing Candle Holder\",\"Asstd Design 3d Paper Stickers\",\"Crystal Frog Phone Charm\",\"Top Secret Pen Set\",\"Retro Pink Ball Ashtray\",\"Pair Of Pink Flower Cluster Slide\",\"Envelope 50 Curious Images\",\"Set 4 Picnic Cutlery Cherry\",\"Medium Pink Buddha Head\",\"Letter \\\"G\\\" Bling Key Ring\",\"Cream Delphinium Artificial Flower\",\"Small Chunky Glass Roman Bowl\",\"Stripes Design Monkey Doll\",\"4 Burgundy Wine Dinner Candles\",\"Party Time Design Flannel\",\"Midnight Blue Vintage Earrings\",\"Gold Scroll Glass T-Light Holder\",\"4 Pink Flock Christmas Balls\",\"Danish Rose Bedside Cabinet\",\"Silver Mop Orbit Bracelet\",\"Crystal Diamante Expandable Ring\",\"Vintage Rose Bead Bracelet Black\",\"Pink Hydrangea Art Flower\",\"Polkadot Mug Pink\",\"Small Hanging Glass+Zinc Lantern\",\"Pink Boudicca Large Bracelet\",\"Dragons Blood Incense\",\"Retro Pill Box Revolutionary\",\"Silver Roccoco Chandelier\",\"Purple Bertie Glass Bead Bag Charm\",\"Psychedelic Tile Coaster\",\"Yellow Flowers Felt Handbag Kit\",\"Large Blue Provencal Ceramic Ball\",\"Vintage Notebook Travelogue\",\"Columbian Cube Candle\",\"Beach Hut Key Cabinet\",\"Purple Boudicca Large Bracelet\",\"Mirror Love Bird T-Light Holder\",\"Pink Heart Dots Hot Water Bottle\",\"Bathroom Scales Rubber Ducks\",\"Vegetable Garden Chopping Board\",\"Red Enamel Flower Ring\",\"Ivory Sculpted Rnd Candle\",\"Assorted Laquered Incense Holders\",\"Flower Blue Clock With Sucker\",\"Blue Chenille Shaggy Cushion Cover\",\"Marie Antoinette Trinket Box Gold\",\"Set Of 6 Ribbons Party\",\"Space Cadet Black\",\"Pink Yellow Patch Cushion Cover\",\"Set 10 Cards Dinky Tree 17076\",\"White Rosebud Pearl Bracelet\",\"Magazine Rack Gebra Assorted\",\"Blue Murano Twist Bracelet\",\"Amethyst Chunky Bead Bracelet W Str\",\"Gold Ear Muff Headphones\",\"Amber Glass\\u002fSilver Bracelet\",\"Pink Bertie Glass Bead Bag Charm\",\"Set Of 3 Babushka Stacking Tins\",\"Pink Glass Tassle Bag Charm\",\"Retro Brown Ball Ashtray\",\"Set Of 72 Green Paper Doilies\",\"Silver Standing Gnome\",\"Turq Stone\\u002fCrystal Earrings\",\"Black Glass Bracelet W Heart Charms\",\"Pink Paisley Cushion Cover\",\"Jade Drop Earrings W Filigree\",\"White Glass Chunky Charm Bracelet\",\"Freestyle Canvas Art Picture\",\"Pink Candystuft Artificial Flower\",\"Red Glass Tassle Bag Charm\",\"T-Light Holder Silver Saucer\",\"Diamante Bow Brooch Green Colour\",\"Green Vintage Earrings\",\"Letter \\\"H\\\" Bling Key Ring\",\"Set 10 Cards Red Riding Hood 17214\",\"Clear Milkshake Glass\",\"La Palmiera Tile Hook\",\"Hanging Bauble T-Light Holder Large\",\"Teatime Pen Case & Pens\",\"Metal Tube Chime On Bamboo\",\"Blue Daisy Mobile\",\"Teatime Round Pencil Sharpener\",\"Beach Hut Design Blackboard\",\"Ruby Glass Cluster Earrings\",\"Blue Delphinium Artificial Flower\",\"Clear Acrylic Faceted Bangle\",\"Milk Bottle With Glass Stopper\",\"Black Vintage Earrings\",\"Decorative Hanging Shelving Unit\",\"Tuscan Villa Bird Feeder\",\"Silver Mop Orbit Necklace\",\"Mini Jigsaw Leap Frog\",\"Pack 3 Fire Engine\\u002fCar Patches\",\"Transparent Acrylic Tape Dispenser\",\"Large Tall Camphor Wood Toadstool\",\"Blue Voile Lampshade\",\"Set Of 12 Mini Bunnies In A Bucket\",\"Brown Kukui Coconut Seed Necklace\",\"Pink Flock Glass Candleholder\",\"Set Of 4 Carousel Placemats\",\"Pink\\u002fYellow Flowers Handbag\",\"Blue Stones On Wire For Candle\",\"Blue Heart Compact Mirror\",\"White Square Table Clock\",\"Clear Crystal Star Phone Charm\",\"Pink\\u002fGreen Flower Design Big Mug\",\"Diamante Hair Grip Pack\\u002f2 Crystal\",\"Scented Candle In Digitalis Tin\",\"Blue Green Embroidery Cosmetic Bag\",\"Small White\\u002fPink Rose Art Flower\",\"Purple Glass Tassle Bag Charm\",\"Black Square Table Clock\",\"Wall Art The Magic Forest\",\"Silver Lariat 40cm\",\"Grey Acrylic Faceted Bangle\",\"New Baroque Black Photo Album\",\"Pink\\u002fWhite Christmas Tree 60cm\",\"Tropical Holiday Purse\",\"Vintage Kitchen Print Puddings\",\"Diamante Bow Brooch Red Colour\",\"Pair Butterfly Hair Clips\",\"Set Of 4 Green Carousel Coasters\",\"Blue Geisha Girl\",\"Romantic Images Notebook Set\",\"Green Geisha Girl\",\"Blue Rose Patch Purse Pink Butterfl\",\"Retro \\\"Tea For One\\\"\",\"Lavender Incense 40 Cones In Tin\",\"Origami Vanilla Incense Cones\",\"Moroccan Beaten Metal Mirror\",\"Amber Drop Earrings W Long Beads\",\"Spotted White Natural Seed Necklace\",\"Green Glass Tassle Bag Charm\",\"Vintage Enamel & Crystal Earrings\",\"Lush Greens Ribbons\",\"Medium White\\u002fPink Rose Art Flower\",\"Silver Oval Shape Trinket Box\",\"Christmas Tree T-Light Holder\",\"Classical Rose Small Vase\",\"Beaded Crystal Heart Blue Small\",\"Green Square Compact Mirror\",\"Set 4 Picnic Cutlery Blueberry\",\"Butterfly Hair Band\",\"Black Christmas Tree 60cm\",\"Red Boudicca Large Bracelet\",\"Zinc Top 2 Door Wooden Shelf\",\"Gold\\u002fMop Pendant Orbit Necklace\",\"Blue Disco Handbag\",\"Bag Of Silver Stones\",\"12 Hanging Eggs Hand Painted\",\"Blue Table Run Flower\",\"Oyster Trinket Box\",\"Large Zinc Glass Candleholder\",\"Silver Hoop Earrings With Flower\",\"Carousel Ponies Baby Bib\",\"Tigris Eye Chunky Charm Bracelet\",\"Economy Holiday Purse\",\"Turquoise Crystal+Glass Bracelet\",\"White Tissue Ream\",\"Letter \\\"I\\\" Bling Key Ring\",\"Beaded Pearl Heart White Large\",\"Crystal Pair Heart Hair Slides\",\"Letter \\\"R\\\" Bling Key Ring\",\"Set\\u002f4 Butterfly Mirror Magnets\",\"Midnight Blue Pair Heart Hair Slide\",\"Yellow\\u002fPink Flower Design Big Mug\",\"Pink Hanging Gingham Easter Hen\",\"Blue Hanging Gingham Easter Hen\",\"Pink Oval Shape Trinket Box\",\"Red Acrylic Faceted Bangle\",\"Fairy Cake Notebook A5 Size\",\"Pink Rosebud Pearl Bracelet\",\"Crystal Stiletto Phone Charm\",\"White Frangipani Necklace\",\"Flames Sunglasses Pink Lenses\",\"Gold Mop Orbit Necklace\",\"Blue Polkadot Pudding Bowl\",\"Amber Diamante Expandable Ring\",\"Zinc Wire Kitchen Organiser\",\"Vanilla Incense 40 Cones In Tin\",\"Wood And Glass Medicine Cabinet\",\"Gold Washbag\",\"Pink Clear Glass Candle Plate\",\"First Class Holiday Purse\",\"Pink Cat Floral Cushion Cover\",\"Multicolour Polkadot Plate\",\"Assorted Coloured Circle Mobile\",\"Small Zinc\\u002fGlass Candleholder\",\"Pet Mug Goldfish\",\"Ant Copper Red Boudicca Bracelet\",\"Black Chunky Bead Bracelet W Strap\",\"Pink\\u002fPurple Circle Curtain\",\"Pink String Curtain With Pole\",\"Yellow Dragonfly Helicopter\",\"Pink Heart Red Handbag\",\"Queen Of The Skies Holiday Purse\",\"Pink Green Embroidery Cosmetic Bag\",\"Pink Jewelled Mirror Trinket Tray\",\"Pink Crystal+Glass Bracelet\",\"Red Polkadot Pudding Bowl\",\"Copper\\u002fOlive Green Flower Necklace\",\"Ivory Shell Heart Necklace\",\"Watermelon Bath Sponge\",\"Red Retro Kitchen Wall Clock\",\"Ivy Heart Wreath\",\"Vintage Zinc Planter\",\"Zinc Heart Lattice 2 Wall Planter\",\"Letter \\\"N\\\" Bling Key Ring\",\"Hilda Candy Spot Rabbit\",\"Blue\\u002fYellow Flower Design Big Mug\",\"White 3 Frame Birds And Tree\",\"Folding Camping Scissor W\\u002fKnif & S\",\"Assorted Creepy Crawlies\",\"Knitted Rabbit Doll\",\"Silver Candlepot Jardin\",\"Asstd Col Butterfly\\u002fCrystal W\\u002fChime\",\"French Enamel Utensil Holder\",\"Blue Round Compact Mirror\",\"Midnight Blue Glass\\u002fSilver Bracelet\",\"5 Strand Glass Necklace Crystal\",\"Aqua Bertie Glass Bead Bag Charm\",\"Letter \\\"B\\\" Bling Key Ring\",\"Letter \\\"P\\\" Bling Key Ring\",\"Square Metal Candleholder Base\",\"Classical Rose Candlestand\",\"Small Single Flame Candle Holder\",\"Ass Col Large Sand Frog P'weight\",\"Retro Tin Ashtray Revolutionary\",\"Red Daisy Paper Lampshade\",\"French Chateau Small Fruitbowl\",\"Large Mint Diamante Hairslide\",\"Yellow Pink Flower Design Big Bowl\",\"S\\u002f3 Pot Pouri Cushions Blue Colours\",\"Hall Cabinet With 3 Drawers\",\"Necklace+Bracelet Set Blue Hibiscus\",\"Pink Foxglove Artiifcial Flower\",\"Porcelain Budah Incense Holder\",\"Yellow Pot Plant Candle\",\"Chalkboard Kitchen Organiser\",\"Pink Oval Jewelled Mirror\",\"Beach Hut Mirror\",\"Large Crystal Diamante Hairslide\",\"Round Articulated Pink Clock W\\u002fSuck\",\"Green Round Compact Mirror\",\"Folk Art Greeting Card Pack\\u002f12\",\"Black+White Necklace W Tassel\",\"Set 10 Cards 12 Days Wrap 17058\",\"Ass Col Small Sand Gecko P'weight\",\"Assorted Colour Suction Cup Hook\",\"Fire Polished Glass Bracelet Green\",\"Folkart Christmas Tree T-Light Hold\",\"Pack\\u002f12 Blue Folkart Cards\",\"Green Peony Cushion Cover\",\"Snack Tray Red Gingham\",\"Blue Flock Glass Candleholder\",\"12 Pink Hen+Chicks In Basket\",\"Necklace+Bracelet Pink Butterfly\",\"Silver\\u002fMop Pendant Orbit Necklace\",\"New Baroque Large Necklace Blk\\u002fWhit\",\"Vintage Keepsake Box Pink Flower\",\"Floral Bathroom Set\",\"Large Bonne Jam Jar T-Light Holder\",\"Lily Brooch Olive Colour\",\"Ant Silver Lime Green Boudicca Ring\",\"Zinc Heart Lattice Charger Small\",\"Best Dad Candle Letters\",\"Red Retrospot Wrap\",\"Purple Frangipani Hairclip\",\"Black Diamante Expandable Ring\",\"Silver Aperitif Glass\",\"Set\\u002f9 Christmas T-Lights Scented\",\"Easter Bunny Wreath\",\"Flower Fairy Incense Bouquet\",\"Pink Square Table Clock\",\"Way Out Metal Sign\",\"Flag Of St George\",\"Purple Frangipani Necklace\",\"Blossom Images Notebook Set\",\"Wrap Christmas Village\",\"White Hydrangea Art Flower\",\"Crystal Hoop Earring Floral Leaf\",\"Pair Of Enamel Butterfly Hairclip\",\"White\\u002fPink Chick Easter Decoration\",\"Green Easter Egg Hunt Start Post\",\"Pink Daisy Bag Charm\",\"Moroccan Beaten Metal Dish Large\",\"Bird Box Christmas Tree Decoration\",\"Amethyst Glass\\u002fShell\\u002fPearl Necklace\",\"S\\u002f4 Icon Coaster Elvis Lives\",\"Vintage Caravan Gift Wrap\",\"English Rose Metal Waste Bin\",\"Ass Des Phone Sponge Craft Sticker\",\"Polyester Filler Pad 65cmx65cm\",\"Cream Climbing Hydranga Art Flower\",\"Fine Silver Necklace W Pastel Flowe\",\"Wise Man Star Shape Egg Pan\",\"Teal\\u002fFuschia Col Bead Necklace\",\"Tuscan Villa Bird Table\",\"Lilac Gauze Butterfly Lampshade\",\"Cherry Blossom Purse\",\"Acrylic Hanging Jewel Pink\",\"Red Peony Cushion Cover\",\"Amber Chunky Bead Bracelet W Strap\",\"Vintage Zinc Watering Can Small\",\"Murano Style Glass Bracelet Black\",\"Blue Travel First Aid Kit\",\"Black Feather Christmas Decoration\",\"Edwardian Drop Earrings Jet Black\",\"Green\\u002fBlue Flower Design Big Mug\",\"Set 10 Cards Dressing Up 17077\",\"Ruby Glass Cluster Bracelet\",\"Blue Murano Twist Necklace\",\"Blue Blossom Hair Clip\",\"Silver Drop Earrings With Flower\",\"Pink Heart Of Glass Bracelet\",\"Goldie Looking Mirror\",\"Drop Diamante Earrings Crystal\",\"Amethyst Drop Earrings W Long Beads\",\"Gold Mop Orbit Drop Earrings\",\"Pink Party Sunglasses\",\"Black Grand Baroque Photo Frame\",\"Crystal Sea Horse Phone Charm\",\"White Allium Artificial Flower\",\"Bathroom Scales Tropical Beach\",\"Silver Lattice Vanilla Candle Pot\",\"Pink & White Rosebud Ring\",\"Purple Gemstone Bracelet\",\"Union Jack Hot Water Bottle\",\"Vintage Wooden Bar Stool\",\"Glitter Snow Pear Tree Decoration\",\"Cute Bird Ceature Screen\",\"Pink\\u002fWhite Christmas Tree 30cm\",\"Set 4 Picnic Cutlery Fondant\",\"Little Green Monster Soft Toy\",\"Rustic Wooden Cabinet Glass Doors\",\"Letter \\\"V\\\" Bling Key Ring\",\"Cream Bunny Easter Egg Basket\",\"Green Heart Of Glass Bracelet\",\"Colourful Flower Fruit Bowl\",\"Blue Retro Kitchen Wall Clock\",\"White Vint Art Deco Crystal Necklac\",\"String Of 8 Butterflies Pink\",\"Cherry Blossom Canvas Art Picture\",\"Green Murano Twist Necklace\",\"Amethyst Diamante Expandable Ring\",\"Silver\\u002fAmethyst Drop Earrings Leaf\",\"Pink Chrysanthemums Art Flower\",\"Gold Mop Orbit Bracelet\",\"Angel Decoration With Lace Padded\",\"Holly Top Christmas Stocking\",\"Strawbry Scented Votive Candle\",\"Pink Feathers Curtain\",\"Gold Wine Goblet\",\"Recipe Box With Metal Heart\",\"Flower Glass Garland Neckl36\\\"Black\",\"Silver Lariat Black Stone Earrings\",\"Green Christmas Tree String 20light\",\"Flower Purple Clock With Sucker\",\"Raspberry Ant Copper Flower Necklac\",\"Set Of 6 Ice Cream Skittles\",\"Black Medium Glass Cake Stand\",\"Purple\\u002fCopper Hanging Lampshade\",\"Romantic Images Scrap Book Set\",\"White Rosebud Pearl Earrings\",\"Diamante Hair Grip Pack\\u002f2 Ruby\",\"Green Pair Heart Hair Slides\",\"Blue Wire Spiral Candle Holder\",\"Letter \\\"T\\\" Bling Key Ring\",\"Congratulations Bunting\",\"Little Pink Monster Soft Toy\",\"Yellow\\u002fBlue Retro Radio\",\"Set 10 Card Kraft Reindeer 17084\",\"Pink Rosebud Pearl Earrings\",\"Pink Acrylic Jewel Snowflake\",\"Flower Glass Garld Neckl36\\\"Amethyst\",\"Cream Sweetheart Wall Cabinet\",\"Blue Flower Des Purse\",\"Murano Style Glass Bracelet Red\",\"Frog Sock Puppet\",\"Gold Print Paper Bag\",\"Red Peony Table Clock\",\"Diamante Hair Grip Pack\\u002f2 Peridot\",\"Gold Teddy Bear\",\"Glass And Painted Beads Bracelet To\",\"Pink Glass Chunky Charm Bracelet\",\"Toast Its - Dinosaur\",\"Oriental Red Cushion Cover\",\"Lily Brooch Amethyst Colour\",\"Black\\u002fWhite Glass\\u002fSilver Bracelet\",\"Vintage Zinc Watering Can\",\"S\\u002f3 Pink Square Planters Roses\",\"Purple Foxglove Artiifcial Flower\",\"La Palmiera Wall Thermometer\",\"Pink Round Compact Mirror\",\"Pink Flowers Rabbit Easter\",\"Silver\\u002fCrystal Drop Earrings W Leaf\",\"Letter \\\"F\\\" Bling Key Ring\",\"Assorted Mini Madras Notebook\",\"Hello Sailor Bathroom Set\",\"Hen House W Family In Barn & Nest\",\"Blue Check Bag W Handle 34x20cm\",\"Vip Holiday Purse\",\"Crystal Czech Cross Phone Charm\",\"Ruby Drop Chandelier Earrings\",\"Long Silver Necklace Pastel Flower\",\"Ant Silver Fuschia Boudicca Ring\",\"Letter \\\"Z\\\" Bling Key Ring\",\"Hand Open Shape Decowhite\",\"Purple Enamel Flower Hair Tie\",\"Blue Painted Kashmiri Chair\",\"5 Strand Glass Necklace Black\",\"Pink Dog Cannister\",\"French Chateau Oval Platter\",\"Buttons And Stripes Notebook\",\"Pink Easter Hens+Flower\",\"Wooden Box Advent Calendar\",\"Midnight Blue Copper Flower Necklac\",\"A4 Wall Tidy Blue Office\",\"Army Camo Bookcover Tape\",\"3 Black Cats W Hearts Blank Card\",\"Black Drop Crystal Necklace\",\"Amber Chunky Glass+Bead Necklace\",\"Garden Path Notebook\",\"Crochet Bear Red\\u002fBlue Keyring\",\"Green Stone\\u002fCrystal Earrings\",\"Amber Glass Tassle Bag Charm\",\"Glass And Painted Beads Bracelet Ol\",\"Blue Glass Chunky Charm Bracelet\",\"Cracked Glaze Necklace Red\",\"Moroccan Beaten Metal Dish\",\"Old Doc Russel Metal Sign\",\"Candy Spot Bunny\",\"Murano Style Glass Bracelet Gold\",\"Pink Vintage Victorian Earrings\",\"Multicolour Easter Rabbit\",\"Spots On Red Bookcover Tape\",\"Elephant Clip W Suction Cup\",\"Purple Gemstone Necklace 45cm\",\"Black Vint Art Dec Crystal Necklace\",\"Gold Aperitif Glass\",\"Black Vintage Crystal Earrings\",\"Flower Burst Silver Ring Crystal\",\"Cinnamon Scented Votive Candle\",\"Bili Nut And Wood Necklace\",\"Pink Felt Easter Egg Basket\",\"Pink Bunny Easter Egg Basket\",\"Crochet White Rabbit Keyring\",\"Silver Black Orbit Bracelet\",\"Pink Murano Twist Necklace\",\"Pink Rosebud & Pearl Necklace\",\"Black Photo Album\",\"Necklace+Bracelet Set Fruit Salad\",\"Set 10 Cards Cheerful Robin 17065\",\"Filigree Diamante Earrings\",\"Daisy Hair Comb\",\"Pink Crystal Skull Phone Charm\",\"Gold\\u002fAmber Drop Earrings W Leaf\",\"Green Enamel Flower Hair Tie\",\"Dotcomgiftshop Tea Towel\",\"Blue White Plastic Rings Lampshade\",\"Diamond Las Vegas Necklace 45cm\",\"Crochet Dog Keyring\",\"Blue Bunny Easter Egg Basket\",\"Fire Polished Glass Bracelet Montan\",\"Set Of 3 Coney Island Oval Boxes\",\"Cream And Pink Flowers Pony\",\"Utilty Cabinet With Hooks\",\"Vintage Enamel & Crystal Necklace\",\"Mop Pendant Shell Necklace\",\"Flower Glass Garland Neckl36\\\"Blue\",\"Drop Diamante Earrings Black Diamon\",\"Pink Breakfast Cup And Saucer\",\"Gold Diamante Star Brooch\",\"The King Gift Bag 25x24x12cm\",\"Mirrored Wall Art Foxy\",\"Diamante Hair Grip Pack\\u002f2 Lt Rose\",\"Blue Hole Punch\",\"Vintage Bead Pink Shade\",\"Jade Green Enamel Hair Comb\",\"Flower Glass Garld Neckl36\\\"Turquois\",\"Midnight Blue Drop Crystal Necklace\",\"Zinc Heart Lattice Tray Oval\",\"Turquoise Heart Of Glass Bracelet\",\"Jet Black Las Vegas Necklace 45cm\",\"Wine Bottle Dressing Ltblue\",\"White\\u002fPink Mini Crystals Necklace\",\"Asstd Design Bubble Gum Ring\",\"Popart Rect Pencil Sharpener Asst\",\"White Murano Twist Bracelet\",\"Drop Diamante Earrings Purple\",\"Riviera Necklace\",\"Hanging Ridge Glass T-Light Holder\",\"Pink Small Jewelled Photoframe\",\"White Vintage Crystal Earrings\",\"Green Drop Earrings W Bead Cluster\",\"Yuletide Images S\\u002f6 Paper Boxes\",\"Diamante Bow Brooch Black Colour\",\"A4 Wall Tidy Red Flowers\",\"Black Crystal Drop Earrings\",\"Sweetheart Carry-All Basket\",\"Cracked Glaze Necklace Ivory\",\"Amethyst Hoop Earring Floral Leaf\",\"White Enamel Flower Hair Tie\",\"Pink Flock Photo Frame\",\"3 Pink Hen+Chicks In Basket\",\"Set Of 6 Easter Rainbow Chicks\",\"Hand Painted Hanging Easter Egg\",\"Resin Necklace W Pastel Beads\",\"Black Cherry Lights\",\"Blue Tiled Tray\",\"Bird On Branch Canvas Screen\",\"Rose Colour Pair Heart Hair Slides\",\"Wrap 50'S Christmas\",\"Vintage Photo Album Paris Days\",\"Cannabis Leaf Bead Curtain\",\"Blue Organdy Round Lampshade W Bea\",\"Pink Boudoir T-Light Holder\",\"Teatime Push Down Rubber\",\"2 Daisies Hair Comb\",\"Lilac Feathers Curtain\",\"15 Pink Fluffy Chicks In Box\",\"Ant Silver Purple Boudicca Ring\",\"Happy Birthday Card Stripey Teddy\",\"Set\\u002f3 Tall Glass Candle Holder Pink\",\"Cupid Scented Candle In Glass\",\"Paint Your Own Eggs In Crate\",\"Letter \\\"Y\\\" Bling Key Ring\",\"Set 6 Cards Sparkly Reindeer 17262\",\"Silver\\u002fNatural Shell Necklace\",\"Modern Vintage Cotton Shopping Bag\",\"Pink\\u002fBlue String Curtain\",\"Light Pink Flock Glass Candleholder\",\"Pink Butterfly Washbag\",\"Jet Black Las Vegas Bracelet Round\",\"Blue Easter Egg Hunt Start Post\",\"Glass And Beads Bracelet Ivory\",\"Diamante Necklace Purple\",\"Green Pop Art Mao Cushion Cover\",\"Pink Gauze Butterfly Lampshade\",\"Orange\\u002fWht\\u002fFuschia Stones Necklace\",\"French Chateau Large Fruit Bowl\",\"Envelope 50 Romantic Images\",\"Set 10 Xmas Cards & Badges 17070\",\"White Vintage Crystal Bracelet\",\"Dusty Pink Christmas Tree 60cm\",\"Frog King Watering Can\",\"Pink Enamel Flower Hair Tie\",\"Curious Images Notebook Set\",\"Letter \\\"W\\\" Bling Key Ring\",\"Pink Christmas Flock Droplet\",\"Metal Base For Candles\",\"Cute Rabbit Ceature Screen\",\"Silicon Star Bulb Blue\",\"Ivory Shell Heart Earrings\",\"Black Gemstone Necklace 45cm\",\"Set 10 Cards Out Of Order 17216\",\"Blue Teatime Print Bowl\",\"White Rosebud & Pearl Necklace\",\"Amber Glass\\u002fShell\\u002fPearl Necklace\",\"5 Strand Glass Necklace Amethyst\",\"Cherry Blossom Table Clock\",\"Origami Sandlewood Incense+Flower\",\"Orange Flower Mug\",\"White Frangipani Hair Clip\",\"Folkart Zinc Star Christmas Dec\",\"Beaded Love Heart Jewellery Set\",\"Psychedelic Metal Sign Calendar\",\"Amber Bertie Glass Bead Bag Charm\",\"Flower Garland Necklace Red\",\"Turq Pendant Triple Shell Necklace\",\"The King Gift Bag\",\"Silver Black Orbit Drop Earrings\",\"Wrap Daisy Carpet\",\"Pearl & Shell 42\\\"Neckl Green\",\"Rabbit Easter Decoration\",\"Drop Diamante Earrings Green\",\"Turq Ice Cream Bum Bag\",\"Black Drop Earrings W Long Beads\",\"Fire Polished Glass Bracelet Red\",\"Robin Christmas Card\",\"Origami Opium Incense\\u002fCandle Set\",\"Blue Climbing Hydranga Art Flower\",\"Set 10 Cards Jingle Bells 16957\",\"Pink Murano Twist Bracelet\",\"Cracked Glaze Earrings Red\",\"Set 10 Christmas Cards Hohoho 16956\",\"Set 10 Cards Scottie Dog 17211\",\"Green Pendant Triple Shell Necklace\",\"Letter \\\"O\\\" Bling Key Ring\",\"Hanging Butterfly Egg\",\"Glass Bead Hoop Earrings Amethyst\",\"Blue Stripes Shoulder Bag\",\"Set 10 Card Christmas Welcome 17112\",\"Classic Diamante Earrings Jet\",\"Purple Las Vegas Bracelet Round\",\"Amber 3 Bead Drop Earrings\",\"Blue Netting Storage Hanger\",\"Gold Flower Cushion Cover\",\"Lazer Cut Necklace W Pastel Beads\",\"Drop Earrings W Flower & Leaf\",\"Blue Crusoe Check Lampshade\",\"White Bird Garden Design Mug\",\"Diamante Hair Grip Pack\\u002f2 Montana\",\"Set 10 Cards Snowy Snowdrops 17100\",\"Green\\u002fBlue Ceramic Candle Holder\",\"New Baroque Small Necklace Black\",\"Jade Crystal+Glass Bracelet\",\"Cote D'azure Necklace\",\"Lighthouse Printed Metal Sign\",\"Enamel Blue Rim Tea Container\",\"Set 10 Cards Hats & Stockings 17081\",\"Diamante Hair Grip Pack\\u002f2 Black Dia\",\"Set 10 Cards Perfect Post 17090\",\"5 Strand Glass Necklace Amber\",\"White Heart Of Glass Bracelet\",\"Pink Riviera Handbag\",\"Purple Vintage Earrings\",\"Pink\\u002fAmethyst\\u002fGold Necklace\",\"Classical Rose Table Lamp\",\"Wrap Green Pears\",\"Black 3 Bead Drop Earrings\",\"Yellow\\u002fOrange Flower Design Plate\",\"Set\\u002f4 Garden Rose Dinner Candle\",\"Ivory Pendant Triple Shell Necklace\",\"New Baroque B'fly Necklace Crystal\",\"Yellow\\u002fPink Ceramic Candle Holder\",\"Maxwell 2 Tone Blue 60 Page Photo A\",\"Round Cactus Candle\",\"Glass Bead Hoop Earrings Black\",\"Gingham Oven Glove Red Heart\",\"Pink Hearts Paper Garland\",\"Silver Flowr Pink Shell Necklace\",\"Black Flower Candle Plate\",\"Cd Wall Tidy Blue Office\",\"Amber Fine Bead Necklace W Tassel\",\"Black Fine Bead Necklace W Tassel\",\"Fire Polished Glass Bracelet Black\",\"Silver Looking Mirror\",\"Girly Pink Tool Set\",\"Set 10 Cards Wishing Tree 17116\",\"Cd Wall Tidy Red Flowers\",\"Glass Bead Hoop Necklace Green\",\"New Baroque B'fly Necklace Green\",\"Pastel Pink Photo Album\",\"Wrap Monster Fun\",\"Wrap Cowboys\",\"Wrap Billboard Fonts Design\",\"Acrylic Jewel Icicle Blue\",\"Champagne Tray Blank Card\",\"Silver And Black Orbit Necklace\",\"Flower Glass Garland Neckl36\\\"Green\",\"Letter \\\"U\\\" Bling Key Ring\",\"Midnight Blue Crystal Drop Earrings\",\"Floral Blue Monster\",\"Antique Olive Green Flower Earrings\",\"Antique Opal White Flower Earrings\",\"Antique Raspberry Flower Earrings\",\"Silicon Cube 25w Blue\",\"Ivory Gold Metal Bag Charm\",\"Silver\\u002fNat Shell Necklace W Pendant\",\"Diamante Necklace Black\",\"Black Gemstone Bracelet\",\"Fire Polished Glass Neckl Green\",\"Clam Shell Large\",\"Dairy Maid Pudding Bowl\",\"Pink And Black String Curtain\",\"Pink Flock Suede Cushion Cover\",\"Flowers Handbag Blue And Orange\",\"Pink Cherry Blossom Cup & Saucer\",\"Eight Piece Creepy Crawlie Set\",\"Pink Cherry Lights\",\"Pink Poodle Hanging Decoration\",\"White With Black Cats Plate\",\"Copper And Brass Bag Charm\",\"Crochet Rose Des Clothes Hanger\",\"Black Diamond Cluster Necklace\",\"Pink Tall Porcelain T-Light Holder\",\"Freshwater Pearl Bracelet Ivory\",\"Incense Bazaar Peach\",\"Big Polkadot Mug\",\"Set 10 Cards Jingle Bells 17217\",\"Fuschia Table Run Flower\",\"Pearl And Cherry Quartz Braclet\",\"Pale Pink\\u002fAmethyst Stone Necklace\",\"Resin Bracelet W Pastel Beads\",\"Purple Amethyst Necklace W Tassel\",\"Turquoise Bertie Glass Bead Charm\",\"Small Tahiti Beach Bag\",\"Diamante Necklace Green\",\"Heart Shaped Mirror\",\"Set 10 Minicards Cute Snowman 17071\",\"English Rose Scented Hanging Heart\",\"Vintage Bead Pink Jewel Box\",\"Pocket Mirror \\\"Glamorous\\\"\",\"Turquoise Christmas Tree\",\"Cracked Glaze Earrings Brown\",\"Tiny Crystal Bracelet Blue\",\"Glass Bead Hoop Necklace Amethyst\",\"Glass Bead Hoop Necklace Montana\",\"Blue Flock Cushion Cover\",\"Baroque Butterfly Earrings Crystal\",\"S\\u002f4 Black Disco Partition Panel\",\"Pink Spots Chocolate Nesting Boxes\",\"Ubo-Light Triobase Purple\",\"Rasta In Bath W Spliff Ashtray\",\"Mug Dotcomgiftshopcom\",\"Chunky Cracked Glaze Necklace Ivory\",\"Funky Flower Picnic Bag For 4\",\"Pink\\u002fWhite Ribbed Melamine Jug\",\"Set\\u002f3 Floral Garden Tools In Bag\",\"Diamante Necklace\",\"Set 10 Cards Magical Tree 17086\",\"Hearts Wrapping Tape\",\"Classic Diamante Necklace Jet\",\"Pastel Blue Photo Album\",\"Wrap Alphabet Poster\",\"Wrap Red Vintage Doily\",\"Wrap Bird Garden\",\"Set 10 Cards Christmas Tree 16955\",\"Danish Rose Umbrella Stand\",\"White Stone\\u002fCrystal Earrings\",\"Blue Breakfast Cup And Saucer\",\"Set 10 Cards 12 Days Of Xmas 17059\",\"Cat With Sunglasses Blank Card\",\"Happy Birthday Card Teddy\\u002fCake\",\"Set 10 Cards Xmas Choir 17068\",\"Montana Diamond Cluster Necklace\",\"Cracked Glaze Earrings Ivory\",\"Set 10 Cards Poinsettia 17093\",\"Set 10 Card Perfect Nativity 17089\",\"Glass Cake Cover And Plate\",\"Purple\\u002fBlue Ceramic Candle Holder\",\"Set 10 Card Snowman 16965\",\"Set 10 Cards David's Madonna 17074\",\"White Beaded Garland String 20light\",\"Set 10 Cards Xmas Graphic 17218\",\"Fire Polished Glass Neckl Bronze\",\"Vintage Glass Tea Caddy\",\"Potting Shed Candle Citronella\",\"Large Round Cutglass Candlestick\",\"Food\\u002fDrink Sponge Stickers\",\"Purple Anemone Artificial Flower\",\"Set 10 Mini Santa & Snowman 17087\",\"Blue\\u002fYellow Ceramic Candle Holder\",\"Pink Combo Mini Crystals Necklace\",\"3 Wick Christmas Briar Candle\",\"Glass Bead Hoop Earrings Green\",\"New Baroque Black Boxes\",\"Set Of 16 Vintage Ivory Cutlery\",\"Light Topaz Teal\\u002fAqua Col Necklace\",\"Green With Metal Bag Charm\",\"White With Metal Bag Charm\",\"Curious Images Scrap Book Set\",\"Set 10 Cards Rudolphs Nose 17097\",\"Rain Poncho\",\"Pink New Baroque Flock Candlestick\",\"Tiny Crystal Bracelet Green\",\"Set 10 Cards Filigree Bauble 16961\",\"Silver\\u002fBlack Pendant Orbit Necklace\",\"Antique Mid Blue Flower Earrings\",\"Asstd Rasta Key-Chains\",\"Rose Flower Candle+Incense 16x16cm\",\"Pearl & Shell 42\\\"Neckl Ivory\",\"Bling Key Ring Stand\",\"Baroque Butterfly Earrings Pink\",\"White Silver Necklace Shell Glass\",\"Candy Spot Tea Cosy\",\"S\\u002f2 Beach Hut Treasure Chests\",\"Capiz Chandelier\",\"Giant Medina Stamped Metal Bowl\",\"Folding Shoe Tidy\",\"Red Rose And Lace C\\u002fCover\",\"Vintage Notebook Beauty Girl\",\"Black Diamond Cluster Earrings\",\"Purple Crystal Drop Earrings\",\"Amber Crystal Drop Earrings\",\"Ubo-Light Triobase Blue\",\"Large Tahiti Beach Bag\",\"Amethyst 3 Bead Drop Earrings\",\"Freshwater Pearl Bracelet Gold\",\"Set 10 Cards World Children 17067\",\"Pink Leaves And Beads Phone Charm\",\"Set 10 Cards Printed Graphic 17219\",\"Glass Bead Hoop Necklace Black\",\"New Baroque B'fly Necklace Pink\",\"New Baroque B'fly Necklace Montana\",\"New Baroque B'fly Necklace Red\",\"Assorted Colour Silk Glasses Case\",\"Hanging Heart Basket\",\"Set 10 Cards Christmas Robin 17095\",\"Ocean Stripe Hammock\",\"Blue Shark Helicopter\",\"Pink Sweetie Necklace\",\"Pink Allium Artificial Flower\",\"Silver 2 Strand Necklace-Leaf Charm\",\"Pink\\u002fWhite Glass Demi Choker\",\"Ruby Glass Cluster Necklace\",\"Set 10 Cards Christmas Holly 17259\",\"Cracked Glaze Necklace Brown\",\"Robot Mug In Display Box\",\"Black Vint Art Dec Crystal Bracelet\",\"Glass Bead Hoop Earrings Montana\",\"Potting Shed Sow 'N' Grow Set\",\"Montana Diamond Cluster Earrings\",\"Blue Gingham Rose Cushion Cover\",\"Red Stone\\u002fCrystal Earrings\",\"Wrap Vintage Doily\",\"Wrap Red Apples\",\"Orange Pendant Triple Shell Necklac\",\"M\\u002fColour Pom-Pom Curtain\",\"Opulent Velvet Set\\u002f3 Candles\",\"Dr Jam's Arouzer Stress Ball\",\"Black Sil't Squ Candle Plate\",\"Purple Fine Bead Necklace W Tassel\",\"Baroque Butterfly Earrings Black\",\"4 Gold Flock Christmas Balls\",\"White Dove Honeycomb Paper Garland\",\"Amber Bertie Mobile Phone Charm\",\"St George Set Of 10 Party Lights\",\"Set 10 Card Christmas Stamps 16963\",\"Brown Vintage Victorian Earrings\",\"New England Mug W Gift Box\",\"Polyester Filler Pad 60x40cm\",\"Purple Leaves And Beads Phone Char\",\"Green Leaves And Beads Phone Charm\",\"Pink Beads+Hand Phone Charm\",\"Gold Cosmetic Bag Pink Star\",\"Light Decoration Battery Operated\",\"Purple Enamel+Glass Hair Comb\",\"Blue Leaves And Beads Phone Charm\",\"White Anemone Artificial Flower\",\"Red Purse With Pink Heart\",\"Purple\\u002fTurq Flowers Handbag\",\"Filigree Diamante Chain\",\"Pink Dolly Hair Clips\",\"3 Birds Canvas Screen\",\"Purple Chunky Glass+Bead Necklace\",\"Laser Cut Multi Strand Necklace\",\"Pack 20 Dolly Pegs\",\"Flag Of St George Car Flag\",\"60 Gold And Silver Fairy Cake Cases\",\"Vintage Blue Tinsel Reel\",\"Wrap Summer Rose Design\",\"Wrap Circus Parade\",\"Blue Polkadot Wrap\",\"Spaceboy Gift Wrap\",\"Jasmine Votive Candle\",\"White Christmas Tree 60cm\",\"Set\\u002f4 2 Tone Egg Shape Mixing Bowls\",\"Black Glass\\u002fShell\\u002fPearl Necklace\",\"Set 10 Cards Hanging Baubles 17080\",\"Set 10 Cards Robin Waterpump 17096\",\"Set 10 Cards Deck The Halls 16960\",\"Country Cottage Doorstop Green\",\"Ocean Scent Candle Jewelled Drawer\",\"Ruby Glass Necklace 42\\\"\",\"Blue\\u002fNat Shell Necklace W Pendant\",\"Blue\\u002fGreen Shell Necklace W Pendant\",\"Fire Polished Glass Neckl Gold\",\"Rose Pendant Triple Shell Necklace\",\"Mummy Mouse Red Gingham Ribbon\",\"Set Of 3 Pink Flying Ducks\",\"Green Pendant Shell Necklace\",\"Orange\\u002fFuschia Stones Necklace\",\"Lily Brooch White\\u002fSilver Colour\",\"Blossom Images Scrap Book Set\",\"Vintage Bead Pink Jewel Stand\",\"Blue New Baroque Flock Candlestick\",\"Cake Stand Lace White\",\"Blue Padded Soft Mobile\",\"Set 10 Cards Swirly Xmas Tree 17104\",\"Large Heart Flowers Hook\",\"Baroque Butterfly Earrings Red\",\"Baroque Butterfly Earrings Montana\",\"Keep Out Girls Door Hanger\",\"Watering Can Single Hook Pistachio\",\"Set 10 Cards Christmas Bauble 16954\",\"Blue Drop Earrings W Bead Cluster\",\"Set 10 Cards 3 Wise Men 17107\",\"Set 10 Cards Triangle Icons 17220\",\"Green Crystal Drop Earrings\",\"Necklace+Bracelet Set Pink Daisy\",\"Pink Feather Christmas Decoration\",\"White Christmas Flock Droplet\",\"Tiny Crystal Bracelet Red\",\"Dolphin Windmill\",\"Gold Cosmetics Bag With Butterfly\",\"Tea Time Breakfast Basket\",\"Set\\u002f6 Ivory Bird T-Light Candles\",\"Acrylic Jewel Snowflake Pink\",\"Scallop Shell Soap Dish\",\"Easter Craft Ivy Wreath With Chick\",\"Pink Polkadot Kids Bag\",\"Set Of Three Vintage Gift Wraps\",\"Blue Crystal Boot Phone Charm\",\"Flower Shop Design Mug\",\"Funky Monkey Mug\",\"Orange Felt Vase + Flowers\",\"Wire Flower T-Light Holder\",\"Pack 4 Flower\\u002fButterfly Patches\",\"Etched Glass Star Tree Decoration\",\"Blackchristmas Tree 30cm\",\"Dusty Pink Christmas Tree 30cm\",\"Pink Crystal Guitar Phone Charm\",\"Wrap I Love London\",\"Wrap Gingham Rose\",\"Wrap English Rose\",\"Hen House W Chick In Nest\",\"Crochet Lilac\\u002fRed Bear Keyring\",\"Set 10 Cards Snowy Robin 17099\"]}],                        {\"template\":{\"data\":{\"histogram2dcontour\":[{\"type\":\"histogram2dcontour\",\"colorbar\":{\"outlinewidth\":0,\"ticks\":\"\"},\"colorscale\":[[0.0,\"#0d0887\"],[0.1111111111111111,\"#46039f\"],[0.2222222222222222,\"#7201a8\"],[0.3333333333333333,\"#9c179e\"],[0.4444444444444444,\"#bd3786\"],[0.5555555555555556,\"#d8576b\"],[0.6666666666666666,\"#ed7953\"],[0.7777777777777778,\"#fb9f3a\"],[0.8888888888888888,\"#fdca26\"],[1.0,\"#f0f921\"]]}],\"choropleth\":[{\"type\":\"choropleth\",\"colorbar\":{\"outlinewidth\":0,\"ticks\":\"\"}}],\"histogram2d\":[{\"type\":\"histogram2d\",\"colorbar\":{\"outlinewidth\":0,\"ticks\":\"\"},\"colorscale\":[[0.0,\"#0d0887\"],[0.1111111111111111,\"#46039f\"],[0.2222222222222222,\"#7201a8\"],[0.3333333333333333,\"#9c179e\"],[0.4444444444444444,\"#bd3786\"],[0.5555555555555556,\"#d8576b\"],[0.6666666666666666,\"#ed7953\"],[0.7777777777777778,\"#fb9f3a\"],[0.8888888888888888,\"#fdca26\"],[1.0,\"#f0f921\"]]}],\"heatmap\":[{\"type\":\"heatmap\",\"colorbar\":{\"outlinewidth\":0,\"ticks\":\"\"},\"colorscale\":[[0.0,\"#0d0887\"],[0.1111111111111111,\"#46039f\"],[0.2222222222222222,\"#7201a8\"],[0.3333333333333333,\"#9c179e\"],[0.4444444444444444,\"#bd3786\"],[0.5555555555555556,\"#d8576b\"],[0.6666666666666666,\"#ed7953\"],[0.7777777777777778,\"#fb9f3a\"],[0.8888888888888888,\"#fdca26\"],[1.0,\"#f0f921\"]]}],\"heatmapgl\":[{\"type\":\"heatmapgl\",\"colorbar\":{\"outlinewidth\":0,\"ticks\":\"\"},\"colorscale\":[[0.0,\"#0d0887\"],[0.1111111111111111,\"#46039f\"],[0.2222222222222222,\"#7201a8\"],[0.3333333333333333,\"#9c179e\"],[0.4444444444444444,\"#bd3786\"],[0.5555555555555556,\"#d8576b\"],[0.6666666666666666,\"#ed7953\"],[0.7777777777777778,\"#fb9f3a\"],[0.8888888888888888,\"#fdca26\"],[1.0,\"#f0f921\"]]}],\"contourcarpet\":[{\"type\":\"contourcarpet\",\"colorbar\":{\"outlinewidth\":0,\"ticks\":\"\"}}],\"contour\":[{\"type\":\"contour\",\"colorbar\":{\"outlinewidth\":0,\"ticks\":\"\"},\"colorscale\":[[0.0,\"#0d0887\"],[0.1111111111111111,\"#46039f\"],[0.2222222222222222,\"#7201a8\"],[0.3333333333333333,\"#9c179e\"],[0.4444444444444444,\"#bd3786\"],[0.5555555555555556,\"#d8576b\"],[0.6666666666666666,\"#ed7953\"],[0.7777777777777778,\"#fb9f3a\"],[0.8888888888888888,\"#fdca26\"],[1.0,\"#f0f921\"]]}],\"surface\":[{\"type\":\"surface\",\"colorbar\":{\"outlinewidth\":0,\"ticks\":\"\"},\"colorscale\":[[0.0,\"#0d0887\"],[0.1111111111111111,\"#46039f\"],[0.2222222222222222,\"#7201a8\"],[0.3333333333333333,\"#9c179e\"],[0.4444444444444444,\"#bd3786\"],[0.5555555555555556,\"#d8576b\"],[0.6666666666666666,\"#ed7953\"],[0.7777777777777778,\"#fb9f3a\"],[0.8888888888888888,\"#fdca26\"],[1.0,\"#f0f921\"]]}],\"mesh3d\":[{\"type\":\"mesh3d\",\"colorbar\":{\"outlinewidth\":0,\"ticks\":\"\"}}],\"scatter\":[{\"fillpattern\":{\"fillmode\":\"overlay\",\"size\":10,\"solidity\":0.2},\"type\":\"scatter\"}],\"parcoords\":[{\"type\":\"parcoords\",\"line\":{\"colorbar\":{\"outlinewidth\":0,\"ticks\":\"\"}}}],\"scatterpolargl\":[{\"type\":\"scatterpolargl\",\"marker\":{\"colorbar\":{\"outlinewidth\":0,\"ticks\":\"\"}}}],\"bar\":[{\"error_x\":{\"color\":\"#2a3f5f\"},\"error_y\":{\"color\":\"#2a3f5f\"},\"marker\":{\"line\":{\"color\":\"#E5ECF6\",\"width\":0.5},\"pattern\":{\"fillmode\":\"overlay\",\"size\":10,\"solidity\":0.2}},\"type\":\"bar\"}],\"scattergeo\":[{\"type\":\"scattergeo\",\"marker\":{\"colorbar\":{\"outlinewidth\":0,\"ticks\":\"\"}}}],\"scatterpolar\":[{\"type\":\"scatterpolar\",\"marker\":{\"colorbar\":{\"outlinewidth\":0,\"ticks\":\"\"}}}],\"histogram\":[{\"marker\":{\"pattern\":{\"fillmode\":\"overlay\",\"size\":10,\"solidity\":0.2}},\"type\":\"histogram\"}],\"scattergl\":[{\"type\":\"scattergl\",\"marker\":{\"colorbar\":{\"outlinewidth\":0,\"ticks\":\"\"}}}],\"scatter3d\":[{\"type\":\"scatter3d\",\"line\":{\"colorbar\":{\"outlinewidth\":0,\"ticks\":\"\"}},\"marker\":{\"colorbar\":{\"outlinewidth\":0,\"ticks\":\"\"}}}],\"scattermapbox\":[{\"type\":\"scattermapbox\",\"marker\":{\"colorbar\":{\"outlinewidth\":0,\"ticks\":\"\"}}}],\"scatterternary\":[{\"type\":\"scatterternary\",\"marker\":{\"colorbar\":{\"outlinewidth\":0,\"ticks\":\"\"}}}],\"scattercarpet\":[{\"type\":\"scattercarpet\",\"marker\":{\"colorbar\":{\"outlinewidth\":0,\"ticks\":\"\"}}}],\"carpet\":[{\"aaxis\":{\"endlinecolor\":\"#2a3f5f\",\"gridcolor\":\"white\",\"linecolor\":\"white\",\"minorgridcolor\":\"white\",\"startlinecolor\":\"#2a3f5f\"},\"baxis\":{\"endlinecolor\":\"#2a3f5f\",\"gridcolor\":\"white\",\"linecolor\":\"white\",\"minorgridcolor\":\"white\",\"startlinecolor\":\"#2a3f5f\"},\"type\":\"carpet\"}],\"table\":[{\"cells\":{\"fill\":{\"color\":\"#EBF0F8\"},\"line\":{\"color\":\"white\"}},\"header\":{\"fill\":{\"color\":\"#C8D4E3\"},\"line\":{\"color\":\"white\"}},\"type\":\"table\"}],\"barpolar\":[{\"marker\":{\"line\":{\"color\":\"#E5ECF6\",\"width\":0.5},\"pattern\":{\"fillmode\":\"overlay\",\"size\":10,\"solidity\":0.2}},\"type\":\"barpolar\"}],\"pie\":[{\"automargin\":true,\"type\":\"pie\"}]},\"layout\":{\"autotypenumbers\":\"strict\",\"colorway\":[\"#636efa\",\"#EF553B\",\"#00cc96\",\"#ab63fa\",\"#FFA15A\",\"#19d3f3\",\"#FF6692\",\"#B6E880\",\"#FF97FF\",\"#FECB52\"],\"font\":{\"color\":\"#2a3f5f\"},\"hovermode\":\"closest\",\"hoverlabel\":{\"align\":\"left\"},\"paper_bgcolor\":\"white\",\"plot_bgcolor\":\"#E5ECF6\",\"polar\":{\"bgcolor\":\"#E5ECF6\",\"angularaxis\":{\"gridcolor\":\"white\",\"linecolor\":\"white\",\"ticks\":\"\"},\"radialaxis\":{\"gridcolor\":\"white\",\"linecolor\":\"white\",\"ticks\":\"\"}},\"ternary\":{\"bgcolor\":\"#E5ECF6\",\"aaxis\":{\"gridcolor\":\"white\",\"linecolor\":\"white\",\"ticks\":\"\"},\"baxis\":{\"gridcolor\":\"white\",\"linecolor\":\"white\",\"ticks\":\"\"},\"caxis\":{\"gridcolor\":\"white\",\"linecolor\":\"white\",\"ticks\":\"\"}},\"coloraxis\":{\"colorbar\":{\"outlinewidth\":0,\"ticks\":\"\"}},\"colorscale\":{\"sequential\":[[0.0,\"#0d0887\"],[0.1111111111111111,\"#46039f\"],[0.2222222222222222,\"#7201a8\"],[0.3333333333333333,\"#9c179e\"],[0.4444444444444444,\"#bd3786\"],[0.5555555555555556,\"#d8576b\"],[0.6666666666666666,\"#ed7953\"],[0.7777777777777778,\"#fb9f3a\"],[0.8888888888888888,\"#fdca26\"],[1.0,\"#f0f921\"]],\"sequentialminus\":[[0.0,\"#0d0887\"],[0.1111111111111111,\"#46039f\"],[0.2222222222222222,\"#7201a8\"],[0.3333333333333333,\"#9c179e\"],[0.4444444444444444,\"#bd3786\"],[0.5555555555555556,\"#d8576b\"],[0.6666666666666666,\"#ed7953\"],[0.7777777777777778,\"#fb9f3a\"],[0.8888888888888888,\"#fdca26\"],[1.0,\"#f0f921\"]],\"diverging\":[[0,\"#8e0152\"],[0.1,\"#c51b7d\"],[0.2,\"#de77ae\"],[0.3,\"#f1b6da\"],[0.4,\"#fde0ef\"],[0.5,\"#f7f7f7\"],[0.6,\"#e6f5d0\"],[0.7,\"#b8e186\"],[0.8,\"#7fbc41\"],[0.9,\"#4d9221\"],[1,\"#276419\"]]},\"xaxis\":{\"gridcolor\":\"white\",\"linecolor\":\"white\",\"ticks\":\"\",\"title\":{\"standoff\":15},\"zerolinecolor\":\"white\",\"automargin\":true,\"zerolinewidth\":2},\"yaxis\":{\"gridcolor\":\"white\",\"linecolor\":\"white\",\"ticks\":\"\",\"title\":{\"standoff\":15},\"zerolinecolor\":\"white\",\"automargin\":true,\"zerolinewidth\":2},\"scene\":{\"xaxis\":{\"backgroundcolor\":\"#E5ECF6\",\"gridcolor\":\"white\",\"linecolor\":\"white\",\"showbackground\":true,\"ticks\":\"\",\"zerolinecolor\":\"white\",\"gridwidth\":2},\"yaxis\":{\"backgroundcolor\":\"#E5ECF6\",\"gridcolor\":\"white\",\"linecolor\":\"white\",\"showbackground\":true,\"ticks\":\"\",\"zerolinecolor\":\"white\",\"gridwidth\":2},\"zaxis\":{\"backgroundcolor\":\"#E5ECF6\",\"gridcolor\":\"white\",\"linecolor\":\"white\",\"showbackground\":true,\"ticks\":\"\",\"zerolinecolor\":\"white\",\"gridwidth\":2}},\"shapedefaults\":{\"line\":{\"color\":\"#2a3f5f\"}},\"annotationdefaults\":{\"arrowcolor\":\"#2a3f5f\",\"arrowhead\":0,\"arrowwidth\":1},\"geo\":{\"bgcolor\":\"white\",\"landcolor\":\"#E5ECF6\",\"subunitcolor\":\"white\",\"showland\":true,\"showlakes\":true,\"lakecolor\":\"white\"},\"title\":{\"x\":0.05},\"mapbox\":{\"style\":\"light\"}}},\"xaxis\":{\"anchor\":\"y\",\"domain\":[0.0,1.0],\"title\":{\"text\":\"ProductName\"},\"tickangle\":45},\"yaxis\":{\"anchor\":\"x\",\"domain\":[0.0,1.0],\"title\":{\"text\":\"Revenue\"}},\"legend\":{\"tracegroupgap\":0},\"title\":{\"text\":\"Top 10 Revenue Generating Products\"},\"barmode\":\"relative\"},                        {\"responsive\": true}                    ).then(function(){\n",
       "                            \n",
       "var gd = document.getElementById('ac3ff29f-c328-4fd0-b796-7dbafade8e30');\n",
       "var x = new MutationObserver(function (mutations, observer) {{\n",
       "        var display = window.getComputedStyle(gd).display;\n",
       "        if (!display || display === 'none') {{\n",
       "            console.log([gd, 'removed!']);\n",
       "            Plotly.purge(gd);\n",
       "            observer.disconnect();\n",
       "        }}\n",
       "}});\n",
       "\n",
       "// Listen for the removal of the full notebook cells\n",
       "var notebookContainer = gd.closest('#notebook-container');\n",
       "if (notebookContainer) {{\n",
       "    x.observe(notebookContainer, {childList: true});\n",
       "}}\n",
       "\n",
       "// Listen for the clearing of the current output cell\n",
       "var outputEl = gd.closest('.output');\n",
       "if (outputEl) {{\n",
       "    x.observe(outputEl, {childList: true});\n",
       "}}\n",
       "\n",
       "                        })                };                });            </script>        </div>"
      ]
     },
     "metadata": {},
     "output_type": "display_data"
    }
   ],
   "source": [
    "fig = px.bar(toprevenueprod.head(10), x='ProductName', y='Revenue', title='Top 10 Revenue Generating Products')\n",
    "fig.update_layout(xaxis_tickangle=45)\n",
    "fig.update_traces(hoverinfo='y+text', hovertext=toprevenueprod['ProductName'])\n",
    "fig.show()\n"
   ]
  },
  {
   "cell_type": "code",
   "execution_count": 33,
   "id": "a14086aa",
   "metadata": {
    "execution": {
     "iopub.execute_input": "2023-11-02T20:17:18.349607Z",
     "iopub.status.busy": "2023-11-02T20:17:18.349226Z",
     "iopub.status.idle": "2023-11-02T20:17:25.458312Z",
     "shell.execute_reply": "2023-11-02T20:17:25.457480Z"
    },
    "papermill": {
     "duration": 7.141896,
     "end_time": "2023-11-02T20:17:25.460821",
     "exception": false,
     "start_time": "2023-11-02T20:17:18.318925",
     "status": "completed"
    },
    "tags": []
   },
   "outputs": [
    {
     "data": {
      "text/html": [
       "<div>\n",
       "<style scoped>\n",
       "    .dataframe tbody tr th:only-of-type {\n",
       "        vertical-align: middle;\n",
       "    }\n",
       "\n",
       "    .dataframe tbody tr th {\n",
       "        vertical-align: top;\n",
       "    }\n",
       "\n",
       "    .dataframe thead th {\n",
       "        text-align: right;\n",
       "    }\n",
       "</style>\n",
       "<table border=\"1\" class=\"dataframe\">\n",
       "  <thead>\n",
       "    <tr style=\"text-align: right;\">\n",
       "      <th></th>\n",
       "      <th>TransactionNo</th>\n",
       "      <th>Date</th>\n",
       "      <th>ProductNo</th>\n",
       "      <th>ProductName</th>\n",
       "      <th>Price</th>\n",
       "      <th>Quantity</th>\n",
       "      <th>CustomerNo</th>\n",
       "      <th>Country</th>\n",
       "      <th>Revenue</th>\n",
       "      <th>Month-Year</th>\n",
       "      <th>Month</th>\n",
       "      <th>Year</th>\n",
       "      <th>Day</th>\n",
       "      <th>Date of month</th>\n",
       "    </tr>\n",
       "  </thead>\n",
       "  <tbody>\n",
       "    <tr>\n",
       "      <th>0</th>\n",
       "      <td>581482</td>\n",
       "      <td>2019-12-09</td>\n",
       "      <td>22485</td>\n",
       "      <td>Set Of 2 Wooden Market Crates</td>\n",
       "      <td>21.47</td>\n",
       "      <td>12</td>\n",
       "      <td>17490.0</td>\n",
       "      <td>United Kingdom</td>\n",
       "      <td>257.64</td>\n",
       "      <td>2019-12-01</td>\n",
       "      <td>December</td>\n",
       "      <td>2019</td>\n",
       "      <td>Monday</td>\n",
       "      <td>09</td>\n",
       "    </tr>\n",
       "    <tr>\n",
       "      <th>2</th>\n",
       "      <td>581475</td>\n",
       "      <td>2019-12-09</td>\n",
       "      <td>23235</td>\n",
       "      <td>Storage Tin Vintage Leaf</td>\n",
       "      <td>11.53</td>\n",
       "      <td>12</td>\n",
       "      <td>13069.0</td>\n",
       "      <td>United Kingdom</td>\n",
       "      <td>138.36</td>\n",
       "      <td>2019-12-01</td>\n",
       "      <td>December</td>\n",
       "      <td>2019</td>\n",
       "      <td>Monday</td>\n",
       "      <td>09</td>\n",
       "    </tr>\n",
       "    <tr>\n",
       "      <th>3</th>\n",
       "      <td>581475</td>\n",
       "      <td>2019-12-09</td>\n",
       "      <td>23272</td>\n",
       "      <td>Tree T-Light Holder Willie Winkie</td>\n",
       "      <td>10.65</td>\n",
       "      <td>12</td>\n",
       "      <td>13069.0</td>\n",
       "      <td>United Kingdom</td>\n",
       "      <td>127.80</td>\n",
       "      <td>2019-12-01</td>\n",
       "      <td>December</td>\n",
       "      <td>2019</td>\n",
       "      <td>Monday</td>\n",
       "      <td>09</td>\n",
       "    </tr>\n",
       "    <tr>\n",
       "      <th>4</th>\n",
       "      <td>581475</td>\n",
       "      <td>2019-12-09</td>\n",
       "      <td>23239</td>\n",
       "      <td>Set Of 4 Knick Knack Tins Poppies</td>\n",
       "      <td>11.94</td>\n",
       "      <td>6</td>\n",
       "      <td>13069.0</td>\n",
       "      <td>United Kingdom</td>\n",
       "      <td>71.64</td>\n",
       "      <td>2019-12-01</td>\n",
       "      <td>December</td>\n",
       "      <td>2019</td>\n",
       "      <td>Monday</td>\n",
       "      <td>09</td>\n",
       "    </tr>\n",
       "    <tr>\n",
       "      <th>6</th>\n",
       "      <td>581475</td>\n",
       "      <td>2019-12-09</td>\n",
       "      <td>22118</td>\n",
       "      <td>Joy Wooden Block Letters</td>\n",
       "      <td>11.53</td>\n",
       "      <td>18</td>\n",
       "      <td>13069.0</td>\n",
       "      <td>United Kingdom</td>\n",
       "      <td>207.54</td>\n",
       "      <td>2019-12-01</td>\n",
       "      <td>December</td>\n",
       "      <td>2019</td>\n",
       "      <td>Monday</td>\n",
       "      <td>09</td>\n",
       "    </tr>\n",
       "  </tbody>\n",
       "</table>\n",
       "</div>"
      ],
      "text/plain": [
       "  TransactionNo       Date ProductNo                        ProductName  \\\n",
       "0        581482 2019-12-09     22485      Set Of 2 Wooden Market Crates   \n",
       "2        581475 2019-12-09     23235           Storage Tin Vintage Leaf   \n",
       "3        581475 2019-12-09     23272  Tree T-Light Holder Willie Winkie   \n",
       "4        581475 2019-12-09     23239  Set Of 4 Knick Knack Tins Poppies   \n",
       "6        581475 2019-12-09     22118           Joy Wooden Block Letters   \n",
       "\n",
       "   Price  Quantity  CustomerNo         Country  Revenue Month-Year     Month  \\\n",
       "0  21.47        12     17490.0  United Kingdom   257.64 2019-12-01  December   \n",
       "2  11.53        12     13069.0  United Kingdom   138.36 2019-12-01  December   \n",
       "3  10.65        12     13069.0  United Kingdom   127.80 2019-12-01  December   \n",
       "4  11.94         6     13069.0  United Kingdom    71.64 2019-12-01  December   \n",
       "6  11.53        18     13069.0  United Kingdom   207.54 2019-12-01  December   \n",
       "\n",
       "   Year     Day Date of month  \n",
       "0  2019  Monday            09  \n",
       "2  2019  Monday            09  \n",
       "3  2019  Monday            09  \n",
       "4  2019  Monday            09  \n",
       "6  2019  Monday            09  "
      ]
     },
     "execution_count": 33,
     "metadata": {},
     "output_type": "execute_result"
    }
   ],
   "source": [
    "# Trying to understand the sales trends by day of the week\n",
    "\n",
    "df['Day'] = df['Date'].dt.strftime('%A')\n",
    "\n",
    "# Creating a separate column for date of the month.\n",
    "df['Date of month'] = df['Date'].dt.strftime('%d')\n",
    "df.head()"
   ]
  },
  {
   "cell_type": "code",
   "execution_count": 34,
   "id": "2be2319c",
   "metadata": {
    "execution": {
     "iopub.execute_input": "2023-11-02T20:17:25.520929Z",
     "iopub.status.busy": "2023-11-02T20:17:25.519879Z",
     "iopub.status.idle": "2023-11-02T20:17:25.642629Z",
     "shell.execute_reply": "2023-11-02T20:17:25.641493Z"
    },
    "papermill": {
     "duration": 0.155878,
     "end_time": "2023-11-02T20:17:25.645439",
     "exception": false,
     "start_time": "2023-11-02T20:17:25.489561",
     "status": "completed"
    },
    "tags": []
   },
   "outputs": [
    {
     "data": {
      "text/html": [
       "<div>                            <div id=\"c26f554c-2f9e-4e5b-954c-0c2321af8b01\" class=\"plotly-graph-div\" style=\"height:525px; width:100%;\"></div>            <script type=\"text/javascript\">                require([\"plotly\"], function(Plotly) {                    window.PLOTLYENV=window.PLOTLYENV || {};                                    if (document.getElementById(\"c26f554c-2f9e-4e5b-954c-0c2321af8b01\")) {                    Plotly.newPlot(                        \"c26f554c-2f9e-4e5b-954c-0c2321af8b01\",                        [{\"alignmentgroup\":\"True\",\"hovertemplate\":\"Day=%{x}\\u003cbr\\u003eRevenue=%{y}\\u003cextra\\u003e\\u003c\\u002fextra\\u003e\",\"legendgroup\":\"\",\"marker\":{\"color\":\"#636efa\",\"pattern\":{\"shape\":\"\"}},\"name\":\"\",\"offsetgroup\":\"\",\"orientation\":\"v\",\"showlegend\":false,\"textposition\":\"auto\",\"x\":[\"Sunday\",\"Monday\",\"Tuesday\",\"Wednesday\",\"Thursday\",\"Friday\",\"Saturday\"],\"xaxis\":\"x\",\"y\":[4582160.69,3482202.25,null,2662613.2399999998,3863869.43,4260949.15,4000049.66],\"yaxis\":\"y\",\"type\":\"bar\",\"hoverinfo\":\"y+text\",\"hovertext\":[\"Sunday\",\"Monday\",\"Tuesday\",\"Wednesday\",\"Thursday\",\"Friday\",\"Saturday\"]}],                        {\"template\":{\"data\":{\"histogram2dcontour\":[{\"type\":\"histogram2dcontour\",\"colorbar\":{\"outlinewidth\":0,\"ticks\":\"\"},\"colorscale\":[[0.0,\"#0d0887\"],[0.1111111111111111,\"#46039f\"],[0.2222222222222222,\"#7201a8\"],[0.3333333333333333,\"#9c179e\"],[0.4444444444444444,\"#bd3786\"],[0.5555555555555556,\"#d8576b\"],[0.6666666666666666,\"#ed7953\"],[0.7777777777777778,\"#fb9f3a\"],[0.8888888888888888,\"#fdca26\"],[1.0,\"#f0f921\"]]}],\"choropleth\":[{\"type\":\"choropleth\",\"colorbar\":{\"outlinewidth\":0,\"ticks\":\"\"}}],\"histogram2d\":[{\"type\":\"histogram2d\",\"colorbar\":{\"outlinewidth\":0,\"ticks\":\"\"},\"colorscale\":[[0.0,\"#0d0887\"],[0.1111111111111111,\"#46039f\"],[0.2222222222222222,\"#7201a8\"],[0.3333333333333333,\"#9c179e\"],[0.4444444444444444,\"#bd3786\"],[0.5555555555555556,\"#d8576b\"],[0.6666666666666666,\"#ed7953\"],[0.7777777777777778,\"#fb9f3a\"],[0.8888888888888888,\"#fdca26\"],[1.0,\"#f0f921\"]]}],\"heatmap\":[{\"type\":\"heatmap\",\"colorbar\":{\"outlinewidth\":0,\"ticks\":\"\"},\"colorscale\":[[0.0,\"#0d0887\"],[0.1111111111111111,\"#46039f\"],[0.2222222222222222,\"#7201a8\"],[0.3333333333333333,\"#9c179e\"],[0.4444444444444444,\"#bd3786\"],[0.5555555555555556,\"#d8576b\"],[0.6666666666666666,\"#ed7953\"],[0.7777777777777778,\"#fb9f3a\"],[0.8888888888888888,\"#fdca26\"],[1.0,\"#f0f921\"]]}],\"heatmapgl\":[{\"type\":\"heatmapgl\",\"colorbar\":{\"outlinewidth\":0,\"ticks\":\"\"},\"colorscale\":[[0.0,\"#0d0887\"],[0.1111111111111111,\"#46039f\"],[0.2222222222222222,\"#7201a8\"],[0.3333333333333333,\"#9c179e\"],[0.4444444444444444,\"#bd3786\"],[0.5555555555555556,\"#d8576b\"],[0.6666666666666666,\"#ed7953\"],[0.7777777777777778,\"#fb9f3a\"],[0.8888888888888888,\"#fdca26\"],[1.0,\"#f0f921\"]]}],\"contourcarpet\":[{\"type\":\"contourcarpet\",\"colorbar\":{\"outlinewidth\":0,\"ticks\":\"\"}}],\"contour\":[{\"type\":\"contour\",\"colorbar\":{\"outlinewidth\":0,\"ticks\":\"\"},\"colorscale\":[[0.0,\"#0d0887\"],[0.1111111111111111,\"#46039f\"],[0.2222222222222222,\"#7201a8\"],[0.3333333333333333,\"#9c179e\"],[0.4444444444444444,\"#bd3786\"],[0.5555555555555556,\"#d8576b\"],[0.6666666666666666,\"#ed7953\"],[0.7777777777777778,\"#fb9f3a\"],[0.8888888888888888,\"#fdca26\"],[1.0,\"#f0f921\"]]}],\"surface\":[{\"type\":\"surface\",\"colorbar\":{\"outlinewidth\":0,\"ticks\":\"\"},\"colorscale\":[[0.0,\"#0d0887\"],[0.1111111111111111,\"#46039f\"],[0.2222222222222222,\"#7201a8\"],[0.3333333333333333,\"#9c179e\"],[0.4444444444444444,\"#bd3786\"],[0.5555555555555556,\"#d8576b\"],[0.6666666666666666,\"#ed7953\"],[0.7777777777777778,\"#fb9f3a\"],[0.8888888888888888,\"#fdca26\"],[1.0,\"#f0f921\"]]}],\"mesh3d\":[{\"type\":\"mesh3d\",\"colorbar\":{\"outlinewidth\":0,\"ticks\":\"\"}}],\"scatter\":[{\"fillpattern\":{\"fillmode\":\"overlay\",\"size\":10,\"solidity\":0.2},\"type\":\"scatter\"}],\"parcoords\":[{\"type\":\"parcoords\",\"line\":{\"colorbar\":{\"outlinewidth\":0,\"ticks\":\"\"}}}],\"scatterpolargl\":[{\"type\":\"scatterpolargl\",\"marker\":{\"colorbar\":{\"outlinewidth\":0,\"ticks\":\"\"}}}],\"bar\":[{\"error_x\":{\"color\":\"#2a3f5f\"},\"error_y\":{\"color\":\"#2a3f5f\"},\"marker\":{\"line\":{\"color\":\"#E5ECF6\",\"width\":0.5},\"pattern\":{\"fillmode\":\"overlay\",\"size\":10,\"solidity\":0.2}},\"type\":\"bar\"}],\"scattergeo\":[{\"type\":\"scattergeo\",\"marker\":{\"colorbar\":{\"outlinewidth\":0,\"ticks\":\"\"}}}],\"scatterpolar\":[{\"type\":\"scatterpolar\",\"marker\":{\"colorbar\":{\"outlinewidth\":0,\"ticks\":\"\"}}}],\"histogram\":[{\"marker\":{\"pattern\":{\"fillmode\":\"overlay\",\"size\":10,\"solidity\":0.2}},\"type\":\"histogram\"}],\"scattergl\":[{\"type\":\"scattergl\",\"marker\":{\"colorbar\":{\"outlinewidth\":0,\"ticks\":\"\"}}}],\"scatter3d\":[{\"type\":\"scatter3d\",\"line\":{\"colorbar\":{\"outlinewidth\":0,\"ticks\":\"\"}},\"marker\":{\"colorbar\":{\"outlinewidth\":0,\"ticks\":\"\"}}}],\"scattermapbox\":[{\"type\":\"scattermapbox\",\"marker\":{\"colorbar\":{\"outlinewidth\":0,\"ticks\":\"\"}}}],\"scatterternary\":[{\"type\":\"scatterternary\",\"marker\":{\"colorbar\":{\"outlinewidth\":0,\"ticks\":\"\"}}}],\"scattercarpet\":[{\"type\":\"scattercarpet\",\"marker\":{\"colorbar\":{\"outlinewidth\":0,\"ticks\":\"\"}}}],\"carpet\":[{\"aaxis\":{\"endlinecolor\":\"#2a3f5f\",\"gridcolor\":\"white\",\"linecolor\":\"white\",\"minorgridcolor\":\"white\",\"startlinecolor\":\"#2a3f5f\"},\"baxis\":{\"endlinecolor\":\"#2a3f5f\",\"gridcolor\":\"white\",\"linecolor\":\"white\",\"minorgridcolor\":\"white\",\"startlinecolor\":\"#2a3f5f\"},\"type\":\"carpet\"}],\"table\":[{\"cells\":{\"fill\":{\"color\":\"#EBF0F8\"},\"line\":{\"color\":\"white\"}},\"header\":{\"fill\":{\"color\":\"#C8D4E3\"},\"line\":{\"color\":\"white\"}},\"type\":\"table\"}],\"barpolar\":[{\"marker\":{\"line\":{\"color\":\"#E5ECF6\",\"width\":0.5},\"pattern\":{\"fillmode\":\"overlay\",\"size\":10,\"solidity\":0.2}},\"type\":\"barpolar\"}],\"pie\":[{\"automargin\":true,\"type\":\"pie\"}]},\"layout\":{\"autotypenumbers\":\"strict\",\"colorway\":[\"#636efa\",\"#EF553B\",\"#00cc96\",\"#ab63fa\",\"#FFA15A\",\"#19d3f3\",\"#FF6692\",\"#B6E880\",\"#FF97FF\",\"#FECB52\"],\"font\":{\"color\":\"#2a3f5f\"},\"hovermode\":\"closest\",\"hoverlabel\":{\"align\":\"left\"},\"paper_bgcolor\":\"white\",\"plot_bgcolor\":\"#E5ECF6\",\"polar\":{\"bgcolor\":\"#E5ECF6\",\"angularaxis\":{\"gridcolor\":\"white\",\"linecolor\":\"white\",\"ticks\":\"\"},\"radialaxis\":{\"gridcolor\":\"white\",\"linecolor\":\"white\",\"ticks\":\"\"}},\"ternary\":{\"bgcolor\":\"#E5ECF6\",\"aaxis\":{\"gridcolor\":\"white\",\"linecolor\":\"white\",\"ticks\":\"\"},\"baxis\":{\"gridcolor\":\"white\",\"linecolor\":\"white\",\"ticks\":\"\"},\"caxis\":{\"gridcolor\":\"white\",\"linecolor\":\"white\",\"ticks\":\"\"}},\"coloraxis\":{\"colorbar\":{\"outlinewidth\":0,\"ticks\":\"\"}},\"colorscale\":{\"sequential\":[[0.0,\"#0d0887\"],[0.1111111111111111,\"#46039f\"],[0.2222222222222222,\"#7201a8\"],[0.3333333333333333,\"#9c179e\"],[0.4444444444444444,\"#bd3786\"],[0.5555555555555556,\"#d8576b\"],[0.6666666666666666,\"#ed7953\"],[0.7777777777777778,\"#fb9f3a\"],[0.8888888888888888,\"#fdca26\"],[1.0,\"#f0f921\"]],\"sequentialminus\":[[0.0,\"#0d0887\"],[0.1111111111111111,\"#46039f\"],[0.2222222222222222,\"#7201a8\"],[0.3333333333333333,\"#9c179e\"],[0.4444444444444444,\"#bd3786\"],[0.5555555555555556,\"#d8576b\"],[0.6666666666666666,\"#ed7953\"],[0.7777777777777778,\"#fb9f3a\"],[0.8888888888888888,\"#fdca26\"],[1.0,\"#f0f921\"]],\"diverging\":[[0,\"#8e0152\"],[0.1,\"#c51b7d\"],[0.2,\"#de77ae\"],[0.3,\"#f1b6da\"],[0.4,\"#fde0ef\"],[0.5,\"#f7f7f7\"],[0.6,\"#e6f5d0\"],[0.7,\"#b8e186\"],[0.8,\"#7fbc41\"],[0.9,\"#4d9221\"],[1,\"#276419\"]]},\"xaxis\":{\"gridcolor\":\"white\",\"linecolor\":\"white\",\"ticks\":\"\",\"title\":{\"standoff\":15},\"zerolinecolor\":\"white\",\"automargin\":true,\"zerolinewidth\":2},\"yaxis\":{\"gridcolor\":\"white\",\"linecolor\":\"white\",\"ticks\":\"\",\"title\":{\"standoff\":15},\"zerolinecolor\":\"white\",\"automargin\":true,\"zerolinewidth\":2},\"scene\":{\"xaxis\":{\"backgroundcolor\":\"#E5ECF6\",\"gridcolor\":\"white\",\"linecolor\":\"white\",\"showbackground\":true,\"ticks\":\"\",\"zerolinecolor\":\"white\",\"gridwidth\":2},\"yaxis\":{\"backgroundcolor\":\"#E5ECF6\",\"gridcolor\":\"white\",\"linecolor\":\"white\",\"showbackground\":true,\"ticks\":\"\",\"zerolinecolor\":\"white\",\"gridwidth\":2},\"zaxis\":{\"backgroundcolor\":\"#E5ECF6\",\"gridcolor\":\"white\",\"linecolor\":\"white\",\"showbackground\":true,\"ticks\":\"\",\"zerolinecolor\":\"white\",\"gridwidth\":2}},\"shapedefaults\":{\"line\":{\"color\":\"#2a3f5f\"}},\"annotationdefaults\":{\"arrowcolor\":\"#2a3f5f\",\"arrowhead\":0,\"arrowwidth\":1},\"geo\":{\"bgcolor\":\"white\",\"landcolor\":\"#E5ECF6\",\"subunitcolor\":\"white\",\"showland\":true,\"showlakes\":true,\"lakecolor\":\"white\"},\"title\":{\"x\":0.05},\"mapbox\":{\"style\":\"light\"}}},\"xaxis\":{\"anchor\":\"y\",\"domain\":[0.0,1.0],\"title\":{\"text\":\"Day\"},\"tickangle\":45},\"yaxis\":{\"anchor\":\"x\",\"domain\":[0.0,1.0],\"title\":{\"text\":\"Revenue\"}},\"legend\":{\"tracegroupgap\":0},\"title\":{\"text\":\"Revenue Sum by Day of the Week\"},\"barmode\":\"relative\"},                        {\"responsive\": true}                    ).then(function(){\n",
       "                            \n",
       "var gd = document.getElementById('c26f554c-2f9e-4e5b-954c-0c2321af8b01');\n",
       "var x = new MutationObserver(function (mutations, observer) {{\n",
       "        var display = window.getComputedStyle(gd).display;\n",
       "        if (!display || display === 'none') {{\n",
       "            console.log([gd, 'removed!']);\n",
       "            Plotly.purge(gd);\n",
       "            observer.disconnect();\n",
       "        }}\n",
       "}});\n",
       "\n",
       "// Listen for the removal of the full notebook cells\n",
       "var notebookContainer = gd.closest('#notebook-container');\n",
       "if (notebookContainer) {{\n",
       "    x.observe(notebookContainer, {childList: true});\n",
       "}}\n",
       "\n",
       "// Listen for the clearing of the current output cell\n",
       "var outputEl = gd.closest('.output');\n",
       "if (outputEl) {{\n",
       "    x.observe(outputEl, {childList: true});\n",
       "}}\n",
       "\n",
       "                        })                };                });            </script>        </div>"
      ]
     },
     "metadata": {},
     "output_type": "display_data"
    }
   ],
   "source": [
    "revenue_by_day = df.groupby('Day')['Revenue'].sum()\n",
    "days_of_week = ['Sunday', 'Monday', 'Tuesday', 'Wednesday', 'Thursday', 'Friday', 'Saturday']\n",
    "revenue_by_day = revenue_by_day.reindex(days_of_week)\n",
    "\n",
    "\n",
    "fig = px.bar(revenue_by_day, x=revenue_by_day.index, y='Revenue', title='Revenue Sum by Day of the Week')\n",
    "fig.update_layout(xaxis_tickangle=45)\n",
    "fig.update_traces(hoverinfo='y+text', hovertext=revenue_by_day.index)\n"
   ]
  },
  {
   "cell_type": "markdown",
   "id": "8e2da538",
   "metadata": {
    "papermill": {
     "duration": 0.029732,
     "end_time": "2023-11-02T20:17:25.705387",
     "exception": false,
     "start_time": "2023-11-02T20:17:25.675655",
     "status": "completed"
    },
    "tags": []
   },
   "source": [
    "## Intrestingly there is no data on sales happening on Tuesday"
   ]
  },
  {
   "cell_type": "code",
   "execution_count": 35,
   "id": "02b9fbf6",
   "metadata": {
    "execution": {
     "iopub.execute_input": "2023-11-02T20:17:25.765013Z",
     "iopub.status.busy": "2023-11-02T20:17:25.764575Z",
     "iopub.status.idle": "2023-11-02T20:17:25.919588Z",
     "shell.execute_reply": "2023-11-02T20:17:25.918216Z"
    },
    "papermill": {
     "duration": 0.187982,
     "end_time": "2023-11-02T20:17:25.922270",
     "exception": false,
     "start_time": "2023-11-02T20:17:25.734288",
     "status": "completed"
    },
    "tags": []
   },
   "outputs": [
    {
     "data": {
      "text/html": [
       "<div>                            <div id=\"40f5bc00-e01a-475e-be07-940c17a3c551\" class=\"plotly-graph-div\" style=\"height:525px; width:100%;\"></div>            <script type=\"text/javascript\">                require([\"plotly\"], function(Plotly) {                    window.PLOTLYENV=window.PLOTLYENV || {};                                    if (document.getElementById(\"40f5bc00-e01a-475e-be07-940c17a3c551\")) {                    Plotly.newPlot(                        \"40f5bc00-e01a-475e-be07-940c17a3c551\",                        [{\"hovertemplate\":\"Date of month=%{x}\\u003cbr\\u003eRevenue=%{y}\\u003cextra\\u003e\\u003c\\u002fextra\\u003e\",\"legendgroup\":\"\",\"line\":{\"color\":\"#636efa\",\"dash\":\"solid\"},\"marker\":{\"symbol\":\"circle\"},\"mode\":\"lines\",\"name\":\"\",\"orientation\":\"v\",\"showlegend\":false,\"x\":[\"01\",\"02\",\"03\",\"04\",\"05\",\"06\",\"07\",\"08\",\"09\",\"10\",\"11\",\"12\",\"13\",\"14\",\"15\",\"16\",\"17\",\"18\",\"19\",\"20\",\"21\",\"22\",\"23\",\"24\",\"25\",\"26\",\"27\",\"28\",\"29\",\"30\",\"31\"],\"xaxis\":\"x\",\"y\":[709200.82,698237.89,650470.3099999999,838480.1,810243.14,986859.8099999999,920943.34,973964.44,788320.16,861020.38,866942.64,647852.62,813061.84,793664.15,705713.07,799511.0,929839.97,728587.1,588918.94,820782.4,809128.38,741092.26,712793.72,671052.43,687744.82,497161.82,634919.09,679788.89,480519.26,584951.51,420078.12],\"yaxis\":\"y\",\"type\":\"scatter\"}],                        {\"template\":{\"data\":{\"histogram2dcontour\":[{\"type\":\"histogram2dcontour\",\"colorbar\":{\"outlinewidth\":0,\"ticks\":\"\"},\"colorscale\":[[0.0,\"#0d0887\"],[0.1111111111111111,\"#46039f\"],[0.2222222222222222,\"#7201a8\"],[0.3333333333333333,\"#9c179e\"],[0.4444444444444444,\"#bd3786\"],[0.5555555555555556,\"#d8576b\"],[0.6666666666666666,\"#ed7953\"],[0.7777777777777778,\"#fb9f3a\"],[0.8888888888888888,\"#fdca26\"],[1.0,\"#f0f921\"]]}],\"choropleth\":[{\"type\":\"choropleth\",\"colorbar\":{\"outlinewidth\":0,\"ticks\":\"\"}}],\"histogram2d\":[{\"type\":\"histogram2d\",\"colorbar\":{\"outlinewidth\":0,\"ticks\":\"\"},\"colorscale\":[[0.0,\"#0d0887\"],[0.1111111111111111,\"#46039f\"],[0.2222222222222222,\"#7201a8\"],[0.3333333333333333,\"#9c179e\"],[0.4444444444444444,\"#bd3786\"],[0.5555555555555556,\"#d8576b\"],[0.6666666666666666,\"#ed7953\"],[0.7777777777777778,\"#fb9f3a\"],[0.8888888888888888,\"#fdca26\"],[1.0,\"#f0f921\"]]}],\"heatmap\":[{\"type\":\"heatmap\",\"colorbar\":{\"outlinewidth\":0,\"ticks\":\"\"},\"colorscale\":[[0.0,\"#0d0887\"],[0.1111111111111111,\"#46039f\"],[0.2222222222222222,\"#7201a8\"],[0.3333333333333333,\"#9c179e\"],[0.4444444444444444,\"#bd3786\"],[0.5555555555555556,\"#d8576b\"],[0.6666666666666666,\"#ed7953\"],[0.7777777777777778,\"#fb9f3a\"],[0.8888888888888888,\"#fdca26\"],[1.0,\"#f0f921\"]]}],\"heatmapgl\":[{\"type\":\"heatmapgl\",\"colorbar\":{\"outlinewidth\":0,\"ticks\":\"\"},\"colorscale\":[[0.0,\"#0d0887\"],[0.1111111111111111,\"#46039f\"],[0.2222222222222222,\"#7201a8\"],[0.3333333333333333,\"#9c179e\"],[0.4444444444444444,\"#bd3786\"],[0.5555555555555556,\"#d8576b\"],[0.6666666666666666,\"#ed7953\"],[0.7777777777777778,\"#fb9f3a\"],[0.8888888888888888,\"#fdca26\"],[1.0,\"#f0f921\"]]}],\"contourcarpet\":[{\"type\":\"contourcarpet\",\"colorbar\":{\"outlinewidth\":0,\"ticks\":\"\"}}],\"contour\":[{\"type\":\"contour\",\"colorbar\":{\"outlinewidth\":0,\"ticks\":\"\"},\"colorscale\":[[0.0,\"#0d0887\"],[0.1111111111111111,\"#46039f\"],[0.2222222222222222,\"#7201a8\"],[0.3333333333333333,\"#9c179e\"],[0.4444444444444444,\"#bd3786\"],[0.5555555555555556,\"#d8576b\"],[0.6666666666666666,\"#ed7953\"],[0.7777777777777778,\"#fb9f3a\"],[0.8888888888888888,\"#fdca26\"],[1.0,\"#f0f921\"]]}],\"surface\":[{\"type\":\"surface\",\"colorbar\":{\"outlinewidth\":0,\"ticks\":\"\"},\"colorscale\":[[0.0,\"#0d0887\"],[0.1111111111111111,\"#46039f\"],[0.2222222222222222,\"#7201a8\"],[0.3333333333333333,\"#9c179e\"],[0.4444444444444444,\"#bd3786\"],[0.5555555555555556,\"#d8576b\"],[0.6666666666666666,\"#ed7953\"],[0.7777777777777778,\"#fb9f3a\"],[0.8888888888888888,\"#fdca26\"],[1.0,\"#f0f921\"]]}],\"mesh3d\":[{\"type\":\"mesh3d\",\"colorbar\":{\"outlinewidth\":0,\"ticks\":\"\"}}],\"scatter\":[{\"fillpattern\":{\"fillmode\":\"overlay\",\"size\":10,\"solidity\":0.2},\"type\":\"scatter\"}],\"parcoords\":[{\"type\":\"parcoords\",\"line\":{\"colorbar\":{\"outlinewidth\":0,\"ticks\":\"\"}}}],\"scatterpolargl\":[{\"type\":\"scatterpolargl\",\"marker\":{\"colorbar\":{\"outlinewidth\":0,\"ticks\":\"\"}}}],\"bar\":[{\"error_x\":{\"color\":\"#2a3f5f\"},\"error_y\":{\"color\":\"#2a3f5f\"},\"marker\":{\"line\":{\"color\":\"#E5ECF6\",\"width\":0.5},\"pattern\":{\"fillmode\":\"overlay\",\"size\":10,\"solidity\":0.2}},\"type\":\"bar\"}],\"scattergeo\":[{\"type\":\"scattergeo\",\"marker\":{\"colorbar\":{\"outlinewidth\":0,\"ticks\":\"\"}}}],\"scatterpolar\":[{\"type\":\"scatterpolar\",\"marker\":{\"colorbar\":{\"outlinewidth\":0,\"ticks\":\"\"}}}],\"histogram\":[{\"marker\":{\"pattern\":{\"fillmode\":\"overlay\",\"size\":10,\"solidity\":0.2}},\"type\":\"histogram\"}],\"scattergl\":[{\"type\":\"scattergl\",\"marker\":{\"colorbar\":{\"outlinewidth\":0,\"ticks\":\"\"}}}],\"scatter3d\":[{\"type\":\"scatter3d\",\"line\":{\"colorbar\":{\"outlinewidth\":0,\"ticks\":\"\"}},\"marker\":{\"colorbar\":{\"outlinewidth\":0,\"ticks\":\"\"}}}],\"scattermapbox\":[{\"type\":\"scattermapbox\",\"marker\":{\"colorbar\":{\"outlinewidth\":0,\"ticks\":\"\"}}}],\"scatterternary\":[{\"type\":\"scatterternary\",\"marker\":{\"colorbar\":{\"outlinewidth\":0,\"ticks\":\"\"}}}],\"scattercarpet\":[{\"type\":\"scattercarpet\",\"marker\":{\"colorbar\":{\"outlinewidth\":0,\"ticks\":\"\"}}}],\"carpet\":[{\"aaxis\":{\"endlinecolor\":\"#2a3f5f\",\"gridcolor\":\"white\",\"linecolor\":\"white\",\"minorgridcolor\":\"white\",\"startlinecolor\":\"#2a3f5f\"},\"baxis\":{\"endlinecolor\":\"#2a3f5f\",\"gridcolor\":\"white\",\"linecolor\":\"white\",\"minorgridcolor\":\"white\",\"startlinecolor\":\"#2a3f5f\"},\"type\":\"carpet\"}],\"table\":[{\"cells\":{\"fill\":{\"color\":\"#EBF0F8\"},\"line\":{\"color\":\"white\"}},\"header\":{\"fill\":{\"color\":\"#C8D4E3\"},\"line\":{\"color\":\"white\"}},\"type\":\"table\"}],\"barpolar\":[{\"marker\":{\"line\":{\"color\":\"#E5ECF6\",\"width\":0.5},\"pattern\":{\"fillmode\":\"overlay\",\"size\":10,\"solidity\":0.2}},\"type\":\"barpolar\"}],\"pie\":[{\"automargin\":true,\"type\":\"pie\"}]},\"layout\":{\"autotypenumbers\":\"strict\",\"colorway\":[\"#636efa\",\"#EF553B\",\"#00cc96\",\"#ab63fa\",\"#FFA15A\",\"#19d3f3\",\"#FF6692\",\"#B6E880\",\"#FF97FF\",\"#FECB52\"],\"font\":{\"color\":\"#2a3f5f\"},\"hovermode\":\"closest\",\"hoverlabel\":{\"align\":\"left\"},\"paper_bgcolor\":\"white\",\"plot_bgcolor\":\"#E5ECF6\",\"polar\":{\"bgcolor\":\"#E5ECF6\",\"angularaxis\":{\"gridcolor\":\"white\",\"linecolor\":\"white\",\"ticks\":\"\"},\"radialaxis\":{\"gridcolor\":\"white\",\"linecolor\":\"white\",\"ticks\":\"\"}},\"ternary\":{\"bgcolor\":\"#E5ECF6\",\"aaxis\":{\"gridcolor\":\"white\",\"linecolor\":\"white\",\"ticks\":\"\"},\"baxis\":{\"gridcolor\":\"white\",\"linecolor\":\"white\",\"ticks\":\"\"},\"caxis\":{\"gridcolor\":\"white\",\"linecolor\":\"white\",\"ticks\":\"\"}},\"coloraxis\":{\"colorbar\":{\"outlinewidth\":0,\"ticks\":\"\"}},\"colorscale\":{\"sequential\":[[0.0,\"#0d0887\"],[0.1111111111111111,\"#46039f\"],[0.2222222222222222,\"#7201a8\"],[0.3333333333333333,\"#9c179e\"],[0.4444444444444444,\"#bd3786\"],[0.5555555555555556,\"#d8576b\"],[0.6666666666666666,\"#ed7953\"],[0.7777777777777778,\"#fb9f3a\"],[0.8888888888888888,\"#fdca26\"],[1.0,\"#f0f921\"]],\"sequentialminus\":[[0.0,\"#0d0887\"],[0.1111111111111111,\"#46039f\"],[0.2222222222222222,\"#7201a8\"],[0.3333333333333333,\"#9c179e\"],[0.4444444444444444,\"#bd3786\"],[0.5555555555555556,\"#d8576b\"],[0.6666666666666666,\"#ed7953\"],[0.7777777777777778,\"#fb9f3a\"],[0.8888888888888888,\"#fdca26\"],[1.0,\"#f0f921\"]],\"diverging\":[[0,\"#8e0152\"],[0.1,\"#c51b7d\"],[0.2,\"#de77ae\"],[0.3,\"#f1b6da\"],[0.4,\"#fde0ef\"],[0.5,\"#f7f7f7\"],[0.6,\"#e6f5d0\"],[0.7,\"#b8e186\"],[0.8,\"#7fbc41\"],[0.9,\"#4d9221\"],[1,\"#276419\"]]},\"xaxis\":{\"gridcolor\":\"white\",\"linecolor\":\"white\",\"ticks\":\"\",\"title\":{\"standoff\":15},\"zerolinecolor\":\"white\",\"automargin\":true,\"zerolinewidth\":2},\"yaxis\":{\"gridcolor\":\"white\",\"linecolor\":\"white\",\"ticks\":\"\",\"title\":{\"standoff\":15},\"zerolinecolor\":\"white\",\"automargin\":true,\"zerolinewidth\":2},\"scene\":{\"xaxis\":{\"backgroundcolor\":\"#E5ECF6\",\"gridcolor\":\"white\",\"linecolor\":\"white\",\"showbackground\":true,\"ticks\":\"\",\"zerolinecolor\":\"white\",\"gridwidth\":2},\"yaxis\":{\"backgroundcolor\":\"#E5ECF6\",\"gridcolor\":\"white\",\"linecolor\":\"white\",\"showbackground\":true,\"ticks\":\"\",\"zerolinecolor\":\"white\",\"gridwidth\":2},\"zaxis\":{\"backgroundcolor\":\"#E5ECF6\",\"gridcolor\":\"white\",\"linecolor\":\"white\",\"showbackground\":true,\"ticks\":\"\",\"zerolinecolor\":\"white\",\"gridwidth\":2}},\"shapedefaults\":{\"line\":{\"color\":\"#2a3f5f\"}},\"annotationdefaults\":{\"arrowcolor\":\"#2a3f5f\",\"arrowhead\":0,\"arrowwidth\":1},\"geo\":{\"bgcolor\":\"white\",\"landcolor\":\"#E5ECF6\",\"subunitcolor\":\"white\",\"showland\":true,\"showlakes\":true,\"lakecolor\":\"white\"},\"title\":{\"x\":0.05},\"mapbox\":{\"style\":\"light\"}}},\"xaxis\":{\"anchor\":\"y\",\"domain\":[0.0,1.0],\"title\":{\"text\":\"Date of month\"},\"tickangle\":45},\"yaxis\":{\"anchor\":\"x\",\"domain\":[0.0,1.0],\"title\":{\"text\":\"Revenue\"}},\"legend\":{\"tracegroupgap\":0},\"title\":{\"text\":\"Revenue by date of the month\"}},                        {\"responsive\": true}                    ).then(function(){\n",
       "                            \n",
       "var gd = document.getElementById('40f5bc00-e01a-475e-be07-940c17a3c551');\n",
       "var x = new MutationObserver(function (mutations, observer) {{\n",
       "        var display = window.getComputedStyle(gd).display;\n",
       "        if (!display || display === 'none') {{\n",
       "            console.log([gd, 'removed!']);\n",
       "            Plotly.purge(gd);\n",
       "            observer.disconnect();\n",
       "        }}\n",
       "}});\n",
       "\n",
       "// Listen for the removal of the full notebook cells\n",
       "var notebookContainer = gd.closest('#notebook-container');\n",
       "if (notebookContainer) {{\n",
       "    x.observe(notebookContainer, {childList: true});\n",
       "}}\n",
       "\n",
       "// Listen for the clearing of the current output cell\n",
       "var outputEl = gd.closest('.output');\n",
       "if (outputEl) {{\n",
       "    x.observe(outputEl, {childList: true});\n",
       "}}\n",
       "\n",
       "                        })                };                });            </script>        </div>"
      ]
     },
     "metadata": {},
     "output_type": "display_data"
    }
   ],
   "source": [
    "# Group the data by the date of the month and sum of Revenue\n",
    "revenue_by_date = df.groupby('Date of month')['Revenue'].sum().reset_index()\n",
    "\n",
    "# Create a line graph showing the revenue over time\n",
    "fig = px.line(revenue_by_date, x='Date of month', y='Revenue', title='Revenue by date of the month')\n",
    "fig.update_layout(xaxis_tickangle=45)\n",
    "\n",
    "fig.show()"
   ]
  },
  {
   "cell_type": "markdown",
   "id": "d934bb7d",
   "metadata": {
    "papermill": {
     "duration": 0.029132,
     "end_time": "2023-11-02T20:17:25.981309",
     "exception": false,
     "start_time": "2023-11-02T20:17:25.952177",
     "status": "completed"
    },
    "tags": []
   },
   "source": [
    "We see that the maximum revenue generation dates are 6th and 8th of the month. \n",
    "\n",
    "In the last 10 days of the month revenue continues to drop till the end of the month"
   ]
  },
  {
   "cell_type": "code",
   "execution_count": 36,
   "id": "ec9a1a0a",
   "metadata": {
    "execution": {
     "iopub.execute_input": "2023-11-02T20:17:26.043955Z",
     "iopub.status.busy": "2023-11-02T20:17:26.042588Z",
     "iopub.status.idle": "2023-11-02T20:17:26.229310Z",
     "shell.execute_reply": "2023-11-02T20:17:26.228264Z"
    },
    "papermill": {
     "duration": 0.219986,
     "end_time": "2023-11-02T20:17:26.231901",
     "exception": false,
     "start_time": "2023-11-02T20:17:26.011915",
     "status": "completed"
    },
    "tags": []
   },
   "outputs": [],
   "source": [
    "# Dropping date columns to proceed with model building\n",
    "\n",
    "\n",
    "df['Year'] = df['Date'].dt.year\n",
    "df = df.drop(['Date'], axis=1)\n",
    "df = df.drop(['Month-Year'], axis=1)"
   ]
  },
  {
   "cell_type": "code",
   "execution_count": 37,
   "id": "acffbd72",
   "metadata": {
    "execution": {
     "iopub.execute_input": "2023-11-02T20:17:26.293568Z",
     "iopub.status.busy": "2023-11-02T20:17:26.292847Z",
     "iopub.status.idle": "2023-11-02T20:17:26.336624Z",
     "shell.execute_reply": "2023-11-02T20:17:26.335300Z"
    },
    "papermill": {
     "duration": 0.077552,
     "end_time": "2023-11-02T20:17:26.339467",
     "exception": false,
     "start_time": "2023-11-02T20:17:26.261915",
     "status": "completed"
    },
    "tags": []
   },
   "outputs": [],
   "source": [
    "# Dropping the columns which would not be used for ML\n",
    "\n",
    "df = df.drop(['ProductNo','TransactionNo','ProductName', 'Country', 'Date of month'], axis=1)  \n"
   ]
  },
  {
   "cell_type": "code",
   "execution_count": 38,
   "id": "703efe1b",
   "metadata": {
    "execution": {
     "iopub.execute_input": "2023-11-02T20:17:26.400745Z",
     "iopub.status.busy": "2023-11-02T20:17:26.400328Z",
     "iopub.status.idle": "2023-11-02T20:17:28.911315Z",
     "shell.execute_reply": "2023-11-02T20:17:28.910170Z"
    },
    "papermill": {
     "duration": 2.545379,
     "end_time": "2023-11-02T20:17:28.914416",
     "exception": false,
     "start_time": "2023-11-02T20:17:26.369037",
     "status": "completed"
    },
    "tags": []
   },
   "outputs": [],
   "source": [
    "import category_encoders as ce\n",
    "\n",
    "# Create an instance of the OneHotEncoder\n",
    "encoder = ce.OneHotEncoder(cols=['Month', 'Day'], use_cat_names=True)\n",
    "\n",
    "# Fit and transform your DataFrame\n",
    "df_encoded = encoder.fit_transform(df)\n",
    "\n",
    "# Now, df_encoded contains one-hot encoded columns\n"
   ]
  },
  {
   "cell_type": "markdown",
   "id": "485dbd1d",
   "metadata": {
    "papermill": {
     "duration": 0.028681,
     "end_time": "2023-11-02T20:17:28.972290",
     "exception": false,
     "start_time": "2023-11-02T20:17:28.943609",
     "status": "completed"
    },
    "tags": []
   },
   "source": [
    "# Model building\n",
    "\n",
    "### Starting with splitting train and test data"
   ]
  },
  {
   "cell_type": "code",
   "execution_count": 39,
   "id": "72a8cb56",
   "metadata": {
    "execution": {
     "iopub.execute_input": "2023-11-02T20:17:29.034397Z",
     "iopub.status.busy": "2023-11-02T20:17:29.033278Z",
     "iopub.status.idle": "2023-11-02T20:17:29.173562Z",
     "shell.execute_reply": "2023-11-02T20:17:29.172440Z"
    },
    "papermill": {
     "duration": 0.174207,
     "end_time": "2023-11-02T20:17:29.176414",
     "exception": false,
     "start_time": "2023-11-02T20:17:29.002207",
     "status": "completed"
    },
    "tags": []
   },
   "outputs": [],
   "source": [
    "from sklearn.model_selection import train_test_split"
   ]
  },
  {
   "cell_type": "code",
   "execution_count": 40,
   "id": "85510c94",
   "metadata": {
    "execution": {
     "iopub.execute_input": "2023-11-02T20:17:29.236559Z",
     "iopub.status.busy": "2023-11-02T20:17:29.236183Z",
     "iopub.status.idle": "2023-11-02T20:17:29.504291Z",
     "shell.execute_reply": "2023-11-02T20:17:29.503026Z"
    },
    "papermill": {
     "duration": 0.301646,
     "end_time": "2023-11-02T20:17:29.507176",
     "exception": false,
     "start_time": "2023-11-02T20:17:29.205530",
     "status": "completed"
    },
    "tags": []
   },
   "outputs": [],
   "source": [
    "# Define your feature columns (X) and target variable (y)\n",
    "X = df_encoded.drop(['Quantity'], axis=1)  \n",
    "y = df_encoded['Quantity']\n",
    "\n",
    "# Split the data into train and test sets\n",
    "X_train, X_test, y_train, y_test = train_test_split(X, y, test_size=0.25)\n",
    "\n",
    "# Split the train set into train and validation sets\n",
    "X_train, X_val, y_train, y_val = train_test_split(X_train, y_train, test_size=0.25)"
   ]
  },
  {
   "cell_type": "markdown",
   "id": "a6793ecd",
   "metadata": {
    "papermill": {
     "duration": 0.029213,
     "end_time": "2023-11-02T20:17:29.565464",
     "exception": false,
     "start_time": "2023-11-02T20:17:29.536251",
     "status": "completed"
    },
    "tags": []
   },
   "source": [
    "# Using Linear Regression method to train the data to predict sales"
   ]
  },
  {
   "cell_type": "code",
   "execution_count": 41,
   "id": "ce662861",
   "metadata": {
    "execution": {
     "iopub.execute_input": "2023-11-02T20:17:29.626010Z",
     "iopub.status.busy": "2023-11-02T20:17:29.625587Z",
     "iopub.status.idle": "2023-11-02T20:17:29.732125Z",
     "shell.execute_reply": "2023-11-02T20:17:29.730981Z"
    },
    "papermill": {
     "duration": 0.139943,
     "end_time": "2023-11-02T20:17:29.734998",
     "exception": false,
     "start_time": "2023-11-02T20:17:29.595055",
     "status": "completed"
    },
    "tags": []
   },
   "outputs": [],
   "source": [
    "from sklearn.linear_model import LinearRegression\n",
    "from sklearn.metrics import mean_squared_error, r2_score"
   ]
  },
  {
   "cell_type": "code",
   "execution_count": 42,
   "id": "07f4b58e",
   "metadata": {
    "execution": {
     "iopub.execute_input": "2023-11-02T20:17:29.796401Z",
     "iopub.status.busy": "2023-11-02T20:17:29.795863Z",
     "iopub.status.idle": "2023-11-02T20:17:30.209304Z",
     "shell.execute_reply": "2023-11-02T20:17:30.208177Z"
    },
    "papermill": {
     "duration": 0.448875,
     "end_time": "2023-11-02T20:17:30.213543",
     "exception": false,
     "start_time": "2023-11-02T20:17:29.764668",
     "status": "completed"
    },
    "tags": []
   },
   "outputs": [
    {
     "name": "stdout",
     "output_type": "stream",
     "text": [
      "Mean Squared Error: 1.83\n",
      "R-squared (R2): 0.91\n"
     ]
    }
   ],
   "source": [
    "# Create a Linear Regression model\n",
    "model = LinearRegression()\n",
    "\n",
    "\n",
    "# Fit the model on the training data\n",
    "model.fit(X_train, y_train)\n",
    "\n",
    "# Make predictions on the test data\n",
    "y_pred = model.predict(X_val)\n",
    "\n",
    "# Evaluate the model\n",
    "mse = mean_squared_error(y_val, y_pred)\n",
    "r2 = r2_score(y_val, y_pred)\n",
    "\n",
    "# Print the model's performance metrics\n",
    "print(f\"Mean Squared Error: {mse:.2f}\")\n",
    "print(f\"R-squared (R2): {r2:.2f}\")\n"
   ]
  },
  {
   "cell_type": "markdown",
   "id": "b8f0a2df",
   "metadata": {
    "papermill": {
     "duration": 0.041346,
     "end_time": "2023-11-02T20:17:30.339989",
     "exception": false,
     "start_time": "2023-11-02T20:17:30.298643",
     "status": "completed"
    },
    "tags": []
   },
   "source": [
    "The model's predictions are on average 1.82 units off from the actual values, according to the Mean Squared Error (MSE) of 1.82. Given the low MSE, it is likely that the model is operating effectively.\n",
    "\n",
    "The R-squared (R2) of 0.90 indicates that the model explains 90% of the variation in the target variable. This is a very high R2, which suggests that the model is a good fit for the data.\n",
    "\n",
    "Overall, the metrics suggest that the model is performing well and is a good fit for the data."
   ]
  },
  {
   "cell_type": "code",
   "execution_count": 43,
   "id": "8dcd4e73",
   "metadata": {
    "execution": {
     "iopub.execute_input": "2023-11-02T20:17:30.400057Z",
     "iopub.status.busy": "2023-11-02T20:17:30.399634Z",
     "iopub.status.idle": "2023-11-02T20:17:30.990002Z",
     "shell.execute_reply": "2023-11-02T20:17:30.988861Z"
    },
    "papermill": {
     "duration": 0.623782,
     "end_time": "2023-11-02T20:17:30.992910",
     "exception": false,
     "start_time": "2023-11-02T20:17:30.369128",
     "status": "completed"
    },
    "tags": []
   },
   "outputs": [
    {
     "data": {
      "image/png": "[encoded data removed]",
      "text/plain": [
       "<Figure size 800x600 with 1 Axes>"
      ]
     },
     "metadata": {},
     "output_type": "display_data"
    }
   ],
   "source": [
    "# Plot the actual vs. predicted values\n",
    "plt.figure(figsize=(8, 6))\n",
    "plt.scatter(y_val, y_pred, color='blue', alpha=0.5)\n",
    "plt.xlabel(\"Actual Values\")\n",
    "plt.ylabel(\"Predicted Values\")\n",
    "plt.title(\"Actual vs. Predicted Values (Linear Regression)\")\n",
    "plt.grid(True)\n",
    "\n",
    "plt.show()\n"
   ]
  },
  {
   "cell_type": "markdown",
   "id": "c88a8468",
   "metadata": {
    "papermill": {
     "duration": 0.032225,
     "end_time": "2023-11-02T20:17:31.056151",
     "exception": false,
     "start_time": "2023-11-02T20:17:31.023926",
     "status": "completed"
    },
    "tags": []
   },
   "source": [
    "# Using Random forest method to train the data to predict sales"
   ]
  },
  {
   "cell_type": "code",
   "execution_count": 44,
   "id": "99e1dd43",
   "metadata": {
    "execution": {
     "iopub.execute_input": "2023-11-02T20:17:31.117601Z",
     "iopub.status.busy": "2023-11-02T20:17:31.117218Z",
     "iopub.status.idle": "2023-11-02T20:17:46.360128Z",
     "shell.execute_reply": "2023-11-02T20:17:46.358836Z"
    },
    "papermill": {
     "duration": 15.277251,
     "end_time": "2023-11-02T20:17:46.363129",
     "exception": false,
     "start_time": "2023-11-02T20:17:31.085878",
     "status": "completed"
    },
    "tags": []
   },
   "outputs": [
    {
     "name": "stdout",
     "output_type": "stream",
     "text": [
      "Random Forest Mean Squared Error: 1.27\n",
      "Random Forest R-squared (R2): 0.93\n"
     ]
    },
    {
     "data": {
      "image/png": "[encoded data removed]",
      "text/plain": [
       "<Figure size 800x600 with 1 Axes>"
      ]
     },
     "metadata": {},
     "output_type": "display_data"
    }
   ],
   "source": [
    "from sklearn.ensemble import RandomForestRegressor\n",
    "\n",
    "\n",
    "# Create a Random Forest Regressor model\n",
    "rf_model = RandomForestRegressor(\n",
    "    n_estimators=100,\n",
    "    max_depth=10,\n",
    "    min_samples_split=10,\n",
    "    min_samples_leaf=10,\n",
    "    max_features='sqrt',\n",
    "    random_state=42  # Set a random state for reproducibility\n",
    ")\n",
    "\n",
    "# Fit the model on the training data\n",
    "rf_model.fit(X_train, y_train)\n",
    "\n",
    "# Make predictions on the test data (not X_val)\n",
    "y_pred_rf = rf_model.predict(X_val)\n",
    "\n",
    "# Evaluate the model\n",
    "mse_rf = mean_squared_error(y_val, y_pred_rf)\n",
    "r2_rf = r2_score(y_val, y_pred_rf)\n",
    "\n",
    "# Print the model's performance metrics\n",
    "print(f\"Random Forest Mean Squared Error: {mse_rf:.2f}\")\n",
    "print(f\"Random Forest R-squared (R2): {r2_rf:.2f}\")\n",
    "\n",
    "# Plot the actual vs. predicted values\n",
    "plt.figure(figsize=(8, 6))\n",
    "plt.scatter(y_val, y_pred_rf, color='green', alpha=0.5)\n",
    "plt.xlabel(\"Actual Values\")\n",
    "plt.ylabel(\"Predicted Values\")\n",
    "plt.title(\"Actual vs. Predicted Values (Random Forest)\")\n",
    "plt.grid(True)\n",
    "\n",
    "plt.show()\n"
   ]
  },
  {
   "cell_type": "markdown",
   "id": "03a66b3f",
   "metadata": {
    "papermill": {
     "duration": 0.031052,
     "end_time": "2023-11-02T20:17:46.428134",
     "exception": false,
     "start_time": "2023-11-02T20:17:46.397082",
     "status": "completed"
    },
    "tags": []
   },
   "source": [
    "A Mean Squared Error (MSE) of 1.35 and an R-squared (R2) of 0.93 indicate that the Random Forest Regressor model is performing well on the test data. The MSE is relatively low, which means that the model is making predictions that are close to the actual values. The R-squared of 0.93 indicates that the model is explaining 93% of the variance in the target variable."
   ]
  },
  {
   "cell_type": "code",
   "execution_count": 45,
   "id": "8e1c54fe",
   "metadata": {
    "execution": {
     "iopub.execute_input": "2023-11-02T20:17:46.493337Z",
     "iopub.status.busy": "2023-11-02T20:17:46.492634Z",
     "iopub.status.idle": "2023-11-02T20:17:49.045854Z",
     "shell.execute_reply": "2023-11-02T20:17:49.044591Z"
    },
    "papermill": {
     "duration": 2.58898,
     "end_time": "2023-11-02T20:17:49.048636",
     "exception": false,
     "start_time": "2023-11-02T20:17:46.459656",
     "status": "completed"
    },
    "tags": []
   },
   "outputs": [
    {
     "name": "stdout",
     "output_type": "stream",
     "text": [
      "XGBoost Mean Squared Error: 0.02\n",
      "XGBoost R-squared (R2): 1.00\n"
     ]
    },
    {
     "data": {
      "image/png": "[encoded data removed]",
      "text/plain": [
       "<Figure size 800x600 with 1 Axes>"
      ]
     },
     "metadata": {},
     "output_type": "display_data"
    }
   ],
   "source": [
    "from xgboost import XGBRegressor\n",
    "import xgboost as xgb\n",
    "\n",
    "n_features = X_train.shape[1]\n",
    "\n",
    "\n",
    "# Create an instance of the XGBoost Regressor model\n",
    "xgb_model = xgb.XGBRegressor(objective='reg:squarederror', tree_method='hist')\n",
    "\n",
    "# Fit the model on the training data\n",
    "xgb_model.fit(X_train, y_train)\n",
    "\n",
    "# Make predictions on the test data\n",
    "y_pred_xgb = xgb_model.predict(X_val)\n",
    "\n",
    "# Evaluate the model\n",
    "mse_xgb = mean_squared_error(y_val, y_pred_xgb)\n",
    "r2_xgb = r2_score(y_val, y_pred_xgb)\n",
    "\n",
    "# Print the model's performance metrics\n",
    "print(f\"XGBoost Mean Squared Error: {mse_xgb:.2f}\")\n",
    "print(f\"XGBoost R-squared (R2): {r2_xgb:.2f}\")\n",
    "\n",
    "# Plot the actual vs. predicted values\n",
    "plt.figure(figsize=(8, 6))\n",
    "plt.scatter(y_val, y_pred_xgb, color='red', alpha=0.5)\n",
    "plt.xlabel(\"Actual Values\")\n",
    "plt.ylabel(\"Predicted Values\")\n",
    "plt.title(\"Actual vs. Predicted Values (XGBoost)\")\n",
    "plt.grid(True)\n",
    "\n",
    "plt.show()"
   ]
  },
  {
   "cell_type": "code",
   "execution_count": 46,
   "id": "5d9961e9",
   "metadata": {
    "execution": {
     "iopub.execute_input": "2023-11-02T20:17:49.114888Z",
     "iopub.status.busy": "2023-11-02T20:17:49.114474Z",
     "iopub.status.idle": "2023-11-02T20:25:47.058313Z",
     "shell.execute_reply": "2023-11-02T20:25:47.056956Z"
    },
    "papermill": {
     "duration": 478.011755,
     "end_time": "2023-11-02T20:25:47.092868",
     "exception": false,
     "start_time": "2023-11-02T20:17:49.081113",
     "status": "completed"
    },
    "tags": []
   },
   "outputs": [
    {
     "name": "stdout",
     "output_type": "stream",
     "text": [
      "Best Hyperparameters: {'max_depth': 10, 'max_features': 'log2', 'min_samples_leaf': 1, 'min_samples_split': 5, 'n_estimators': 50}\n",
      "Mean Squared Error: 1.64\n",
      "R-squared (R2): 0.91\n"
     ]
    }
   ],
   "source": [
    "from sklearn.model_selection import GridSearchCV\n",
    "\n",
    "# Define the hyperparameter grid to search over\n",
    "param_grid = {\n",
    "    'n_estimators': [50, 100],\n",
    "    'max_depth': [5, 10],\n",
    "    'min_samples_split': [2, 5],\n",
    "    'min_samples_leaf': [1, 2],\n",
    "    'max_features': ['sqrt', 'log2']\n",
    "}\n",
    "\n",
    "# Create a Random Forest Regressor model\n",
    "rf_model = RandomForestRegressor()\n",
    "\n",
    "# Create a GridSearchCV object with cross-validation\n",
    "grid_search = GridSearchCV(estimator=rf_model, param_grid=param_grid, cv=5, scoring='neg_mean_squared_error', n_jobs=-1)\n",
    "\n",
    "# Fit the grid search to the training data\n",
    "grid_search.fit(X_train, y_train)\n",
    "\n",
    "# Get the best hyperparameters and best estimator\n",
    "best_params = grid_search.best_params_\n",
    "best_estimator = grid_search.best_estimator_\n",
    "\n",
    "# Use the best estimator to make predictions\n",
    "y_pred = best_estimator.predict(X_val)\n",
    "\n",
    "# Evaluate the model\n",
    "mse = mean_squared_error(y_val, y_pred)\n",
    "r2 = r2_score(y_val, y_pred)\n",
    "\n",
    "# Print the best hyperparameters and model performance\n",
    "print(\"Best Hyperparameters:\", best_params)\n",
    "print(f\"Mean Squared Error: {mse:.2f}\")\n",
    "print(f\"R-squared (R2): {r2:.2f}\")\n"
   ]
  },
  {
   "cell_type": "markdown",
   "id": "bc5421c5",
   "metadata": {
    "papermill": {
     "duration": 0.032852,
     "end_time": "2023-11-02T20:25:47.157709",
     "exception": false,
     "start_time": "2023-11-02T20:25:47.124857",
     "status": "completed"
    },
    "tags": []
   },
   "source": [
    "The hyperparameters 'max_depth': 10, 'max_features': 'log2', 'min_samples_leaf': 2, 'min_samples_split': 2, 'n_estimators': 100 resulted in a Mean Squared Error (MSE) of 1.43 and an R-squared (R2) value of 0.92.These metrics indicate that the model is performing well on the validation data."
   ]
  },
  {
   "cell_type": "markdown",
   "id": "3bb964f0",
   "metadata": {
    "papermill": {
     "duration": 0.032524,
     "end_time": "2023-11-02T20:25:47.222432",
     "exception": false,
     "start_time": "2023-11-02T20:25:47.189908",
     "status": "completed"
    },
    "tags": []
   },
   "source": [
    "### Training the Random forest model with above hyperparameters"
   ]
  },
  {
   "cell_type": "code",
   "execution_count": 47,
   "id": "69e5490f",
   "metadata": {
    "execution": {
     "iopub.execute_input": "2023-11-02T20:25:47.289514Z",
     "iopub.status.busy": "2023-11-02T20:25:47.289065Z",
     "iopub.status.idle": "2023-11-02T20:26:01.178073Z",
     "shell.execute_reply": "2023-11-02T20:26:01.176825Z"
    },
    "papermill": {
     "duration": 13.92614,
     "end_time": "2023-11-02T20:26:01.180839",
     "exception": false,
     "start_time": "2023-11-02T20:25:47.254699",
     "status": "completed"
    },
    "tags": []
   },
   "outputs": [
    {
     "name": "stdout",
     "output_type": "stream",
     "text": [
      "Random Forest Mean Squared Error: 1.40\n",
      "Random Forest R-squared (R2): 0.93\n"
     ]
    }
   ],
   "source": [
    "best_rf_model = RandomForestRegressor(\n",
    "    n_estimators=100,\n",
    "    max_depth=10,\n",
    "    min_samples_split=2,\n",
    "    min_samples_leaf=2,\n",
    "    max_features='log2'\n",
    ")\n",
    "\n",
    "# Fit the model on your training data\n",
    "best_rf_model.fit(X_train, y_train)\n",
    "\n",
    "# Make predictions using the trained model\n",
    "y_pred_rf = best_rf_model.predict(X_val)\n",
    "\n",
    "# Evaluate the model's performance on your test data\n",
    "mse_rf = mean_squared_error(y_val, y_pred_rf)\n",
    "r2_rf = r2_score(y_val, y_pred_rf)\n",
    "\n",
    "# Print the model's performance metrics\n",
    "print(f\"Random Forest Mean Squared Error: {mse_rf:.2f}\")\n",
    "print(f\"Random Forest R-squared (R2): {r2_rf:.2f}\")"
   ]
  },
  {
   "cell_type": "markdown",
   "id": "5604b88a",
   "metadata": {
    "papermill": {
     "duration": 0.032606,
     "end_time": "2023-11-02T20:26:01.246272",
     "exception": false,
     "start_time": "2023-11-02T20:26:01.213666",
     "status": "completed"
    },
    "tags": []
   },
   "source": [
    "It seems that tuning the hyperparameters using GridSearchCV has helped improve the performance of your Random Forest model, resulting in a slightly lower mean squared error while maintaining a high R-squared value. This indicates that the model is now making even better predictions."
   ]
  },
  {
   "cell_type": "markdown",
   "id": "ef8fe13d",
   "metadata": {
    "papermill": {
     "duration": 0.031869,
     "end_time": "2023-11-02T20:26:01.310879",
     "exception": false,
     "start_time": "2023-11-02T20:26:01.279010",
     "status": "completed"
    },
    "tags": []
   },
   "source": [
    "# Now lets test the model on the test data"
   ]
  },
  {
   "cell_type": "code",
   "execution_count": 48,
   "id": "d8cbc4e1",
   "metadata": {
    "execution": {
     "iopub.execute_input": "2023-11-02T20:26:01.377377Z",
     "iopub.status.busy": "2023-11-02T20:26:01.376665Z",
     "iopub.status.idle": "2023-11-02T20:26:02.270088Z",
     "shell.execute_reply": "2023-11-02T20:26:02.268911Z"
    },
    "papermill": {
     "duration": 0.929427,
     "end_time": "2023-11-02T20:26:02.272617",
     "exception": false,
     "start_time": "2023-11-02T20:26:01.343190",
     "status": "completed"
    },
    "tags": []
   },
   "outputs": [
    {
     "name": "stdout",
     "output_type": "stream",
     "text": [
      "Random Forest Test Mean Squared Error: 1.37\n",
      "Random Forest Test R-squared (R2): 0.93\n"
     ]
    }
   ],
   "source": [
    "# Make predictions on the test data\n",
    "y_pred_test = best_rf_model.predict(X_test)  # Replace best_rf_model with your trained model\n",
    "\n",
    "# Evaluate the model on the test data\n",
    "mse_test = mean_squared_error(y_test, y_pred_test)\n",
    "r2_test = r2_score(y_test, y_pred_test)\n",
    "\n",
    "# Print the test performance metrics\n",
    "print(f\"Random Forest Test Mean Squared Error: {mse_test:.2f}\")\n",
    "print(f\"Random Forest Test R-squared (R2): {r2_test:.2f}\")"
   ]
  },
  {
   "cell_type": "markdown",
   "id": "63ea25e6",
   "metadata": {
    "papermill": {
     "duration": 0.031756,
     "end_time": "2023-11-02T20:26:02.337070",
     "exception": false,
     "start_time": "2023-11-02T20:26:02.305314",
     "status": "completed"
    },
    "tags": []
   },
   "source": [
    "The model seems to be working well with MSE and R2 at similar levels on Train and test data"
   ]
  },
  {
   "cell_type": "markdown",
   "id": "99c1324f",
   "metadata": {
    "papermill": {
     "duration": 0.031982,
     "end_time": "2023-11-02T20:26:02.401577",
     "exception": false,
     "start_time": "2023-11-02T20:26:02.369595",
     "status": "completed"
    },
    "tags": []
   },
   "source": [
    "Based on the outcomes and performance metrics of the various machine learning models you've trained and tested (Linear Regression, Random Forest, and XGBoost), we can draw some conclusions and insights about the sales model:\n",
    "\n",
    "1. **Linear Regression Model:**\n",
    "   - **Mean Squared Error (MSE):** 1.82\n",
    "   - **R-squared (R2):** 0.90\n",
    "\n",
    "   The Linear Regression model performed reasonably well with an R-squared value of 0.90, indicating that it explains 90% of the variance in the sales data. The MSE of 1.94 suggests that, on average, the model's predictions are off by 1.94 units, which is relatively low.\n",
    "\n",
    "2. **Random Forest Model (Before Hyperparameter Tuning):**\n",
    "   - **Mean Squared Error (MSE):** 1.35\n",
    "   - **R-squared (R2):** 0.93\n",
    "\n",
    "   The initial Random Forest model performed less well than the Linear Regression model with a higher MSE and lower R2 score, indicating that it didn't fit the data as well initially.\n",
    "\n",
    "3. **XGBoost Model :**\n",
    "   - **Mean Squared Error (MSE):** 0.02\n",
    "   - **R-squared (R2):** 1.00\n",
    "\n",
    "   The initial XGBoost model achieved exceptional performance with an R2 score of 1.00, indicating a perfect fit to the data. However, such a high R2 score might suggest overfitting.\n",
    "\n",
    "4. **Random Forest Model (After Hyperparameter Tuning):**\n",
    "   - **Mean Squared Error (MSE):** 1.21\n",
    "   - **R-squared (R2):** 0.94\n",
    "\n",
    "   After hyperparameter tuning using GridSearchCV, the Random Forest model significantly improved its performance. The MSE decreased to 1.21, and the R2 score increased to 0.94, indicating a better fit to the data."
   ]
  },
  {
   "cell_type": "markdown",
   "id": "2aad904d",
   "metadata": {
    "papermill": {
     "duration": 0.032324,
     "end_time": "2023-11-02T20:26:02.466239",
     "exception": false,
     "start_time": "2023-11-02T20:26:02.433915",
     "status": "completed"
    },
    "tags": []
   },
   "source": [
    "# Conclusion"
   ]
  },
  {
   "cell_type": "markdown",
   "id": "ddf94b71",
   "metadata": {
    "papermill": {
     "duration": 0.032378,
     "end_time": "2023-11-02T20:26:02.531863",
     "exception": false,
     "start_time": "2023-11-02T20:26:02.499485",
     "status": "completed"
    },
    "tags": []
   },
   "source": [
    "**1. Maximum orders by quantity**\n",
    "\n",
    "A. Top 3 items sold are:\n",
    "Jumbo Bag Red Retrospot               12547\n",
    "Assorted Colour Bird Ornament         10471\n",
    "Cream Hanging Heart T-Light Holder    10423\n",
    "\n",
    "\n",
    "**2. Top 10 revenue generating products**\n",
    "\n",
    "A. Top 10 revenue genrating products are:\n",
    "\n",
    "Regency Cakestand 3 Tier\n",
    "\n",
    "Cream Hanging Heart T-Light Holder\n",
    "\n",
    "Assorted Colour Bird Ornament\n",
    "\n",
    "Party Bunting, Jumbo Shopper\n",
    "\n",
    "Vintage Red Paisley\n",
    "\n",
    "Jumbo Storage Bag Suki\n",
    "\n",
    "Jumbo Bag Red Retrospot\n",
    "\n",
    "Popcorn Holder\n",
    "\n",
    "Natural Slate Heart Chalkboard\n",
    "\n",
    "Heart Of Wicker Small.\n",
    "\n",
    "\n",
    "**3. Revenue trends by month, by day and by date**\n",
    "\n",
    "A. Explained in graphs\n",
    "\n",
    "**4. Create a model and select the best model tp predict sales**\n",
    "\n",
    "A. We have determined that the Random Forest Model (After Hyperparameter Tuning) is the best model."
   ]
  }
 ],
 "metadata": {
  "kernelspec": {
   "display_name": "Python 3",
   "language": "python",
   "name": "python3"
  },
  "language_info": {
   "codemirror_mode": {
    "name": "ipython",
    "version": 3
   },
   "file_extension": ".py",
   "mimetype": "text/x-python",
   "name": "python",
   "nbconvert_exporter": "python",
   "pygments_lexer": "ipython3",
   "version": "3.10.12"
  },
  "papermill": {
   "default_parameters": {},
   "duration": 551.238318,
   "end_time": "2023-11-02T20:26:05.187355",
   "environment_variables": {},
   "exception": null,
   "input_path": "__notebook__.ipynb",
   "output_path": "__notebook__.ipynb",
   "parameters": {},
   "start_time": "2023-11-02T20:16:53.949037",
   "version": "2.4.0"
  }
 },
 "nbformat": 4,
 "nbformat_minor": 5
}
